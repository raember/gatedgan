{
 "cells": [
  {
   "cell_type": "code",
   "execution_count": 9,
   "metadata": {},
   "outputs": [],
   "source": [
    "import torch \n",
    "from torch.utils.data import DataLoader\n",
    "import torchvision.transforms as transforms\n",
    "import torchvision\n",
    "from torchvision.transforms.functional import InterpolationMode\n",
    "from torch.utils.data import Dataset\n",
    "from ipywidgets import interact, widgets\n",
    "import matplotlib.pyplot as plt \n",
    "from PIL import Image\n",
    "%matplotlib inline\n"
   ]
  },
  {
   "cell_type": "code",
   "execution_count": 10,
   "metadata": {},
   "outputs": [],
   "source": [
    "from models import *\n",
    "from data import *"
   ]
  },
  {
   "cell_type": "markdown",
   "metadata": {},
   "source": [
    "##### Initialize Generator"
   ]
  },
  {
   "cell_type": "code",
   "execution_count": 11,
   "metadata": {},
   "outputs": [],
   "source": [
    "gen = Generator(3,3,4,64)"
   ]
  },
  {
   "cell_type": "code",
   "execution_count": 12,
   "metadata": {},
   "outputs": [
    {
     "data": {
      "text/plain": [
       "<All keys matched successfully>"
      ]
     },
     "execution_count": 12,
     "metadata": {},
     "output_type": "execute_result"
    }
   ],
   "source": [
    "gen.load_state_dict(torch.load('output/netG_9.pth', map_location='cpu'))"
   ]
  },
  {
   "cell_type": "markdown",
   "metadata": {},
   "source": [
    "###### Define Image Transforms"
   ]
  },
  {
   "cell_type": "code",
   "execution_count": 13,
   "metadata": {},
   "outputs": [],
   "source": [
    "transforms_ = [\n",
    "    transforms.Resize(int(300), InterpolationMode.BICUBIC), \n",
    "    transforms.RandomCrop(256), \n",
    "    #transforms.RandomVerticalFlip(p=0),\n",
    "    transforms.ToTensor(),\n",
    "    transforms.Normalize((0.5,0.5,0.5), (0.5,0.5,0.5)) \n",
    "]\n",
    "\n",
    "transform = transforms.Compose(transforms_)"
   ]
  },
  {
   "cell_type": "code",
   "execution_count": 14,
   "metadata": {},
   "outputs": [],
   "source": [
    "def tensor2image(tensor):\n",
    "    image = 127.5*(tensor[0].cpu().float().detach().numpy() + 1.0)\n",
    "    return image.astype(np.uint8)"
   ]
  },
  {
   "cell_type": "markdown",
   "metadata": {},
   "source": [
    "##### Every Slider Update Re-Loads Image with Random Crop\n",
    "##### Image must be .JPG or .jpeg"
   ]
  },
  {
   "cell_type": "code",
   "execution_count": 15,
   "metadata": {},
   "outputs": [],
   "source": [
    "#path = 'Screen Shot 2019-05-29 at 6.31.27 PM.jpg' #set image path\n",
    "path = '../ds2_dense/images/lg-43269070-aug-beethoven--page-27.png'"
   ]
  },
  {
   "cell_type": "code",
   "execution_count": 36,
   "metadata": {
    "scrolled": false
   },
   "outputs": [
    {
     "data": {
      "application/vnd.jupyter.widget-view+json": {
       "model_id": "da7a7aaa15da4a78a73cbae3fce9982e",
       "version_major": 2,
       "version_minor": 0
      },
      "text/plain": [
       "interactive(children=(FloatSlider(value=0.0, continuous_update=False, description='vango', max=1.0, step=0.01)…"
      ]
     },
     "metadata": {},
     "output_type": "display_data"
    }
   ],
   "source": [
    "from IPython.display import clear_output\n",
    "\n",
    "orig_im = Image.open(path)\n",
    "\n",
    "# fig = plt.figure(figsize=(6,6))\n",
    "# plt.ion()\n",
    "# fig1, ax1 = plt.subplots()\n",
    "# axim1 = ax1.imshow(Image.open(path))\n",
    "# ax = fig.add_subplot(111).imshow(orig_im)\n",
    "@interact(\n",
    "          vango=widgets.FloatSlider(min=0,max=1,step=.01,value=0,continuous_update=False)\n",
    "          ,ukyo=widgets.FloatSlider(min=0,max=1,step=.01,value=0,continuous_update=False)\n",
    "          ,monet=widgets.FloatSlider(min=0,max=1,step=.01,value=0,continuous_update=False)\n",
    "          ,cezan=widgets.FloatSlider(min=0,max=1,step=.01,value=0,continuous_update=False)\n",
    "          ,ident=widgets.FloatSlider(min=.01,max=1,step=.01,value=1,continuous_update=False))\n",
    "def generate_image(vango,ukyo,monet,cezan,ident, flip90=False):\n",
    "    generator = gen\n",
    "    content = transform(orig_im)\n",
    "    Tensor = torch.Tensor\n",
    "    input_A = Tensor(1, 3, 128, 128)\n",
    "    real_A = input_A.copy_(content)\n",
    "    \n",
    "    generated = gen({\n",
    "        'content': real_A,\n",
    "        'style_label': [[cezan,monet,ukyo,vango,ident]]   \n",
    "    })\n",
    "    im=tensor2image(generated.data)\n",
    "    if flip90:\n",
    "        im=im.transpose(2,1,0)\n",
    "    else:\n",
    "        im=im.transpose(1,2,0)\n",
    "    #fig = plt.figure(figsize=(6,6))\n",
    "    #ax = fig.add_subplot(111)  \n",
    "    #ax.imshow(im)\n",
    "    #axim1.set_data(im)\n",
    "    #fig1.canvas.flush_events()\n",
    "    plt.imshow(im)\n",
    "    plt.show()\n",
    "    clear_output(wait=True)\n",
    "\n"
   ]
  },
  {
   "cell_type": "code",
   "execution_count": 16,
   "metadata": {},
   "outputs": [
    {
     "data": {
      "application/vnd.jupyter.widget-view+json": {
       "model_id": "10c8cc54712d471fbac67ec70f75de5e",
       "version_major": 2,
       "version_minor": 0
      },
      "text/plain": [
       "interactive(children=(FloatSlider(value=0.0, continuous_update=False, description='ili', max=1.0, step=0.01), …"
      ]
     },
     "metadata": {},
     "output_type": "display_data"
    }
   ],
   "source": [
    "from IPython.display import clear_output\n",
    "\n",
    "orig_im = Image.open(path)\n",
    "\n",
    "# fig = plt.figure(figsize=(6,6))\n",
    "# plt.ion()\n",
    "# fig1, ax1 = plt.subplots()\n",
    "# axim1 = ax1.imshow(Image.open(path))\n",
    "# ax = fig.add_subplot(111).imshow(orig_im)\n",
    "@interact(\n",
    "          ili=widgets.FloatSlider(min=0,max=1,step=.01,value=0,continuous_update=False),\n",
    "          yellowed=widgets.FloatSlider(min=0,max=1,step=.01,value=0,continuous_update=False),\n",
    "          ident=widgets.FloatSlider(min=.01,max=1,step=.01,value=1,continuous_update=False))\n",
    "def generate_image(ili, yellowed, ident, flip90=False):\n",
    "    generator = gen\n",
    "    content = transform(orig_im)\n",
    "    Tensor = torch.Tensor\n",
    "    input_A = Tensor(1, 3, 256, 256)\n",
    "    real_A = input_A.copy_(content)\n",
    "    \n",
    "    generated = gen({\n",
    "        'content': real_A,\n",
    "        'style_label': [[ili, yellowed, ident]]   \n",
    "    })\n",
    "    im=tensor2image(generated.data)\n",
    "    if flip90:\n",
    "        im=im.transpose(2,1,0)\n",
    "    else:\n",
    "        im=im.transpose(1,2,0)\n",
    "    #fig = plt.figure(figsize=(6,6))\n",
    "    #ax = fig.add_subplot(111)  \n",
    "    #ax.imshow(im)\n",
    "    #axim1.set_data(im)\n",
    "    #fig1.canvas.flush_events()\n",
    "    plt.imshow(im)\n",
    "    plt.show()\n",
    "    clear_output(wait=True)\n",
    "\n"
   ]
  }
 ],
 "metadata": {
  "kernelspec": {
   "display_name": "Python 3 (ipykernel)",
   "language": "python",
   "name": "python3"
  },
  "language_info": {
   "codemirror_mode": {
    "name": "ipython",
    "version": 3
   },
   "file_extension": ".py",
   "mimetype": "text/x-python",
   "name": "python",
   "nbconvert_exporter": "python",
   "pygments_lexer": "ipython3",
   "version": "3.8.11"
  }
 },
 "nbformat": 4,
 "nbformat_minor": 2
}
