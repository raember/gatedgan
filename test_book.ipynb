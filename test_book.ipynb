{
 "cells": [
  {
   "cell_type": "code",
   "execution_count": 38,
   "metadata": {},
   "outputs": [],
   "source": [
    "import torch \n",
    "import glob\n",
    "import random\n",
    "import os\n",
    "from torch.utils.data import DataLoader\n",
    "import torchvision.transforms as transforms\n",
    "import sys"
   ]
  },
  {
   "cell_type": "code",
   "execution_count": 58,
   "metadata": {},
   "outputs": [],
   "source": [
    "import torchvision\n",
    "from torch.utils.data import Dataset\n",
    "from ipywidgets import interact, widgets\n",
    "import matplotlib.pyplot as plt \n",
    "from PIL import Image\n",
    "%matplotlib inline\n"
   ]
  },
  {
   "cell_type": "code",
   "execution_count": 59,
   "metadata": {},
   "outputs": [],
   "source": [
    "from models import *\n",
    "from data import *"
   ]
  },
  {
   "cell_type": "code",
   "execution_count": 60,
   "metadata": {},
   "outputs": [],
   "source": [
    "loadSize = 143\n",
    "fineSize = 128\n",
    "ngf = 64\n",
    "ndf = 64    \n",
    "in_nc = 3 \n",
    "out_nc = 3 \n",
    "cuda=False"
   ]
  },
  {
   "cell_type": "markdown",
   "metadata": {},
   "source": [
    "##### Initialize Generator"
   ]
  },
  {
   "cell_type": "code",
   "execution_count": 61,
   "metadata": {},
   "outputs": [],
   "source": [
    "gen = Generator(in_nc,out_nc,4,ngf)"
   ]
  },
  {
   "cell_type": "code",
   "execution_count": 62,
   "metadata": {},
   "outputs": [
    {
     "data": {
      "text/plain": [
       "IncompatibleKeys(missing_keys=[], unexpected_keys=[])"
      ]
     },
     "execution_count": 62,
     "metadata": {},
     "output_type": "execute_result"
    }
   ],
   "source": [
    "gen.load_state_dict(torch.load('./netG4.pth',map_location='cpu'))"
   ]
  },
  {
   "cell_type": "markdown",
   "metadata": {},
   "source": [
    "###### Define Image Transforms"
   ]
  },
  {
   "cell_type": "code",
   "execution_count": 63,
   "metadata": {},
   "outputs": [],
   "source": [
    "transforms_ = [ transforms.Resize(int(128), Image.BICUBIC), \n",
    "        transforms.RandomCrop(128), \n",
    "        #transforms.RandomVerticalFlip(p=0),\n",
    "        transforms.ToTensor(),\n",
    "        transforms.Normalize((0.5,0.5,0.5), (0.5,0.5,0.5)) \n",
    "      ]\n",
    "\n",
    "transform = transforms.Compose(transforms_)"
   ]
  },
  {
   "cell_type": "code",
   "execution_count": 64,
   "metadata": {},
   "outputs": [],
   "source": [
    "def tensor2image(tensor):\n",
    "    image = 127.5*(tensor[0].cpu().float().detach().numpy() + 1.0)\n",
    "    return image.astype(np.uint8)\n",
    "\n",
    "# ###### Testing#####"
   ]
  },
  {
   "cell_type": "code",
   "execution_count": null,
   "metadata": {},
   "outputs": [],
   "source": []
  },
  {
   "cell_type": "code",
   "execution_count": null,
   "metadata": {},
   "outputs": [],
   "source": []
  },
  {
   "cell_type": "code",
   "execution_count": 66,
   "metadata": {
    "scrolled": false
   },
   "outputs": [
    {
     "data": {
      "application/vnd.jupyter.widget-view+json": {
       "model_id": "a69e34f68d9242678f72ba008aab4d81",
       "version_major": 2,
       "version_minor": 0
      },
      "text/plain": [
       "interactive(children=(FloatSlider(value=0.0, continuous_update=False, description='vango', max=1.0, step=0.01)…"
      ]
     },
     "metadata": {},
     "output_type": "display_data"
    }
   ],
   "source": [
    "@interact(\n",
    "          vango=widgets.FloatSlider(min=0,max=1,step=.01,value=0,continuous_update=False)\n",
    "          ,ukyo=widgets.FloatSlider(min=0,max=1,step=.01,value=0,continuous_update=False)\n",
    "          ,monet=widgets.FloatSlider(min=0,max=1,step=.01,value=0,continuous_update=False)\n",
    "          ,cezan=widgets.FloatSlider(min=0,max=1,step=.01,value=0,continuous_update=False)\n",
    "          ,ident=widgets.FloatSlider(min=.01,max=1,step=.01,value=1,continuous_update=False)\n",
    ")\n",
    "def generate_image(vango,ukyo,monet,cezan,ident,\n",
    "                path='./58103064467__9C25377E-2D03-488E-9EA5-3F768533DA6E.JPG',\n",
    "                flip90=False):\n",
    "    generator=gen\n",
    "    content = transform(Image.open(path))\n",
    "    Tensor = torch.cuda.FloatTensor if cuda else torch.Tensor\n",
    "    input_A = Tensor(1, 3, 128, 128)\n",
    "    real_A = input_A.copy_(content)\n",
    "    #print(style_label)\n",
    "    \n",
    "    generated = gen({\n",
    "        'content': real_A,\n",
    "        'style_label': [[cezan,monet,ukyo,vango,ident]]   \n",
    "    })\n",
    "    im=tensor2image(generated.data)\n",
    "    if flip90:\n",
    "        im=im.transpose(2,1,0)\n",
    "    else:\n",
    "        im=im.transpose(1,2,0)\n",
    "    fig = plt.figure(figsize=(6,6))\n",
    "    ax = fig.add_subplot(111)  \n",
    "    ax.imshow(im)\n",
    "\n"
   ]
  },
  {
   "cell_type": "code",
   "execution_count": null,
   "metadata": {},
   "outputs": [],
   "source": []
  },
  {
   "cell_type": "code",
   "execution_count": null,
   "metadata": {},
   "outputs": [],
   "source": []
  }
 ],
 "metadata": {
  "kernelspec": {
   "display_name": "Python 3 (ipykernel)",
   "language": "python",
   "name": "python3"
  },
  "language_info": {
   "codemirror_mode": {
    "name": "ipython",
    "version": 3
   },
   "file_extension": ".py",
   "mimetype": "text/x-python",
   "name": "python",
   "nbconvert_exporter": "python",
   "pygments_lexer": "ipython3",
   "version": "3.8.11"
  }
 },
 "nbformat": 4,
 "nbformat_minor": 2
}
