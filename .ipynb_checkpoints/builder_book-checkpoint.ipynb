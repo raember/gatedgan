{
 "cells": [
  {
   "cell_type": "code",
   "execution_count": 1,
   "metadata": {},
   "outputs": [],
   "source": [
    "#import itertools\n",
    "import torch\n",
    "import torch.nn as nn\n",
    "import torch.nn.functional as F\n",
    "from torch.autograd import Variable\n"
   ]
  },
  {
   "cell_type": "code",
   "execution_count": 2,
   "metadata": {},
   "outputs": [],
   "source": [
    "import glob\n",
    "import random\n",
    "import os\n",
    "from torch.utils.data import DataLoader\n",
    "import torchvision.transforms as transforms\n",
    "import torchvision\n",
    "from torch.utils.data import Dataset\n",
    "from PIL import Image\n"
   ]
  },
  {
   "cell_type": "code",
   "execution_count": 3,
   "metadata": {},
   "outputs": [],
   "source": [
    "#!pip install visdom\n"
   ]
  },
  {
   "cell_type": "code",
   "execution_count": 4,
   "metadata": {},
   "outputs": [],
   "source": [
    "import visdom\n",
    "import numpy as np\n",
    "from pathlib import Path"
   ]
  },
  {
   "cell_type": "code",
   "execution_count": 5,
   "metadata": {},
   "outputs": [],
   "source": [
    "from data import *\n",
    "from models import *\n",
    "from utils import *\n",
    "import math\n"
   ]
  },
  {
   "cell_type": "code",
   "execution_count": 6,
   "metadata": {},
   "outputs": [],
   "source": [
    "#TRAIN OPTIONS FROM GATED GAN\n",
    "epoch = 0\n",
    "n_epochs = 10\n",
    "decay_epoch = 5\n",
    "batchSize = 1\n",
    "dataroot = './imslp'\n",
    "loadSize = 300\n",
    "fineSize = 256\n",
    "ngf = 64\n",
    "ndf = 64    \n",
    "in_nc = 3 \n",
    "out_nc = 3 \n",
    "lr = 0.0002 \n",
    "gpu = 1 \n",
    "lambda_A = 10.0\n",
    "pool_size = 50\n",
    "resize_or_crop = 'resize_and_crop'\n",
    "autoencoder_constrain = 10 \n",
    "n_styles = 4\n",
    "cuda=False\n",
    "tv_strength=1e-6\n"
   ]
  },
  {
   "cell_type": "code",
   "execution_count": 7,
   "metadata": {},
   "outputs": [
    {
     "name": "stdout",
     "output_type": "stream",
     "text": [
      "Style: ./imslp/trainStyles/ili\n",
      "Style: ./imslp/trainStyles/yellowed\n"
     ]
    }
   ],
   "source": [
    "dataloader = DataLoader(ImageDataset(dataroot), \n",
    "                        batch_size=1, shuffle=True, num_workers=4)\n",
    "\n",
    "batch = next(iter(dataloader))\n"
   ]
  },
  {
   "cell_type": "code",
   "execution_count": 8,
   "metadata": {},
   "outputs": [
    {
     "data": {
      "text/plain": [
       "tensor([1])"
      ]
     },
     "execution_count": 8,
     "metadata": {},
     "output_type": "execute_result"
    }
   ],
   "source": [
    "batch['style_label']"
   ]
  },
  {
   "cell_type": "code",
   "execution_count": 9,
   "metadata": {},
   "outputs": [],
   "source": [
    "generator = Generator(in_nc, out_nc, n_styles, ngf)\n",
    "discriminator = Discriminator(in_nc, n_styles, ndf)"
   ]
  },
  {
   "cell_type": "code",
   "execution_count": 10,
   "metadata": {},
   "outputs": [],
   "source": [
    "#generator.load_state_dict(torch.load('./output/netG.pth'))"
   ]
  },
  {
   "cell_type": "code",
   "execution_count": 11,
   "metadata": {},
   "outputs": [],
   "source": [
    "if cuda:\n",
    "    generator.cuda()\n",
    "    discriminator.cuda()"
   ]
  },
  {
   "cell_type": "code",
   "execution_count": 12,
   "metadata": {},
   "outputs": [],
   "source": [
    "#Losses Init\n",
    "use_lsgan=True\n",
    "if use_lsgan:\n",
    "    criterion_GAN = nn.MSELoss()\n",
    "else: \n",
    "    criterion_GAN = nn.BCELoss()\n",
    "    \n",
    "    \n",
    "criterion_ACGAN = nn.CrossEntropyLoss()\n",
    "criterion_Rec = nn.L1Loss()\n",
    "criterion_TV = TVLoss(TVLoss_weight=tv_strength)\n",
    "\n",
    "\n"
   ]
  },
  {
   "cell_type": "code",
   "execution_count": 13,
   "metadata": {},
   "outputs": [],
   "source": [
    "#Optimizers & LR schedulers\n",
    "optimizer_G = torch.optim.Adam(generator.parameters(),\n",
    "                                lr=lr, betas=(0.5, 0.999))\n",
    "optimizer_D = torch.optim.Adam(discriminator.parameters(), \n",
    "                               lr=lr, betas=(0.5, 0.999))\n",
    "\n",
    "\n",
    "lr_scheduler_G = torch.optim.lr_scheduler.LambdaLR(optimizer_G, lr_lambda=LambdaLR(n_epochs, epoch,decay_epoch).step)\n",
    "lr_scheduler_D = torch.optim.lr_scheduler.LambdaLR(optimizer_D, lr_lambda=LambdaLR(n_epochs,epoch, decay_epoch).step)\n",
    "\n"
   ]
  },
  {
   "cell_type": "code",
   "execution_count": 14,
   "metadata": {},
   "outputs": [
    {
     "data": {
      "text/plain": [
       "Generator(\n",
       "  (encoder): Encoder(\n",
       "    (model): Sequential(\n",
       "      (0): ReflectionPad2d((3, 3, 3, 3))\n",
       "      (1): Conv2d(3, 64, kernel_size=(7, 7), stride=(1, 1))\n",
       "      (2): InstanceNorm2d(64, eps=1e-05, momentum=0.1, affine=False, track_running_stats=False)\n",
       "      (3): ReLU(inplace=True)\n",
       "      (4): Conv2d(64, 128, kernel_size=(3, 3), stride=(2, 2), padding=(1, 1))\n",
       "      (5): InstanceNorm2d(128, eps=1e-05, momentum=0.1, affine=False, track_running_stats=False)\n",
       "      (6): ReLU(inplace=True)\n",
       "      (7): Conv2d(128, 256, kernel_size=(3, 3), stride=(2, 2), padding=(1, 1))\n",
       "      (8): InstanceNorm2d(256, eps=1e-05, momentum=0.1, affine=False, track_running_stats=False)\n",
       "      (9): ReLU(inplace=True)\n",
       "    )\n",
       "  )\n",
       "  (transformer): Transformer(\n",
       "    (t): ModuleList(\n",
       "      (0): ResidualBlock(\n",
       "        (conv_block): Sequential(\n",
       "          (0): ReflectionPad2d((1, 1, 1, 1))\n",
       "          (1): Conv2d(256, 256, kernel_size=(3, 3), stride=(1, 1))\n",
       "          (2): InstanceNorm2d(256, eps=1e-05, momentum=0.1, affine=False, track_running_stats=False)\n",
       "          (3): ReLU(inplace=True)\n",
       "          (4): ReflectionPad2d((1, 1, 1, 1))\n",
       "          (5): Conv2d(256, 256, kernel_size=(3, 3), stride=(1, 1))\n",
       "          (6): InstanceNorm2d(256, eps=1e-05, momentum=0.1, affine=False, track_running_stats=False)\n",
       "        )\n",
       "      )\n",
       "      (1): ResidualBlock(\n",
       "        (conv_block): Sequential(\n",
       "          (0): ReflectionPad2d((1, 1, 1, 1))\n",
       "          (1): Conv2d(256, 256, kernel_size=(3, 3), stride=(1, 1))\n",
       "          (2): InstanceNorm2d(256, eps=1e-05, momentum=0.1, affine=False, track_running_stats=False)\n",
       "          (3): ReLU(inplace=True)\n",
       "          (4): ReflectionPad2d((1, 1, 1, 1))\n",
       "          (5): Conv2d(256, 256, kernel_size=(3, 3), stride=(1, 1))\n",
       "          (6): InstanceNorm2d(256, eps=1e-05, momentum=0.1, affine=False, track_running_stats=False)\n",
       "        )\n",
       "      )\n",
       "      (2): ResidualBlock(\n",
       "        (conv_block): Sequential(\n",
       "          (0): ReflectionPad2d((1, 1, 1, 1))\n",
       "          (1): Conv2d(256, 256, kernel_size=(3, 3), stride=(1, 1))\n",
       "          (2): InstanceNorm2d(256, eps=1e-05, momentum=0.1, affine=False, track_running_stats=False)\n",
       "          (3): ReLU(inplace=True)\n",
       "          (4): ReflectionPad2d((1, 1, 1, 1))\n",
       "          (5): Conv2d(256, 256, kernel_size=(3, 3), stride=(1, 1))\n",
       "          (6): InstanceNorm2d(256, eps=1e-05, momentum=0.1, affine=False, track_running_stats=False)\n",
       "        )\n",
       "      )\n",
       "      (3): ResidualBlock(\n",
       "        (conv_block): Sequential(\n",
       "          (0): ReflectionPad2d((1, 1, 1, 1))\n",
       "          (1): Conv2d(256, 256, kernel_size=(3, 3), stride=(1, 1))\n",
       "          (2): InstanceNorm2d(256, eps=1e-05, momentum=0.1, affine=False, track_running_stats=False)\n",
       "          (3): ReLU(inplace=True)\n",
       "          (4): ReflectionPad2d((1, 1, 1, 1))\n",
       "          (5): Conv2d(256, 256, kernel_size=(3, 3), stride=(1, 1))\n",
       "          (6): InstanceNorm2d(256, eps=1e-05, momentum=0.1, affine=False, track_running_stats=False)\n",
       "        )\n",
       "      )\n",
       "      (4): Identity()\n",
       "    )\n",
       "  )\n",
       "  (decoder): Decoder(\n",
       "    (model): Sequential(\n",
       "      (0): ResidualBlock(\n",
       "        (conv_block): Sequential(\n",
       "          (0): ReflectionPad2d((1, 1, 1, 1))\n",
       "          (1): Conv2d(256, 256, kernel_size=(3, 3), stride=(1, 1))\n",
       "          (2): InstanceNorm2d(256, eps=1e-05, momentum=0.1, affine=False, track_running_stats=False)\n",
       "          (3): ReLU(inplace=True)\n",
       "          (4): ReflectionPad2d((1, 1, 1, 1))\n",
       "          (5): Conv2d(256, 256, kernel_size=(3, 3), stride=(1, 1))\n",
       "          (6): InstanceNorm2d(256, eps=1e-05, momentum=0.1, affine=False, track_running_stats=False)\n",
       "        )\n",
       "      )\n",
       "      (1): ResidualBlock(\n",
       "        (conv_block): Sequential(\n",
       "          (0): ReflectionPad2d((1, 1, 1, 1))\n",
       "          (1): Conv2d(256, 256, kernel_size=(3, 3), stride=(1, 1))\n",
       "          (2): InstanceNorm2d(256, eps=1e-05, momentum=0.1, affine=False, track_running_stats=False)\n",
       "          (3): ReLU(inplace=True)\n",
       "          (4): ReflectionPad2d((1, 1, 1, 1))\n",
       "          (5): Conv2d(256, 256, kernel_size=(3, 3), stride=(1, 1))\n",
       "          (6): InstanceNorm2d(256, eps=1e-05, momentum=0.1, affine=False, track_running_stats=False)\n",
       "        )\n",
       "      )\n",
       "      (2): ResidualBlock(\n",
       "        (conv_block): Sequential(\n",
       "          (0): ReflectionPad2d((1, 1, 1, 1))\n",
       "          (1): Conv2d(256, 256, kernel_size=(3, 3), stride=(1, 1))\n",
       "          (2): InstanceNorm2d(256, eps=1e-05, momentum=0.1, affine=False, track_running_stats=False)\n",
       "          (3): ReLU(inplace=True)\n",
       "          (4): ReflectionPad2d((1, 1, 1, 1))\n",
       "          (5): Conv2d(256, 256, kernel_size=(3, 3), stride=(1, 1))\n",
       "          (6): InstanceNorm2d(256, eps=1e-05, momentum=0.1, affine=False, track_running_stats=False)\n",
       "        )\n",
       "      )\n",
       "      (3): ResidualBlock(\n",
       "        (conv_block): Sequential(\n",
       "          (0): ReflectionPad2d((1, 1, 1, 1))\n",
       "          (1): Conv2d(256, 256, kernel_size=(3, 3), stride=(1, 1))\n",
       "          (2): InstanceNorm2d(256, eps=1e-05, momentum=0.1, affine=False, track_running_stats=False)\n",
       "          (3): ReLU(inplace=True)\n",
       "          (4): ReflectionPad2d((1, 1, 1, 1))\n",
       "          (5): Conv2d(256, 256, kernel_size=(3, 3), stride=(1, 1))\n",
       "          (6): InstanceNorm2d(256, eps=1e-05, momentum=0.1, affine=False, track_running_stats=False)\n",
       "        )\n",
       "      )\n",
       "      (4): ResidualBlock(\n",
       "        (conv_block): Sequential(\n",
       "          (0): ReflectionPad2d((1, 1, 1, 1))\n",
       "          (1): Conv2d(256, 256, kernel_size=(3, 3), stride=(1, 1))\n",
       "          (2): InstanceNorm2d(256, eps=1e-05, momentum=0.1, affine=False, track_running_stats=False)\n",
       "          (3): ReLU(inplace=True)\n",
       "          (4): ReflectionPad2d((1, 1, 1, 1))\n",
       "          (5): Conv2d(256, 256, kernel_size=(3, 3), stride=(1, 1))\n",
       "          (6): InstanceNorm2d(256, eps=1e-05, momentum=0.1, affine=False, track_running_stats=False)\n",
       "        )\n",
       "      )\n",
       "      (5): ConvTranspose2d(256, 128, kernel_size=(3, 3), stride=(2, 2), padding=(1, 1), output_padding=(1, 1))\n",
       "      (6): InstanceNorm2d(128, eps=1e-05, momentum=0.1, affine=False, track_running_stats=False)\n",
       "      (7): ReLU(inplace=True)\n",
       "      (8): ConvTranspose2d(128, 64, kernel_size=(3, 3), stride=(2, 2), padding=(1, 1), output_padding=(1, 1))\n",
       "      (9): InstanceNorm2d(64, eps=1e-05, momentum=0.1, affine=False, track_running_stats=False)\n",
       "      (10): ReLU(inplace=True)\n",
       "      (11): ReflectionPad2d((3, 3, 3, 3))\n",
       "      (12): Conv2d(64, 3, kernel_size=(7, 7), stride=(1, 1))\n",
       "      (13): Tanh()\n",
       "    )\n",
       "  )\n",
       ")"
      ]
     },
     "execution_count": 14,
     "metadata": {},
     "output_type": "execute_result"
    }
   ],
   "source": [
    "#Set vars for training\n",
    "Tensor = torch.cuda.FloatTensor if cuda else torch.Tensor\n",
    "input_A = Tensor(batchSize, in_nc, fineSize, fineSize)\n",
    "input_B = Tensor(batchSize, out_nc, fineSize, fineSize)\n",
    "target_real = Variable(Tensor(batchSize).fill_(1.0), requires_grad=False)\n",
    "target_fake = Variable(Tensor(batchSize).fill_(0.0), requires_grad=False)\n",
    "\n",
    "D_A_size = discriminator(input_A.copy_(batch['style']))[0].size()  \n",
    "D_AC_size = discriminator(input_B.copy_(batch['style']))[1].size()\n",
    "\n",
    "class_label_B = Tensor(D_AC_size[0],D_AC_size[1],D_AC_size[2]).long()\n",
    "\n",
    "autoflag_OHE = Tensor(1,n_styles+1).fill_(0).long()\n",
    "autoflag_OHE[0][-1] = 1\n",
    "\n",
    "fake_label = Tensor(D_A_size).fill_(0.0)\n",
    "real_label = Tensor(D_A_size).fill_(0.99) \n",
    "\n",
    "rec_A_AE = Tensor(batchSize,in_nc,fineSize,fineSize)\n",
    "\n",
    "fake_buffer = ReplayBuffer()\n",
    "\n",
    "##Init Weights\n",
    "generator.apply(weights_init_normal)\n"
   ]
  },
  {
   "cell_type": "code",
   "execution_count": 15,
   "metadata": {},
   "outputs": [
    {
     "data": {
      "text/plain": [
       "Discriminator(\n",
       "  (model): Sequential(\n",
       "    (0): Conv2d(3, 64, kernel_size=(4, 4), stride=(2, 2), padding=(2, 2))\n",
       "    (1): LeakyReLU(negative_slope=0.2, inplace=True)\n",
       "    (2): Conv2d(64, 128, kernel_size=(4, 4), stride=(2, 2), padding=(2, 2))\n",
       "    (3): InstanceNorm2d(128, eps=1e-05, momentum=0.1, affine=False, track_running_stats=False)\n",
       "    (4): LeakyReLU(negative_slope=0.2, inplace=True)\n",
       "    (5): Conv2d(128, 256, kernel_size=(4, 4), stride=(2, 2), padding=(2, 2))\n",
       "    (6): InstanceNorm2d(256, eps=1e-05, momentum=0.1, affine=False, track_running_stats=False)\n",
       "    (7): LeakyReLU(negative_slope=0.2, inplace=True)\n",
       "    (8): Conv2d(256, 512, kernel_size=(4, 4), stride=(1, 1), padding=(2, 2))\n",
       "    (9): InstanceNorm2d(512, eps=1e-05, momentum=0.1, affine=False, track_running_stats=False)\n",
       "    (10): LeakyReLU(negative_slope=0.2, inplace=True)\n",
       "  )\n",
       "  (fldiscriminator): Conv2d(512, 1, kernel_size=(4, 4), stride=(1, 1), padding=(2, 2))\n",
       "  (aux_clf): Conv2d(512, 4, kernel_size=(4, 4), stride=(1, 1), padding=(2, 2))\n",
       ")"
      ]
     },
     "execution_count": 15,
     "metadata": {},
     "output_type": "execute_result"
    }
   ],
   "source": [
    "discriminator.apply(weights_init_normal)"
   ]
  },
  {
   "cell_type": "code",
   "execution_count": 16,
   "metadata": {},
   "outputs": [
    {
     "name": "stderr",
     "output_type": "stream",
     "text": [
      "Setting up a new session...\n",
      "Traceback (most recent call last):\n",
      "  File \"/home/ubuntu/miniconda3/envs/style_transfer/lib/python3.8/site-packages/urllib3/connection.py\", line 169, in _new_conn\n",
      "    conn = connection.create_connection(\n",
      "  File \"/home/ubuntu/miniconda3/envs/style_transfer/lib/python3.8/site-packages/urllib3/util/connection.py\", line 96, in create_connection\n",
      "    raise err\n",
      "  File \"/home/ubuntu/miniconda3/envs/style_transfer/lib/python3.8/site-packages/urllib3/util/connection.py\", line 86, in create_connection\n",
      "    sock.connect(sa)\n",
      "ConnectionRefusedError: [Errno 111] Connection refused\n",
      "\n",
      "During handling of the above exception, another exception occurred:\n",
      "\n",
      "Traceback (most recent call last):\n",
      "  File \"/home/ubuntu/miniconda3/envs/style_transfer/lib/python3.8/site-packages/urllib3/connectionpool.py\", line 699, in urlopen\n",
      "    httplib_response = self._make_request(\n",
      "  File \"/home/ubuntu/miniconda3/envs/style_transfer/lib/python3.8/site-packages/urllib3/connectionpool.py\", line 394, in _make_request\n",
      "    conn.request(method, url, **httplib_request_kw)\n",
      "  File \"/home/ubuntu/miniconda3/envs/style_transfer/lib/python3.8/site-packages/urllib3/connection.py\", line 234, in request\n",
      "    super(HTTPConnection, self).request(method, url, body=body, headers=headers)\n",
      "  File \"/home/ubuntu/miniconda3/envs/style_transfer/lib/python3.8/http/client.py\", line 1256, in request\n",
      "    self._send_request(method, url, body, headers, encode_chunked)\n",
      "  File \"/home/ubuntu/miniconda3/envs/style_transfer/lib/python3.8/http/client.py\", line 1302, in _send_request\n",
      "    self.endheaders(body, encode_chunked=encode_chunked)\n",
      "  File \"/home/ubuntu/miniconda3/envs/style_transfer/lib/python3.8/http/client.py\", line 1251, in endheaders\n",
      "    self._send_output(message_body, encode_chunked=encode_chunked)\n",
      "  File \"/home/ubuntu/miniconda3/envs/style_transfer/lib/python3.8/http/client.py\", line 1011, in _send_output\n",
      "    self.send(msg)\n",
      "  File \"/home/ubuntu/miniconda3/envs/style_transfer/lib/python3.8/http/client.py\", line 951, in send\n",
      "    self.connect()\n",
      "  File \"/home/ubuntu/miniconda3/envs/style_transfer/lib/python3.8/site-packages/urllib3/connection.py\", line 200, in connect\n",
      "    conn = self._new_conn()\n",
      "  File \"/home/ubuntu/miniconda3/envs/style_transfer/lib/python3.8/site-packages/urllib3/connection.py\", line 181, in _new_conn\n",
      "    raise NewConnectionError(\n",
      "urllib3.exceptions.NewConnectionError: <urllib3.connection.HTTPConnection object at 0x7f35db928d00>: Failed to establish a new connection: [Errno 111] Connection refused\n",
      "\n",
      "During handling of the above exception, another exception occurred:\n",
      "\n",
      "Traceback (most recent call last):\n",
      "  File \"/home/ubuntu/miniconda3/envs/style_transfer/lib/python3.8/site-packages/requests/adapters.py\", line 439, in send\n",
      "    resp = conn.urlopen(\n",
      "  File \"/home/ubuntu/miniconda3/envs/style_transfer/lib/python3.8/site-packages/urllib3/connectionpool.py\", line 755, in urlopen\n",
      "    retries = retries.increment(\n",
      "  File \"/home/ubuntu/miniconda3/envs/style_transfer/lib/python3.8/site-packages/urllib3/util/retry.py\", line 574, in increment\n",
      "    raise MaxRetryError(_pool, url, error or ResponseError(cause))\n",
      "urllib3.exceptions.MaxRetryError: HTTPConnectionPool(host='localhost', port=8097): Max retries exceeded with url: /env/main (Caused by NewConnectionError('<urllib3.connection.HTTPConnection object at 0x7f35db928d00>: Failed to establish a new connection: [Errno 111] Connection refused'))\n",
      "\n",
      "During handling of the above exception, another exception occurred:\n",
      "\n",
      "Traceback (most recent call last):\n",
      "  File \"/home/ubuntu/miniconda3/envs/style_transfer/lib/python3.8/site-packages/visdom/__init__.py\", line 708, in _send\n",
      "    return self._handle_post(\n",
      "  File \"/home/ubuntu/miniconda3/envs/style_transfer/lib/python3.8/site-packages/visdom/__init__.py\", line 677, in _handle_post\n",
      "    r = self.session.post(url, data=data)\n",
      "  File \"/home/ubuntu/miniconda3/envs/style_transfer/lib/python3.8/site-packages/requests/sessions.py\", line 590, in post\n",
      "    return self.request('POST', url, data=data, json=json, **kwargs)\n",
      "  File \"/home/ubuntu/miniconda3/envs/style_transfer/lib/python3.8/site-packages/requests/sessions.py\", line 542, in request\n",
      "    resp = self.send(prep, **send_kwargs)\n",
      "  File \"/home/ubuntu/miniconda3/envs/style_transfer/lib/python3.8/site-packages/requests/sessions.py\", line 655, in send\n",
      "    r = adapter.send(request, **kwargs)\n",
      "  File \"/home/ubuntu/miniconda3/envs/style_transfer/lib/python3.8/site-packages/requests/adapters.py\", line 516, in send\n",
      "    raise ConnectionError(e, request=request)\n",
      "requests.exceptions.ConnectionError: HTTPConnectionPool(host='localhost', port=8097): Max retries exceeded with url: /env/main (Caused by NewConnectionError('<urllib3.connection.HTTPConnection object at 0x7f35db928d00>: Failed to establish a new connection: [Errno 111] Connection refused'))\n",
      "[Errno 111] Connection refused\n",
      "on_close() takes 1 positional argument but 3 were given\n"
     ]
    },
    {
     "name": "stdout",
     "output_type": "stream",
     "text": [
      "Exception in user code:\n",
      "------------------------------------------------------------\n"
     ]
    }
   ],
   "source": [
    "logger = Logger(n_epochs, len(dataloader))\n"
   ]
  },
  {
   "cell_type": "code",
   "execution_count": 17,
   "metadata": {
    "scrolled": true
   },
   "outputs": [],
   "source": [
    "# #source image\n",
    "# real_content = Variable(input_A.copy_(batch['content']))\n",
    "# #target style\n",
    "# real_style = Variable(input_B.copy_(batch['style']))\n",
    "# #simple label of style index\n",
    "# style_label = batch['style_label']\n",
    "# #one hot encoded style label\n",
    "# style_OHE = F.one_hot(style_label,n_styles).long()\n",
    "# #Style Label mapped over 1x19x19 tensor for discriminator \n",
    "# class_label = class_label_B.copy_(label2tensor(style_label,class_label_B)).long()\n"
   ]
  },
  {
   "cell_type": "code",
   "execution_count": null,
   "metadata": {
    "scrolled": false
   },
   "outputs": [
    {
     "name": "stdout",
     "output_type": "stream",
     "text": [
      "EPOCH 0 (2021-08-17 13:55:53.310537)\n"
     ]
    },
    {
     "name": "stderr",
     "output_type": "stream",
     "text": [
      "/home/ubuntu/miniconda3/envs/style_transfer/lib/python3.8/site-packages/PIL/Image.py:2911: DecompressionBombWarning: Image size (97885788 pixels) exceeds limit of 89478485 pixels, could be decompression bomb DOS attack.\n",
      "  warnings.warn(\n",
      "/home/ubuntu/miniconda3/envs/style_transfer/lib/python3.8/site-packages/PIL/Image.py:2911: DecompressionBombWarning: Image size (157555125 pixels) exceeds limit of 89478485 pixels, could be decompression bomb DOS attack.\n",
      "  warnings.warn(\n"
     ]
    },
    {
     "name": "stdout",
     "output_type": "stream",
     "text": [
      "LossGEN: 24.056, LossRec: 7.123, loss_G_GAN: 14.135, loss_G_AC: 9.8196, LossDESCR GAN: 2.0671, tv_loss: 0.10125, LossDESCR Class: 16.915\n"
     ]
    },
    {
     "name": "stderr",
     "output_type": "stream",
     "text": [
      "/home/ubuntu/miniconda3/envs/style_transfer/lib/python3.8/site-packages/PIL/Image.py:2911: DecompressionBombWarning: Image size (143025860 pixels) exceeds limit of 89478485 pixels, could be decompression bomb DOS attack.\n",
      "  warnings.warn(\n",
      "/home/ubuntu/miniconda3/envs/style_transfer/lib/python3.8/site-packages/PIL/Image.py:2911: DecompressionBombWarning: Image size (114227022 pixels) exceeds limit of 89478485 pixels, could be decompression bomb DOS attack.\n",
      "  warnings.warn(\n",
      "/home/ubuntu/miniconda3/envs/style_transfer/lib/python3.8/site-packages/PIL/Image.py:2911: DecompressionBombWarning: Image size (157308154 pixels) exceeds limit of 89478485 pixels, could be decompression bomb DOS attack.\n",
      "  warnings.warn(\n",
      "/home/ubuntu/miniconda3/envs/style_transfer/lib/python3.8/site-packages/PIL/Image.py:2911: DecompressionBombWarning: Image size (156738726 pixels) exceeds limit of 89478485 pixels, could be decompression bomb DOS attack.\n",
      "  warnings.warn(\n",
      "/home/ubuntu/miniconda3/envs/style_transfer/lib/python3.8/site-packages/PIL/Image.py:2911: DecompressionBombWarning: Image size (97410768 pixels) exceeds limit of 89478485 pixels, could be decompression bomb DOS attack.\n",
      "  warnings.warn(\n",
      "/home/ubuntu/miniconda3/envs/style_transfer/lib/python3.8/site-packages/PIL/Image.py:2911: DecompressionBombWarning: Image size (113652502 pixels) exceeds limit of 89478485 pixels, could be decompression bomb DOS attack.\n",
      "  warnings.warn(\n"
     ]
    },
    {
     "name": "stdout",
     "output_type": "stream",
     "text": [
      "LossGEN: 13.798, LossRec: 0.56794, loss_G_GAN: 0.23276, loss_G_AC: 13.556, LossDESCR GAN: 0.29891, tv_loss: 0.0092322, LossDESCR Class: 20.693\n"
     ]
    },
    {
     "name": "stderr",
     "output_type": "stream",
     "text": [
      "/home/ubuntu/miniconda3/envs/style_transfer/lib/python3.8/site-packages/PIL/Image.py:2911: DecompressionBombWarning: Image size (157308154 pixels) exceeds limit of 89478485 pixels, could be decompression bomb DOS attack.\n",
      "  warnings.warn(\n",
      "/home/ubuntu/miniconda3/envs/style_transfer/lib/python3.8/site-packages/PIL/Image.py:2911: DecompressionBombWarning: Image size (101481204 pixels) exceeds limit of 89478485 pixels, could be decompression bomb DOS attack.\n",
      "  warnings.warn(\n"
     ]
    },
    {
     "name": "stdout",
     "output_type": "stream",
     "text": [
      "LossGEN: 7.9255, LossRec: 1.0219, loss_G_GAN: 0.56616, loss_G_AC: 7.2454, LossDESCR GAN: 0.24145, tv_loss: 0.11399, LossDESCR Class: 5.4402\n"
     ]
    },
    {
     "name": "stderr",
     "output_type": "stream",
     "text": [
      "/home/ubuntu/miniconda3/envs/style_transfer/lib/python3.8/site-packages/PIL/Image.py:2911: DecompressionBombWarning: Image size (145942116 pixels) exceeds limit of 89478485 pixels, could be decompression bomb DOS attack.\n",
      "  warnings.warn(\n",
      "/home/ubuntu/miniconda3/envs/style_transfer/lib/python3.8/site-packages/PIL/Image.py:2911: DecompressionBombWarning: Image size (98851825 pixels) exceeds limit of 89478485 pixels, could be decompression bomb DOS attack.\n",
      "  warnings.warn(\n",
      "/home/ubuntu/miniconda3/envs/style_transfer/lib/python3.8/site-packages/PIL/Image.py:2911: DecompressionBombWarning: Image size (101777775 pixels) exceeds limit of 89478485 pixels, could be decompression bomb DOS attack.\n",
      "  warnings.warn(\n",
      "/home/ubuntu/miniconda3/envs/style_transfer/lib/python3.8/site-packages/PIL/Image.py:2911: DecompressionBombWarning: Image size (110554290 pixels) exceeds limit of 89478485 pixels, could be decompression bomb DOS attack.\n",
      "  warnings.warn(\n",
      "/home/ubuntu/miniconda3/envs/style_transfer/lib/python3.8/site-packages/PIL/Image.py:2911: DecompressionBombWarning: Image size (89645072 pixels) exceeds limit of 89478485 pixels, could be decompression bomb DOS attack.\n",
      "  warnings.warn(\n",
      "/home/ubuntu/miniconda3/envs/style_transfer/lib/python3.8/site-packages/PIL/Image.py:2911: DecompressionBombWarning: Image size (145792344 pixels) exceeds limit of 89478485 pixels, could be decompression bomb DOS attack.\n",
      "  warnings.warn(\n",
      "/home/ubuntu/miniconda3/envs/style_transfer/lib/python3.8/site-packages/PIL/Image.py:2911: DecompressionBombWarning: Image size (91349200 pixels) exceeds limit of 89478485 pixels, could be decompression bomb DOS attack.\n",
      "  warnings.warn(\n",
      "/home/ubuntu/miniconda3/envs/style_transfer/lib/python3.8/site-packages/PIL/Image.py:2911: DecompressionBombWarning: Image size (96386836 pixels) exceeds limit of 89478485 pixels, could be decompression bomb DOS attack.\n",
      "  warnings.warn(\n",
      "/home/ubuntu/miniconda3/envs/style_transfer/lib/python3.8/site-packages/PIL/Image.py:2911: DecompressionBombWarning: Image size (97790784 pixels) exceeds limit of 89478485 pixels, could be decompression bomb DOS attack.\n",
      "  warnings.warn(\n"
     ]
    },
    {
     "name": "stdout",
     "output_type": "stream",
     "text": [
      "LossGEN: 16.228, LossRec: 1.7462, loss_G_GAN: 0.48465, loss_G_AC: 15.729, LossDESCR GAN: 0.18315, tv_loss: 0.01464, LossDESCR Class: 1.2906\n"
     ]
    },
    {
     "name": "stderr",
     "output_type": "stream",
     "text": [
      "/home/ubuntu/miniconda3/envs/style_transfer/lib/python3.8/site-packages/PIL/Image.py:2911: DecompressionBombWarning: Image size (95774588 pixels) exceeds limit of 89478485 pixels, could be decompression bomb DOS attack.\n",
      "  warnings.warn(\n",
      "/home/ubuntu/miniconda3/envs/style_transfer/lib/python3.8/site-packages/PIL/Image.py:2911: DecompressionBombWarning: Image size (117387225 pixels) exceeds limit of 89478485 pixels, could be decompression bomb DOS attack.\n",
      "  warnings.warn(\n",
      "/home/ubuntu/miniconda3/envs/style_transfer/lib/python3.8/site-packages/PIL/Image.py:2911: DecompressionBombWarning: Image size (146175744 pixels) exceeds limit of 89478485 pixels, could be decompression bomb DOS attack.\n",
      "  warnings.warn(\n"
     ]
    },
    {
     "name": "stdout",
     "output_type": "stream",
     "text": [
      "LossGEN: 1.7413, LossRec: 1.0601, loss_G_GAN: 0.43683, loss_G_AC: 1.2831, LossDESCR GAN: 0.27089, tv_loss: 0.021411, LossDESCR Class: 3.213\n"
     ]
    },
    {
     "name": "stderr",
     "output_type": "stream",
     "text": [
      "/home/ubuntu/miniconda3/envs/style_transfer/lib/python3.8/site-packages/PIL/Image.py:2911: DecompressionBombWarning: Image size (110331104 pixels) exceeds limit of 89478485 pixels, could be decompression bomb DOS attack.\n",
      "  warnings.warn(\n",
      "/home/ubuntu/miniconda3/envs/style_transfer/lib/python3.8/site-packages/PIL/Image.py:2911: DecompressionBombWarning: Image size (97379100 pixels) exceeds limit of 89478485 pixels, could be decompression bomb DOS attack.\n",
      "  warnings.warn(\n",
      "/home/ubuntu/miniconda3/envs/style_transfer/lib/python3.8/site-packages/PIL/Image.py:2911: DecompressionBombWarning: Image size (97526884 pixels) exceeds limit of 89478485 pixels, could be decompression bomb DOS attack.\n",
      "  warnings.warn(\n",
      "/home/ubuntu/miniconda3/envs/style_transfer/lib/python3.8/site-packages/PIL/Image.py:2911: DecompressionBombWarning: Image size (157209150 pixels) exceeds limit of 89478485 pixels, could be decompression bomb DOS attack.\n",
      "  warnings.warn(\n"
     ]
    },
    {
     "name": "stdout",
     "output_type": "stream",
     "text": [
      "LossGEN: 1.3502, LossRec: 1.4829, loss_G_GAN: 0.42324, loss_G_AC: 0.86938, LossDESCR GAN: 0.20543, tv_loss: 0.057587, LossDESCR Class: 1.9995\n"
     ]
    },
    {
     "name": "stderr",
     "output_type": "stream",
     "text": [
      "/home/ubuntu/miniconda3/envs/style_transfer/lib/python3.8/site-packages/PIL/Image.py:2911: DecompressionBombWarning: Image size (111621604 pixels) exceeds limit of 89478485 pixels, could be decompression bomb DOS attack.\n",
      "  warnings.warn(\n"
     ]
    },
    {
     "name": "stdout",
     "output_type": "stream",
     "text": [
      "LossGEN: 2.4011, LossRec: 1.0688, loss_G_GAN: 0.29575, loss_G_AC: 2.0781, LossDESCR GAN: 0.45775, tv_loss: 0.027252, LossDESCR Class: 8.9959\n"
     ]
    },
    {
     "name": "stderr",
     "output_type": "stream",
     "text": [
      "/home/ubuntu/miniconda3/envs/style_transfer/lib/python3.8/site-packages/PIL/Image.py:2911: DecompressionBombWarning: Image size (99339952 pixels) exceeds limit of 89478485 pixels, could be decompression bomb DOS attack.\n",
      "  warnings.warn(\n",
      "/home/ubuntu/miniconda3/envs/style_transfer/lib/python3.8/site-packages/PIL/Image.py:2911: DecompressionBombWarning: Image size (157555125 pixels) exceeds limit of 89478485 pixels, could be decompression bomb DOS attack.\n",
      "  warnings.warn(\n",
      "/home/ubuntu/miniconda3/envs/style_transfer/lib/python3.8/site-packages/PIL/Image.py:2911: DecompressionBombWarning: Image size (143025860 pixels) exceeds limit of 89478485 pixels, could be decompression bomb DOS attack.\n",
      "  warnings.warn(\n",
      "/home/ubuntu/miniconda3/envs/style_transfer/lib/python3.8/site-packages/PIL/Image.py:2911: DecompressionBombWarning: Image size (157552000 pixels) exceeds limit of 89478485 pixels, could be decompression bomb DOS attack.\n",
      "  warnings.warn(\n",
      "/home/ubuntu/miniconda3/envs/style_transfer/lib/python3.8/site-packages/PIL/Image.py:2911: DecompressionBombWarning: Image size (101826985 pixels) exceeds limit of 89478485 pixels, could be decompression bomb DOS attack.\n",
      "  warnings.warn(\n",
      "/home/ubuntu/miniconda3/envs/style_transfer/lib/python3.8/site-packages/PIL/Image.py:2911: DecompressionBombWarning: Image size (96053100 pixels) exceeds limit of 89478485 pixels, could be decompression bomb DOS attack.\n",
      "  warnings.warn(\n"
     ]
    },
    {
     "name": "stdout",
     "output_type": "stream",
     "text": [
      "LossGEN: 2.1126, LossRec: 0.97139, loss_G_GAN: 1.2141, loss_G_AC: 0.78302, LossDESCR GAN: 0.11804, tv_loss: 0.11547, LossDESCR Class: 0.63061\n"
     ]
    },
    {
     "name": "stderr",
     "output_type": "stream",
     "text": [
      "/home/ubuntu/miniconda3/envs/style_transfer/lib/python3.8/site-packages/PIL/Image.py:2911: DecompressionBombWarning: Image size (96386836 pixels) exceeds limit of 89478485 pixels, could be decompression bomb DOS attack.\n",
      "  warnings.warn(\n",
      "/home/ubuntu/miniconda3/envs/style_transfer/lib/python3.8/site-packages/PIL/Image.py:2911: DecompressionBombWarning: Image size (95215120 pixels) exceeds limit of 89478485 pixels, could be decompression bomb DOS attack.\n",
      "  warnings.warn(\n"
     ]
    },
    {
     "name": "stdout",
     "output_type": "stream",
     "text": [
      "LossGEN: 2.8408, LossRec: 1.271, loss_G_GAN: 0.60509, loss_G_AC: 2.2036, LossDESCR GAN: 0.10148, tv_loss: 0.032034, LossDESCR Class: 1.8657\n"
     ]
    },
    {
     "name": "stderr",
     "output_type": "stream",
     "text": [
      "/home/ubuntu/miniconda3/envs/style_transfer/lib/python3.8/site-packages/PIL/Image.py:2911: DecompressionBombWarning: Image size (96053100 pixels) exceeds limit of 89478485 pixels, could be decompression bomb DOS attack.\n",
      "  warnings.warn(\n",
      "/home/ubuntu/miniconda3/envs/style_transfer/lib/python3.8/site-packages/PIL/Image.py:2911: DecompressionBombWarning: Image size (144647592 pixels) exceeds limit of 89478485 pixels, could be decompression bomb DOS attack.\n",
      "  warnings.warn(\n",
      "/home/ubuntu/miniconda3/envs/style_transfer/lib/python3.8/site-packages/PIL/Image.py:2911: DecompressionBombWarning: Image size (97885788 pixels) exceeds limit of 89478485 pixels, could be decompression bomb DOS attack.\n",
      "  warnings.warn(\n",
      "/home/ubuntu/miniconda3/envs/style_transfer/lib/python3.8/site-packages/PIL/Image.py:2911: DecompressionBombWarning: Image size (157511790 pixels) exceeds limit of 89478485 pixels, could be decompression bomb DOS attack.\n",
      "  warnings.warn(\n",
      "/home/ubuntu/miniconda3/envs/style_transfer/lib/python3.8/site-packages/PIL/Image.py:2911: DecompressionBombWarning: Image size (112703077 pixels) exceeds limit of 89478485 pixels, could be decompression bomb DOS attack.\n",
      "  warnings.warn(\n",
      "/home/ubuntu/miniconda3/envs/style_transfer/lib/python3.8/site-packages/PIL/Image.py:2911: DecompressionBombWarning: Image size (118118400 pixels) exceeds limit of 89478485 pixels, could be decompression bomb DOS attack.\n",
      "  warnings.warn(\n"
     ]
    },
    {
     "name": "stdout",
     "output_type": "stream",
     "text": [
      "LossGEN: 1.2715, LossRec: 1.2506, loss_G_GAN: 0.37097, loss_G_AC: 0.85185, LossDESCR GAN: 0.14752, tv_loss: 0.04865, LossDESCR Class: 3.3999\n"
     ]
    },
    {
     "name": "stderr",
     "output_type": "stream",
     "text": [
      "/home/ubuntu/miniconda3/envs/style_transfer/lib/python3.8/site-packages/PIL/Image.py:2911: DecompressionBombWarning: Image size (96038488 pixels) exceeds limit of 89478485 pixels, could be decompression bomb DOS attack.\n",
      "  warnings.warn(\n",
      "/home/ubuntu/miniconda3/envs/style_transfer/lib/python3.8/site-packages/PIL/Image.py:2911: DecompressionBombWarning: Image size (97410768 pixels) exceeds limit of 89478485 pixels, could be decompression bomb DOS attack.\n",
      "  warnings.warn(\n",
      "/home/ubuntu/miniconda3/envs/style_transfer/lib/python3.8/site-packages/PIL/Image.py:2911: DecompressionBombWarning: Image size (98209936 pixels) exceeds limit of 89478485 pixels, could be decompression bomb DOS attack.\n",
      "  warnings.warn(\n"
     ]
    },
    {
     "name": "stdout",
     "output_type": "stream",
     "text": [
      "LossGEN: 1.3199, LossRec: 1.3745, loss_G_GAN: 0.60365, loss_G_AC: 0.68527, LossDESCR GAN: 0.099763, tv_loss: 0.031021, LossDESCR Class: 1.0938\n"
     ]
    },
    {
     "name": "stderr",
     "output_type": "stream",
     "text": [
      "/home/ubuntu/miniconda3/envs/style_transfer/lib/python3.8/site-packages/PIL/Image.py:2911: DecompressionBombWarning: Image size (145942116 pixels) exceeds limit of 89478485 pixels, could be decompression bomb DOS attack.\n",
      "  warnings.warn(\n",
      "/home/ubuntu/miniconda3/envs/style_transfer/lib/python3.8/site-packages/PIL/Image.py:2911: DecompressionBombWarning: Image size (98671986 pixels) exceeds limit of 89478485 pixels, could be decompression bomb DOS attack.\n",
      "  warnings.warn(\n",
      "/home/ubuntu/miniconda3/envs/style_transfer/lib/python3.8/site-packages/PIL/Image.py:2911: DecompressionBombWarning: Image size (145942116 pixels) exceeds limit of 89478485 pixels, could be decompression bomb DOS attack.\n",
      "  warnings.warn(\n",
      "/home/ubuntu/miniconda3/envs/style_transfer/lib/python3.8/site-packages/PIL/Image.py:2911: DecompressionBombWarning: Image size (118201452 pixels) exceeds limit of 89478485 pixels, could be decompression bomb DOS attack.\n",
      "  warnings.warn(\n",
      "/home/ubuntu/miniconda3/envs/style_transfer/lib/python3.8/site-packages/PIL/Image.py:2911: DecompressionBombWarning: Image size (95795700 pixels) exceeds limit of 89478485 pixels, could be decompression bomb DOS attack.\n",
      "  warnings.warn(\n"
     ]
    },
    {
     "name": "stdout",
     "output_type": "stream",
     "text": [
      "LossGEN: 1.2176, LossRec: 0.81964, loss_G_GAN: 0.57506, loss_G_AC: 0.6029, LossDESCR GAN: 0.11556, tv_loss: 0.039687, LossDESCR Class: 0.25817\n"
     ]
    },
    {
     "name": "stderr",
     "output_type": "stream",
     "text": [
      "/home/ubuntu/miniconda3/envs/style_transfer/lib/python3.8/site-packages/PIL/Image.py:2911: DecompressionBombWarning: Image size (116600327 pixels) exceeds limit of 89478485 pixels, could be decompression bomb DOS attack.\n",
      "  warnings.warn(\n",
      "/home/ubuntu/miniconda3/envs/style_transfer/lib/python3.8/site-packages/PIL/Image.py:2911: DecompressionBombWarning: Image size (95215120 pixels) exceeds limit of 89478485 pixels, could be decompression bomb DOS attack.\n",
      "  warnings.warn(\n",
      "/home/ubuntu/miniconda3/envs/style_transfer/lib/python3.8/site-packages/PIL/Image.py:2911: DecompressionBombWarning: Image size (148262400 pixels) exceeds limit of 89478485 pixels, could be decompression bomb DOS attack.\n",
      "  warnings.warn(\n",
      "/home/ubuntu/miniconda3/envs/style_transfer/lib/python3.8/site-packages/PIL/Image.py:2911: DecompressionBombWarning: Image size (144429544 pixels) exceeds limit of 89478485 pixels, could be decompression bomb DOS attack.\n",
      "  warnings.warn(\n"
     ]
    },
    {
     "name": "stdout",
     "output_type": "stream",
     "text": [
      "LossGEN: 1.2048, LossRec: 1.0776, loss_G_GAN: 1.0819, loss_G_AC: 0.097132, LossDESCR GAN: 0.050515, tv_loss: 0.025844, LossDESCR Class: 0.047645\n"
     ]
    },
    {
     "name": "stderr",
     "output_type": "stream",
     "text": [
      "/home/ubuntu/miniconda3/envs/style_transfer/lib/python3.8/site-packages/PIL/Image.py:2911: DecompressionBombWarning: Image size (140150600 pixels) exceeds limit of 89478485 pixels, could be decompression bomb DOS attack.\n",
      "  warnings.warn(\n",
      "/home/ubuntu/miniconda3/envs/style_transfer/lib/python3.8/site-packages/PIL/Image.py:2911: DecompressionBombWarning: Image size (156930800 pixels) exceeds limit of 89478485 pixels, could be decompression bomb DOS attack.\n",
      "  warnings.warn(\n",
      "/home/ubuntu/miniconda3/envs/style_transfer/lib/python3.8/site-packages/PIL/Image.py:2911: DecompressionBombWarning: Image size (116725230 pixels) exceeds limit of 89478485 pixels, could be decompression bomb DOS attack.\n",
      "  warnings.warn(\n"
     ]
    },
    {
     "name": "stdout",
     "output_type": "stream",
     "text": [
      "LossGEN: 0.87173, LossRec: 1.0307, loss_G_GAN: 0.42175, loss_G_AC: 0.41091, LossDESCR GAN: 0.17075, tv_loss: 0.039069, LossDESCR Class: 0.29751\n"
     ]
    },
    {
     "name": "stderr",
     "output_type": "stream",
     "text": [
      "/home/ubuntu/miniconda3/envs/style_transfer/lib/python3.8/site-packages/PIL/Image.py:2911: DecompressionBombWarning: Image size (98118020 pixels) exceeds limit of 89478485 pixels, could be decompression bomb DOS attack.\n",
      "  warnings.warn(\n",
      "/home/ubuntu/miniconda3/envs/style_transfer/lib/python3.8/site-packages/PIL/Image.py:2911: DecompressionBombWarning: Image size (97906900 pixels) exceeds limit of 89478485 pixels, could be decompression bomb DOS attack.\n",
      "  warnings.warn(\n",
      "/home/ubuntu/miniconda3/envs/style_transfer/lib/python3.8/site-packages/PIL/Image.py:2911: DecompressionBombWarning: Image size (96038488 pixels) exceeds limit of 89478485 pixels, could be decompression bomb DOS attack.\n",
      "  warnings.warn(\n"
     ]
    },
    {
     "name": "stdout",
     "output_type": "stream",
     "text": [
      "LossGEN: 3.2087, LossRec: 1.7568, loss_G_GAN: 0.73332, loss_G_AC: 2.4078, LossDESCR GAN: 0.15793, tv_loss: 0.067613, LossDESCR Class: 1.5373\n"
     ]
    },
    {
     "name": "stderr",
     "output_type": "stream",
     "text": [
      "/home/ubuntu/miniconda3/envs/style_transfer/lib/python3.8/site-packages/PIL/Image.py:2911: DecompressionBombWarning: Image size (101777775 pixels) exceeds limit of 89478485 pixels, could be decompression bomb DOS attack.\n",
      "  warnings.warn(\n"
     ]
    },
    {
     "name": "stdout",
     "output_type": "stream",
     "text": [
      "LossGEN: 0.67792, LossRec: 0.71272, loss_G_GAN: 0.5245, loss_G_AC: 0.11101, LossDESCR GAN: 0.19792, tv_loss: 0.042409, LossDESCR Class: 0.17896\n"
     ]
    },
    {
     "name": "stderr",
     "output_type": "stream",
     "text": [
      "/home/ubuntu/miniconda3/envs/style_transfer/lib/python3.8/site-packages/PIL/Image.py:2911: DecompressionBombWarning: Image size (157562825 pixels) exceeds limit of 89478485 pixels, could be decompression bomb DOS attack.\n",
      "  warnings.warn(\n",
      "/home/ubuntu/miniconda3/envs/style_transfer/lib/python3.8/site-packages/PIL/Image.py:2911: DecompressionBombWarning: Image size (117273600 pixels) exceeds limit of 89478485 pixels, could be decompression bomb DOS attack.\n",
      "  warnings.warn(\n",
      "/home/ubuntu/miniconda3/envs/style_transfer/lib/python3.8/site-packages/PIL/Image.py:2911: DecompressionBombWarning: Image size (118111302 pixels) exceeds limit of 89478485 pixels, could be decompression bomb DOS attack.\n",
      "  warnings.warn(\n",
      "/home/ubuntu/miniconda3/envs/style_transfer/lib/python3.8/site-packages/PIL/Image.py:2911: DecompressionBombWarning: Image size (101777775 pixels) exceeds limit of 89478485 pixels, could be decompression bomb DOS attack.\n",
      "  warnings.warn(\n"
     ]
    },
    {
     "name": "stdout",
     "output_type": "stream",
     "text": [
      "LossGEN: 0.91781, LossRec: 0.38271, loss_G_GAN: 0.86239, loss_G_AC: 0.031946, LossDESCR GAN: 0.075694, tv_loss: 0.023476, LossDESCR Class: 0.1916\n"
     ]
    },
    {
     "name": "stderr",
     "output_type": "stream",
     "text": [
      "/home/ubuntu/miniconda3/envs/style_transfer/lib/python3.8/site-packages/PIL/Image.py:2911: DecompressionBombWarning: Image size (157587176 pixels) exceeds limit of 89478485 pixels, could be decompression bomb DOS attack.\n",
      "  warnings.warn(\n"
     ]
    },
    {
     "name": "stdout",
     "output_type": "stream",
     "text": [
      "LossGEN: 0.91122, LossRec: 0.66044, loss_G_GAN: 0.59349, loss_G_AC: 0.29482, LossDESCR GAN: 0.069183, tv_loss: 0.022909, LossDESCR Class: 0.11463\n"
     ]
    },
    {
     "name": "stderr",
     "output_type": "stream",
     "text": [
      "/home/ubuntu/miniconda3/envs/style_transfer/lib/python3.8/site-packages/PIL/Image.py:2911: DecompressionBombWarning: Image size (110487752 pixels) exceeds limit of 89478485 pixels, could be decompression bomb DOS attack.\n",
      "  warnings.warn(\n",
      "/home/ubuntu/miniconda3/envs/style_transfer/lib/python3.8/site-packages/PIL/Image.py:2911: DecompressionBombWarning: Image size (157523394 pixels) exceeds limit of 89478485 pixels, could be decompression bomb DOS attack.\n",
      "  warnings.warn(\n",
      "/home/ubuntu/miniconda3/envs/style_transfer/lib/python3.8/site-packages/PIL/Image.py:2911: DecompressionBombWarning: Image size (157596579 pixels) exceeds limit of 89478485 pixels, could be decompression bomb DOS attack.\n",
      "  warnings.warn(\n",
      "/home/ubuntu/miniconda3/envs/style_transfer/lib/python3.8/site-packages/PIL/Image.py:2911: DecompressionBombWarning: Image size (101481204 pixels) exceeds limit of 89478485 pixels, could be decompression bomb DOS attack.\n",
      "  warnings.warn(\n"
     ]
    },
    {
     "name": "stdout",
     "output_type": "stream",
     "text": [
      "LossGEN: 1.2293, LossRec: 0.25589, loss_G_GAN: 0.73168, loss_G_AC: 0.46721, LossDESCR GAN: 0.17125, tv_loss: 0.030456, LossDESCR Class: 0.05718\n"
     ]
    },
    {
     "name": "stderr",
     "output_type": "stream",
     "text": [
      "/home/ubuntu/miniconda3/envs/style_transfer/lib/python3.8/site-packages/PIL/Image.py:2911: DecompressionBombWarning: Image size (95774588 pixels) exceeds limit of 89478485 pixels, could be decompression bomb DOS attack.\n",
      "  warnings.warn(\n",
      "/home/ubuntu/miniconda3/envs/style_transfer/lib/python3.8/site-packages/PIL/Image.py:2911: DecompressionBombWarning: Image size (98209936 pixels) exceeds limit of 89478485 pixels, could be decompression bomb DOS attack.\n",
      "  warnings.warn(\n",
      "/home/ubuntu/miniconda3/envs/style_transfer/lib/python3.8/site-packages/PIL/Image.py:2911: DecompressionBombWarning: Image size (157523394 pixels) exceeds limit of 89478485 pixels, could be decompression bomb DOS attack.\n",
      "  warnings.warn(\n",
      "/home/ubuntu/miniconda3/envs/style_transfer/lib/python3.8/site-packages/PIL/Image.py:2911: DecompressionBombWarning: Image size (102304388 pixels) exceeds limit of 89478485 pixels, could be decompression bomb DOS attack.\n",
      "  warnings.warn(\n",
      "/home/ubuntu/miniconda3/envs/style_transfer/lib/python3.8/site-packages/PIL/Image.py:2911: DecompressionBombWarning: Image size (116280102 pixels) exceeds limit of 89478485 pixels, could be decompression bomb DOS attack.\n",
      "  warnings.warn(\n",
      "/home/ubuntu/miniconda3/envs/style_transfer/lib/python3.8/site-packages/PIL/Image.py:2911: DecompressionBombWarning: Image size (145328992 pixels) exceeds limit of 89478485 pixels, could be decompression bomb DOS attack.\n",
      "  warnings.warn(\n"
     ]
    },
    {
     "name": "stdout",
     "output_type": "stream",
     "text": [
      "LossGEN: 0.40088, LossRec: 0.93236, loss_G_GAN: 0.23877, loss_G_AC: 0.10598, LossDESCR GAN: 0.53497, tv_loss: 0.05614, LossDESCR Class: 0.12849\n"
     ]
    },
    {
     "name": "stderr",
     "output_type": "stream",
     "text": [
      "/home/ubuntu/miniconda3/envs/style_transfer/lib/python3.8/site-packages/PIL/Image.py:2911: DecompressionBombWarning: Image size (156823275 pixels) exceeds limit of 89478485 pixels, could be decompression bomb DOS attack.\n",
      "  warnings.warn(\n",
      "/home/ubuntu/miniconda3/envs/style_transfer/lib/python3.8/site-packages/PIL/Image.py:2911: DecompressionBombWarning: Image size (96830188 pixels) exceeds limit of 89478485 pixels, could be decompression bomb DOS attack.\n",
      "  warnings.warn(\n",
      "/home/ubuntu/miniconda3/envs/style_transfer/lib/python3.8/site-packages/PIL/Image.py:2911: DecompressionBombWarning: Image size (111698301 pixels) exceeds limit of 89478485 pixels, could be decompression bomb DOS attack.\n",
      "  warnings.warn(\n",
      "/home/ubuntu/miniconda3/envs/style_transfer/lib/python3.8/site-packages/PIL/Image.py:2911: DecompressionBombWarning: Image size (96059600 pixels) exceeds limit of 89478485 pixels, could be decompression bomb DOS attack.\n",
      "  warnings.warn(\n",
      "/home/ubuntu/miniconda3/envs/style_transfer/lib/python3.8/site-packages/PIL/Image.py:2911: DecompressionBombWarning: Image size (118201452 pixels) exceeds limit of 89478485 pixels, could be decompression bomb DOS attack.\n",
      "  warnings.warn(\n"
     ]
    },
    {
     "name": "stdout",
     "output_type": "stream",
     "text": [
      "LossGEN: 0.98678, LossRec: 0.45907, loss_G_GAN: 0.73904, loss_G_AC: 0.21352, LossDESCR GAN: 0.20037, tv_loss: 0.034219, LossDESCR Class: 25.402\n"
     ]
    },
    {
     "name": "stderr",
     "output_type": "stream",
     "text": [
      "/home/ubuntu/miniconda3/envs/style_transfer/lib/python3.8/site-packages/PIL/Image.py:2911: DecompressionBombWarning: Image size (119174878 pixels) exceeds limit of 89478485 pixels, could be decompression bomb DOS attack.\n",
      "  warnings.warn(\n",
      "/home/ubuntu/miniconda3/envs/style_transfer/lib/python3.8/site-packages/PIL/Image.py:2911: DecompressionBombWarning: Image size (145942116 pixels) exceeds limit of 89478485 pixels, could be decompression bomb DOS attack.\n",
      "  warnings.warn(\n",
      "/home/ubuntu/miniconda3/envs/style_transfer/lib/python3.8/site-packages/PIL/Image.py:2911: DecompressionBombWarning: Image size (157359384 pixels) exceeds limit of 89478485 pixels, could be decompression bomb DOS attack.\n",
      "  warnings.warn(\n",
      "/home/ubuntu/miniconda3/envs/style_transfer/lib/python3.8/site-packages/PIL/Image.py:2911: DecompressionBombWarning: Image size (104510712 pixels) exceeds limit of 89478485 pixels, could be decompression bomb DOS attack.\n",
      "  warnings.warn(\n",
      "/home/ubuntu/miniconda3/envs/style_transfer/lib/python3.8/site-packages/PIL/Image.py:2911: DecompressionBombWarning: Image size (115980858 pixels) exceeds limit of 89478485 pixels, could be decompression bomb DOS attack.\n",
      "  warnings.warn(\n",
      "/home/ubuntu/miniconda3/envs/style_transfer/lib/python3.8/site-packages/PIL/Image.py:2911: DecompressionBombWarning: Image size (157024384 pixels) exceeds limit of 89478485 pixels, could be decompression bomb DOS attack.\n",
      "  warnings.warn(\n",
      "/home/ubuntu/miniconda3/envs/style_transfer/lib/python3.8/site-packages/PIL/Image.py:2911: DecompressionBombWarning: Image size (93731400 pixels) exceeds limit of 89478485 pixels, could be decompression bomb DOS attack.\n",
      "  warnings.warn(\n"
     ]
    },
    {
     "name": "stdout",
     "output_type": "stream",
     "text": [
      "LossGEN: 1.2384, LossRec: 0.6446, loss_G_GAN: 0.36882, loss_G_AC: 0.84495, LossDESCR GAN: 0.11414, tv_loss: 0.024659, LossDESCR Class: 10.354\n"
     ]
    },
    {
     "name": "stderr",
     "output_type": "stream",
     "text": [
      "/home/ubuntu/miniconda3/envs/style_transfer/lib/python3.8/site-packages/PIL/Image.py:2911: DecompressionBombWarning: Image size (112744125 pixels) exceeds limit of 89478485 pixels, could be decompression bomb DOS attack.\n",
      "  warnings.warn(\n",
      "/home/ubuntu/miniconda3/envs/style_transfer/lib/python3.8/site-packages/PIL/Image.py:2911: DecompressionBombWarning: Image size (102083333 pixels) exceeds limit of 89478485 pixels, could be decompression bomb DOS attack.\n",
      "  warnings.warn(\n",
      "/home/ubuntu/miniconda3/envs/style_transfer/lib/python3.8/site-packages/PIL/Image.py:2911: DecompressionBombWarning: Image size (97970236 pixels) exceeds limit of 89478485 pixels, could be decompression bomb DOS attack.\n",
      "  warnings.warn(\n"
     ]
    },
    {
     "name": "stdout",
     "output_type": "stream",
     "text": [
      "LossGEN: 0.56908, LossRec: 0.64266, loss_G_GAN: 0.10486, loss_G_AC: 0.44476, LossDESCR GAN: 0.068981, tv_loss: 0.019458, LossDESCR Class: 0.73782\n"
     ]
    },
    {
     "name": "stderr",
     "output_type": "stream",
     "text": [
      "/home/ubuntu/miniconda3/envs/style_transfer/lib/python3.8/site-packages/PIL/Image.py:2911: DecompressionBombWarning: Image size (157209150 pixels) exceeds limit of 89478485 pixels, could be decompression bomb DOS attack.\n",
      "  warnings.warn(\n"
     ]
    },
    {
     "name": "stdout",
     "output_type": "stream",
     "text": [
      "LossGEN: 1.1589, LossRec: 0.86655, loss_G_GAN: 0.55845, loss_G_AC: 0.53236, LossDESCR GAN: 0.27531, tv_loss: 0.068055, LossDESCR Class: 2.5991\n"
     ]
    },
    {
     "name": "stderr",
     "output_type": "stream",
     "text": [
      "/home/ubuntu/miniconda3/envs/style_transfer/lib/python3.8/site-packages/PIL/Image.py:2911: DecompressionBombWarning: Image size (156877240 pixels) exceeds limit of 89478485 pixels, could be decompression bomb DOS attack.\n",
      "  warnings.warn(\n",
      "/home/ubuntu/miniconda3/envs/style_transfer/lib/python3.8/site-packages/PIL/Image.py:2911: DecompressionBombWarning: Image size (157132654 pixels) exceeds limit of 89478485 pixels, could be decompression bomb DOS attack.\n",
      "  warnings.warn(\n",
      "/home/ubuntu/miniconda3/envs/style_transfer/lib/python3.8/site-packages/PIL/Image.py:2911: DecompressionBombWarning: Image size (143025860 pixels) exceeds limit of 89478485 pixels, could be decompression bomb DOS attack.\n",
      "  warnings.warn(\n",
      "/home/ubuntu/miniconda3/envs/style_transfer/lib/python3.8/site-packages/PIL/Image.py:2911: DecompressionBombWarning: Image size (157467375 pixels) exceeds limit of 89478485 pixels, could be decompression bomb DOS attack.\n",
      "  warnings.warn(\n"
     ]
    },
    {
     "name": "stdout",
     "output_type": "stream",
     "text": [
      "LossGEN: 0.96055, LossRec: 0.59289, loss_G_GAN: 0.67734, loss_G_AC: 0.19314, LossDESCR GAN: 0.29059, tv_loss: 0.090069, LossDESCR Class: 0.21414\n"
     ]
    },
    {
     "name": "stderr",
     "output_type": "stream",
     "text": [
      "/home/ubuntu/miniconda3/envs/style_transfer/lib/python3.8/site-packages/PIL/Image.py:2911: DecompressionBombWarning: Image size (142891647 pixels) exceeds limit of 89478485 pixels, could be decompression bomb DOS attack.\n",
      "  warnings.warn(\n",
      "/home/ubuntu/miniconda3/envs/style_transfer/lib/python3.8/site-packages/PIL/Image.py:2911: DecompressionBombWarning: Image size (101297526 pixels) exceeds limit of 89478485 pixels, could be decompression bomb DOS attack.\n",
      "  warnings.warn(\n",
      "/home/ubuntu/miniconda3/envs/style_transfer/lib/python3.8/site-packages/PIL/Image.py:2911: DecompressionBombWarning: Image size (102083333 pixels) exceeds limit of 89478485 pixels, could be decompression bomb DOS attack.\n",
      "  warnings.warn(\n",
      "/home/ubuntu/miniconda3/envs/style_transfer/lib/python3.8/site-packages/PIL/Image.py:2911: DecompressionBombWarning: Image size (111502440 pixels) exceeds limit of 89478485 pixels, could be decompression bomb DOS attack.\n",
      "  warnings.warn(\n",
      "/home/ubuntu/miniconda3/envs/style_transfer/lib/python3.8/site-packages/PIL/Image.py:2911: DecompressionBombWarning: Image size (157156288 pixels) exceeds limit of 89478485 pixels, could be decompression bomb DOS attack.\n",
      "  warnings.warn(\n",
      "/home/ubuntu/miniconda3/envs/style_transfer/lib/python3.8/site-packages/PIL/Image.py:2911: DecompressionBombWarning: Image size (97357988 pixels) exceeds limit of 89478485 pixels, could be decompression bomb DOS attack.\n",
      "  warnings.warn(\n",
      "/home/ubuntu/miniconda3/envs/style_transfer/lib/python3.8/site-packages/PIL/Image.py:2911: DecompressionBombWarning: Image size (156951104 pixels) exceeds limit of 89478485 pixels, could be decompression bomb DOS attack.\n",
      "  warnings.warn(\n",
      "/home/ubuntu/miniconda3/envs/style_transfer/lib/python3.8/site-packages/PIL/Image.py:2911: DecompressionBombWarning: Image size (96079880 pixels) exceeds limit of 89478485 pixels, could be decompression bomb DOS attack.\n",
      "  warnings.warn(\n"
     ]
    },
    {
     "name": "stdout",
     "output_type": "stream",
     "text": [
      "LossGEN: 0.33822, LossRec: 0.47668, loss_G_GAN: 0.22797, loss_G_AC: 0.032613, LossDESCR GAN: 0.074744, tv_loss: 0.077643, LossDESCR Class: 0.14143\n"
     ]
    },
    {
     "name": "stderr",
     "output_type": "stream",
     "text": [
      "/home/ubuntu/miniconda3/envs/style_transfer/lib/python3.8/site-packages/PIL/Image.py:2911: DecompressionBombWarning: Image size (99313084 pixels) exceeds limit of 89478485 pixels, could be decompression bomb DOS attack.\n",
      "  warnings.warn(\n",
      "/home/ubuntu/miniconda3/envs/style_transfer/lib/python3.8/site-packages/PIL/Image.py:2911: DecompressionBombWarning: Image size (157295103 pixels) exceeds limit of 89478485 pixels, could be decompression bomb DOS attack.\n",
      "  warnings.warn(\n",
      "/home/ubuntu/miniconda3/envs/style_transfer/lib/python3.8/site-packages/PIL/Image.py:2911: DecompressionBombWarning: Image size (96182492 pixels) exceeds limit of 89478485 pixels, could be decompression bomb DOS attack.\n",
      "  warnings.warn(\n",
      "/home/ubuntu/miniconda3/envs/style_transfer/lib/python3.8/site-packages/PIL/Image.py:2911: DecompressionBombWarning: Image size (115288915 pixels) exceeds limit of 89478485 pixels, could be decompression bomb DOS attack.\n",
      "  warnings.warn(\n",
      "/home/ubuntu/miniconda3/envs/style_transfer/lib/python3.8/site-packages/PIL/Image.py:2911: DecompressionBombWarning: Image size (96471284 pixels) exceeds limit of 89478485 pixels, could be decompression bomb DOS attack.\n",
      "  warnings.warn(\n",
      "/home/ubuntu/miniconda3/envs/style_transfer/lib/python3.8/site-packages/PIL/Image.py:2911: DecompressionBombWarning: Image size (99313084 pixels) exceeds limit of 89478485 pixels, could be decompression bomb DOS attack.\n",
      "  warnings.warn(\n",
      "/home/ubuntu/miniconda3/envs/style_transfer/lib/python3.8/site-packages/PIL/Image.py:2911: DecompressionBombWarning: Image size (90555304 pixels) exceeds limit of 89478485 pixels, could be decompression bomb DOS attack.\n",
      "  warnings.warn(\n",
      "/home/ubuntu/miniconda3/envs/style_transfer/lib/python3.8/site-packages/PIL/Image.py:2911: DecompressionBombWarning: Image size (111990450 pixels) exceeds limit of 89478485 pixels, could be decompression bomb DOS attack.\n",
      "  warnings.warn(\n",
      "/home/ubuntu/miniconda3/envs/style_transfer/lib/python3.8/site-packages/PIL/Image.py:2911: DecompressionBombWarning: Image size (102083333 pixels) exceeds limit of 89478485 pixels, could be decompression bomb DOS attack.\n",
      "  warnings.warn(\n",
      "/home/ubuntu/miniconda3/envs/style_transfer/lib/python3.8/site-packages/PIL/Image.py:2911: DecompressionBombWarning: Image size (96239052 pixels) exceeds limit of 89478485 pixels, could be decompression bomb DOS attack.\n",
      "  warnings.warn(\n",
      "/home/ubuntu/miniconda3/envs/style_transfer/lib/python3.8/site-packages/PIL/Image.py:2911: DecompressionBombWarning: Image size (100285933 pixels) exceeds limit of 89478485 pixels, could be decompression bomb DOS attack.\n",
      "  warnings.warn(\n",
      "/home/ubuntu/miniconda3/envs/style_transfer/lib/python3.8/site-packages/PIL/Image.py:2911: DecompressionBombWarning: Image size (96239052 pixels) exceeds limit of 89478485 pixels, could be decompression bomb DOS attack.\n",
      "  warnings.warn(\n"
     ]
    },
    {
     "name": "stdout",
     "output_type": "stream",
     "text": [
      "LossGEN: 2.7142, LossRec: 1.0949, loss_G_GAN: 0.14035, loss_G_AC: 2.562, LossDESCR GAN: 0.13398, tv_loss: 0.011864, LossDESCR Class: 0.62915\n"
     ]
    },
    {
     "name": "stderr",
     "output_type": "stream",
     "text": [
      "/home/ubuntu/miniconda3/envs/style_transfer/lib/python3.8/site-packages/PIL/Image.py:2911: DecompressionBombWarning: Image size (157511790 pixels) exceeds limit of 89478485 pixels, could be decompression bomb DOS attack.\n",
      "  warnings.warn(\n",
      "/home/ubuntu/miniconda3/envs/style_transfer/lib/python3.8/site-packages/PIL/Image.py:2911: DecompressionBombWarning: Image size (98209936 pixels) exceeds limit of 89478485 pixels, could be decompression bomb DOS attack.\n",
      "  warnings.warn(\n",
      "/home/ubuntu/miniconda3/envs/style_transfer/lib/python3.8/site-packages/PIL/Image.py:2911: DecompressionBombWarning: Image size (157099800 pixels) exceeds limit of 89478485 pixels, could be decompression bomb DOS attack.\n",
      "  warnings.warn(\n"
     ]
    },
    {
     "name": "stdout",
     "output_type": "stream",
     "text": [
      "LossGEN: 0.85205, LossRec: 0.92655, loss_G_GAN: 0.56663, loss_G_AC: 0.14522, LossDESCR GAN: 0.055091, tv_loss: 0.14019, LossDESCR Class: 0.1324\n",
      "LossGEN: 0.36578, LossRec: 0.57578, loss_G_GAN: 0.24159, loss_G_AC: 0.11782, LossDESCR GAN: 0.36869, tv_loss: 0.0063751, LossDESCR Class: 0.19448\n"
     ]
    },
    {
     "name": "stderr",
     "output_type": "stream",
     "text": [
      "/home/ubuntu/miniconda3/envs/style_transfer/lib/python3.8/site-packages/PIL/Image.py:2911: DecompressionBombWarning: Image size (111502440 pixels) exceeds limit of 89478485 pixels, could be decompression bomb DOS attack.\n",
      "  warnings.warn(\n",
      "/home/ubuntu/miniconda3/envs/style_transfer/lib/python3.8/site-packages/PIL/Image.py:2911: DecompressionBombWarning: Image size (110671579 pixels) exceeds limit of 89478485 pixels, could be decompression bomb DOS attack.\n",
      "  warnings.warn(\n"
     ]
    },
    {
     "name": "stdout",
     "output_type": "stream",
     "text": [
      "LossGEN: 0.66616, LossRec: 0.52381, loss_G_GAN: 0.50775, loss_G_AC: 0.15614, LossDESCR GAN: 0.15312, tv_loss: 0.0022633, LossDESCR Class: 0.16162\n"
     ]
    },
    {
     "name": "stderr",
     "output_type": "stream",
     "text": [
      "/home/ubuntu/miniconda3/envs/style_transfer/lib/python3.8/site-packages/PIL/Image.py:2911: DecompressionBombWarning: Image size (102599936 pixels) exceeds limit of 89478485 pixels, could be decompression bomb DOS attack.\n",
      "  warnings.warn(\n",
      "/home/ubuntu/miniconda3/envs/style_transfer/lib/python3.8/site-packages/PIL/Image.py:2911: DecompressionBombWarning: Image size (95795700 pixels) exceeds limit of 89478485 pixels, could be decompression bomb DOS attack.\n",
      "  warnings.warn(\n",
      "/home/ubuntu/miniconda3/envs/style_transfer/lib/python3.8/site-packages/PIL/Image.py:2911: DecompressionBombWarning: Image size (157132750 pixels) exceeds limit of 89478485 pixels, could be decompression bomb DOS attack.\n",
      "  warnings.warn(\n",
      "/home/ubuntu/miniconda3/envs/style_transfer/lib/python3.8/site-packages/PIL/Image.py:2911: DecompressionBombWarning: Image size (116507052 pixels) exceeds limit of 89478485 pixels, could be decompression bomb DOS attack.\n",
      "  warnings.warn(\n",
      "/home/ubuntu/miniconda3/envs/style_transfer/lib/python3.8/site-packages/PIL/Image.py:2911: DecompressionBombWarning: Image size (111431880 pixels) exceeds limit of 89478485 pixels, could be decompression bomb DOS attack.\n",
      "  warnings.warn(\n",
      "/home/ubuntu/miniconda3/envs/style_transfer/lib/python3.8/site-packages/PIL/Image.py:2911: DecompressionBombWarning: Image size (115733552 pixels) exceeds limit of 89478485 pixels, could be decompression bomb DOS attack.\n",
      "  warnings.warn(\n",
      "/home/ubuntu/miniconda3/envs/style_transfer/lib/python3.8/site-packages/PIL/Image.py:2911: DecompressionBombWarning: Image size (144647592 pixels) exceeds limit of 89478485 pixels, could be decompression bomb DOS attack.\n",
      "  warnings.warn(\n",
      "/home/ubuntu/miniconda3/envs/style_transfer/lib/python3.8/site-packages/PIL/Image.py:2911: DecompressionBombWarning: Image size (96239052 pixels) exceeds limit of 89478485 pixels, could be decompression bomb DOS attack.\n",
      "  warnings.warn(\n"
     ]
    },
    {
     "name": "stdout",
     "output_type": "stream",
     "text": [
      "LossGEN: 2.001, LossRec: 0.94707, loss_G_GAN: 1.1138, loss_G_AC: 0.82772, LossDESCR GAN: 0.27899, tv_loss: 0.059549, LossDESCR Class: 0.42156\n"
     ]
    },
    {
     "name": "stderr",
     "output_type": "stream",
     "text": [
      "/home/ubuntu/miniconda3/envs/style_transfer/lib/python3.8/site-packages/PIL/Image.py:2911: DecompressionBombWarning: Image size (128232945 pixels) exceeds limit of 89478485 pixels, could be decompression bomb DOS attack.\n",
      "  warnings.warn(\n",
      "/home/ubuntu/miniconda3/envs/style_transfer/lib/python3.8/site-packages/PIL/Image.py:2911: DecompressionBombWarning: Image size (96948700 pixels) exceeds limit of 89478485 pixels, could be decompression bomb DOS attack.\n",
      "  warnings.warn(\n",
      "/home/ubuntu/miniconda3/envs/style_transfer/lib/python3.8/site-packages/PIL/Image.py:2911: DecompressionBombWarning: Image size (157617366 pixels) exceeds limit of 89478485 pixels, could be decompression bomb DOS attack.\n",
      "  warnings.warn(\n",
      "/home/ubuntu/miniconda3/envs/style_transfer/lib/python3.8/site-packages/PIL/Image.py:2911: DecompressionBombWarning: Image size (143216652 pixels) exceeds limit of 89478485 pixels, could be decompression bomb DOS attack.\n",
      "  warnings.warn(\n"
     ]
    },
    {
     "name": "stdout",
     "output_type": "stream",
     "text": [
      "LossGEN: 1.2874, LossRec: 0.52575, loss_G_GAN: 0.74757, loss_G_AC: 0.44753, LossDESCR GAN: 0.25141, tv_loss: 0.092318, LossDESCR Class: 32.696\n"
     ]
    },
    {
     "name": "stderr",
     "output_type": "stream",
     "text": [
      "/home/ubuntu/miniconda3/envs/style_transfer/lib/python3.8/site-packages/PIL/Image.py:2911: DecompressionBombWarning: Image size (157541130 pixels) exceeds limit of 89478485 pixels, could be decompression bomb DOS attack.\n",
      "  warnings.warn(\n",
      "/home/ubuntu/miniconda3/envs/style_transfer/lib/python3.8/site-packages/PIL/Image.py:2911: DecompressionBombWarning: Image size (157660584 pixels) exceeds limit of 89478485 pixels, could be decompression bomb DOS attack.\n",
      "  warnings.warn(\n",
      "/home/ubuntu/miniconda3/envs/style_transfer/lib/python3.8/site-packages/PIL/Image.py:2911: DecompressionBombWarning: Image size (115601304 pixels) exceeds limit of 89478485 pixels, could be decompression bomb DOS attack.\n",
      "  warnings.warn(\n",
      "/home/ubuntu/miniconda3/envs/style_transfer/lib/python3.8/site-packages/PIL/Image.py:2911: DecompressionBombWarning: Image size (95922372 pixels) exceeds limit of 89478485 pixels, could be decompression bomb DOS attack.\n",
      "  warnings.warn(\n",
      "/home/ubuntu/miniconda3/envs/style_transfer/lib/python3.8/site-packages/PIL/Image.py:2911: DecompressionBombWarning: Image size (97643000 pixels) exceeds limit of 89478485 pixels, could be decompression bomb DOS attack.\n",
      "  warnings.warn(\n"
     ]
    },
    {
     "name": "stdout",
     "output_type": "stream",
     "text": [
      "LossGEN: 0.76223, LossRec: 0.6454, loss_G_GAN: 0.58028, loss_G_AC: 0.15398, LossDESCR GAN: 0.16467, tv_loss: 0.027967, LossDESCR Class: 0.38992\n"
     ]
    },
    {
     "name": "stderr",
     "output_type": "stream",
     "text": [
      "/home/ubuntu/miniconda3/envs/style_transfer/lib/python3.8/site-packages/PIL/Image.py:2911: DecompressionBombWarning: Image size (96948700 pixels) exceeds limit of 89478485 pixels, could be decompression bomb DOS attack.\n",
      "  warnings.warn(\n",
      "/home/ubuntu/miniconda3/envs/style_transfer/lib/python3.8/site-packages/PIL/Image.py:2911: DecompressionBombWarning: Image size (115980858 pixels) exceeds limit of 89478485 pixels, could be decompression bomb DOS attack.\n",
      "  warnings.warn(\n",
      "/home/ubuntu/miniconda3/envs/style_transfer/lib/python3.8/site-packages/PIL/Image.py:2911: DecompressionBombWarning: Image size (96587400 pixels) exceeds limit of 89478485 pixels, could be decompression bomb DOS attack.\n",
      "  warnings.warn(\n"
     ]
    },
    {
     "name": "stdout",
     "output_type": "stream",
     "text": [
      "LossGEN: 0.8035, LossRec: 0.66733, loss_G_GAN: 0.69295, loss_G_AC: 0.072951, LossDESCR GAN: 0.062875, tv_loss: 0.037598, LossDESCR Class: 0.40287\n"
     ]
    },
    {
     "name": "stderr",
     "output_type": "stream",
     "text": [
      "/home/ubuntu/miniconda3/envs/style_transfer/lib/python3.8/site-packages/PIL/Image.py:2911: DecompressionBombWarning: Image size (96948700 pixels) exceeds limit of 89478485 pixels, could be decompression bomb DOS attack.\n",
      "  warnings.warn(\n",
      "/home/ubuntu/miniconda3/envs/style_transfer/lib/python3.8/site-packages/PIL/Image.py:2911: DecompressionBombWarning: Image size (156865432 pixels) exceeds limit of 89478485 pixels, could be decompression bomb DOS attack.\n",
      "  warnings.warn(\n"
     ]
    },
    {
     "name": "stdout",
     "output_type": "stream",
     "text": [
      "LossGEN: 1.1679, LossRec: 0.96926, loss_G_GAN: 0.80045, loss_G_AC: 0.2974, LossDESCR GAN: 0.088349, tv_loss: 0.070013, LossDESCR Class: 17.058\n"
     ]
    },
    {
     "name": "stderr",
     "output_type": "stream",
     "text": [
      "/home/ubuntu/miniconda3/envs/style_transfer/lib/python3.8/site-packages/PIL/Image.py:2911: DecompressionBombWarning: Image size (145328992 pixels) exceeds limit of 89478485 pixels, could be decompression bomb DOS attack.\n",
      "  warnings.warn(\n",
      "/home/ubuntu/miniconda3/envs/style_transfer/lib/python3.8/site-packages/PIL/Image.py:2911: DecompressionBombWarning: Image size (128710211 pixels) exceeds limit of 89478485 pixels, could be decompression bomb DOS attack.\n",
      "  warnings.warn(\n",
      "/home/ubuntu/miniconda3/envs/style_transfer/lib/python3.8/site-packages/PIL/Image.py:2911: DecompressionBombWarning: Image size (99313084 pixels) exceeds limit of 89478485 pixels, could be decompression bomb DOS attack.\n",
      "  warnings.warn(\n",
      "/home/ubuntu/miniconda3/envs/style_transfer/lib/python3.8/site-packages/PIL/Image.py:2911: DecompressionBombWarning: Image size (116600327 pixels) exceeds limit of 89478485 pixels, could be decompression bomb DOS attack.\n",
      "  warnings.warn(\n",
      "/home/ubuntu/miniconda3/envs/style_transfer/lib/python3.8/site-packages/PIL/Image.py:2911: DecompressionBombWarning: Image size (93218188 pixels) exceeds limit of 89478485 pixels, could be decompression bomb DOS attack.\n",
      "  warnings.warn(\n"
     ]
    },
    {
     "name": "stdout",
     "output_type": "stream",
     "text": [
      "LossGEN: 1.8412, LossRec: 0.94714, loss_G_GAN: 0.61438, loss_G_AC: 1.1892, LossDESCR GAN: 0.063609, tv_loss: 0.037599, LossDESCR Class: 0.98032\n"
     ]
    },
    {
     "name": "stderr",
     "output_type": "stream",
     "text": [
      "/home/ubuntu/miniconda3/envs/style_transfer/lib/python3.8/site-packages/PIL/Image.py:2911: DecompressionBombWarning: Image size (111502440 pixels) exceeds limit of 89478485 pixels, could be decompression bomb DOS attack.\n",
      "  warnings.warn(\n",
      "/home/ubuntu/miniconda3/envs/style_transfer/lib/python3.8/site-packages/PIL/Image.py:2911: DecompressionBombWarning: Image size (109198282 pixels) exceeds limit of 89478485 pixels, could be decompression bomb DOS attack.\n",
      "  warnings.warn(\n",
      "/home/ubuntu/miniconda3/envs/style_transfer/lib/python3.8/site-packages/PIL/Image.py:2911: DecompressionBombWarning: Image size (157156288 pixels) exceeds limit of 89478485 pixels, could be decompression bomb DOS attack.\n",
      "  warnings.warn(\n",
      "/home/ubuntu/miniconda3/envs/style_transfer/lib/python3.8/site-packages/PIL/Image.py:2911: DecompressionBombWarning: Image size (134862800 pixels) exceeds limit of 89478485 pixels, could be decompression bomb DOS attack.\n",
      "  warnings.warn(\n",
      "/home/ubuntu/miniconda3/envs/style_transfer/lib/python3.8/site-packages/PIL/Image.py:2911: DecompressionBombWarning: Image size (144647592 pixels) exceeds limit of 89478485 pixels, could be decompression bomb DOS attack.\n",
      "  warnings.warn(\n"
     ]
    },
    {
     "name": "stdout",
     "output_type": "stream",
     "text": [
      "LossGEN: 0.83402, LossRec: 1.0313, loss_G_GAN: 0.45735, loss_G_AC: 0.34615, LossDESCR GAN: 0.056762, tv_loss: 0.030523, LossDESCR Class: 2.8457\n"
     ]
    },
    {
     "name": "stderr",
     "output_type": "stream",
     "text": [
      "/home/ubuntu/miniconda3/envs/style_transfer/lib/python3.8/site-packages/PIL/Image.py:2911: DecompressionBombWarning: Image size (157587176 pixels) exceeds limit of 89478485 pixels, could be decompression bomb DOS attack.\n",
      "  warnings.warn(\n",
      "/home/ubuntu/miniconda3/envs/style_transfer/lib/python3.8/site-packages/PIL/Image.py:2911: DecompressionBombWarning: Image size (114924832 pixels) exceeds limit of 89478485 pixels, could be decompression bomb DOS attack.\n",
      "  warnings.warn(\n",
      "/home/ubuntu/miniconda3/envs/style_transfer/lib/python3.8/site-packages/PIL/Image.py:2911: DecompressionBombWarning: Image size (156942729 pixels) exceeds limit of 89478485 pixels, could be decompression bomb DOS attack.\n",
      "  warnings.warn(\n",
      "/home/ubuntu/miniconda3/envs/style_transfer/lib/python3.8/site-packages/PIL/Image.py:2911: DecompressionBombWarning: Image size (94459560 pixels) exceeds limit of 89478485 pixels, could be decompression bomb DOS attack.\n",
      "  warnings.warn(\n",
      "/home/ubuntu/miniconda3/envs/style_transfer/lib/python3.8/site-packages/PIL/Image.py:2911: DecompressionBombWarning: Image size (115601304 pixels) exceeds limit of 89478485 pixels, could be decompression bomb DOS attack.\n",
      "  warnings.warn(\n"
     ]
    },
    {
     "name": "stdout",
     "output_type": "stream",
     "text": [
      "LossGEN: 0.77682, LossRec: 1.0623, loss_G_GAN: 0.5723, loss_G_AC: 0.16448, LossDESCR GAN: 0.075289, tv_loss: 0.040037, LossDESCR Class: 0.21951\n"
     ]
    },
    {
     "name": "stderr",
     "output_type": "stream",
     "text": [
      "/home/ubuntu/miniconda3/envs/style_transfer/lib/python3.8/site-packages/PIL/Image.py:2911: DecompressionBombWarning: Image size (97526884 pixels) exceeds limit of 89478485 pixels, could be decompression bomb DOS attack.\n",
      "  warnings.warn(\n",
      "/home/ubuntu/miniconda3/envs/style_transfer/lib/python3.8/site-packages/PIL/Image.py:2911: DecompressionBombWarning: Image size (157617366 pixels) exceeds limit of 89478485 pixels, could be decompression bomb DOS attack.\n",
      "  warnings.warn(\n",
      "/home/ubuntu/miniconda3/envs/style_transfer/lib/python3.8/site-packages/PIL/Image.py:2911: DecompressionBombWarning: Image size (157293936 pixels) exceeds limit of 89478485 pixels, could be decompression bomb DOS attack.\n",
      "  warnings.warn(\n",
      "/home/ubuntu/miniconda3/envs/style_transfer/lib/python3.8/site-packages/PIL/Image.py:2911: DecompressionBombWarning: Image size (100657316 pixels) exceeds limit of 89478485 pixels, could be decompression bomb DOS attack.\n",
      "  warnings.warn(\n"
     ]
    },
    {
     "name": "stdout",
     "output_type": "stream",
     "text": [
      "LossGEN: 0.85392, LossRec: 0.41529, loss_G_GAN: 0.38476, loss_G_AC: 0.45054, LossDESCR GAN: 0.28032, tv_loss: 0.01863, LossDESCR Class: 0.93421\n"
     ]
    },
    {
     "name": "stderr",
     "output_type": "stream",
     "text": [
      "/home/ubuntu/miniconda3/envs/style_transfer/lib/python3.8/site-packages/PIL/Image.py:2911: DecompressionBombWarning: Image size (111674200 pixels) exceeds limit of 89478485 pixels, could be decompression bomb DOS attack.\n",
      "  warnings.warn(\n",
      "/home/ubuntu/miniconda3/envs/style_transfer/lib/python3.8/site-packages/PIL/Image.py:2911: DecompressionBombWarning: Image size (157099800 pixels) exceeds limit of 89478485 pixels, could be decompression bomb DOS attack.\n",
      "  warnings.warn(\n",
      "/home/ubuntu/miniconda3/envs/style_transfer/lib/python3.8/site-packages/PIL/Image.py:2911: DecompressionBombWarning: Image size (101777775 pixels) exceeds limit of 89478485 pixels, could be decompression bomb DOS attack.\n",
      "  warnings.warn(\n"
     ]
    },
    {
     "name": "stdout",
     "output_type": "stream",
     "text": [
      "LossGEN: 1.2849, LossRec: 0.72137, loss_G_GAN: 0.90269, loss_G_AC: 0.35841, LossDESCR GAN: 0.08517, tv_loss: 0.023791, LossDESCR Class: 0.84124\n"
     ]
    },
    {
     "name": "stderr",
     "output_type": "stream",
     "text": [
      "/home/ubuntu/miniconda3/envs/style_transfer/lib/python3.8/site-packages/PIL/Image.py:2911: DecompressionBombWarning: Image size (156952551 pixels) exceeds limit of 89478485 pixels, could be decompression bomb DOS attack.\n",
      "  warnings.warn(\n",
      "/home/ubuntu/miniconda3/envs/style_transfer/lib/python3.8/site-packages/PIL/Image.py:2911: DecompressionBombWarning: Image size (102971172 pixels) exceeds limit of 89478485 pixels, could be decompression bomb DOS attack.\n",
      "  warnings.warn(\n",
      "/home/ubuntu/miniconda3/envs/style_transfer/lib/python3.8/site-packages/PIL/Image.py:2911: DecompressionBombWarning: Image size (156886163 pixels) exceeds limit of 89478485 pixels, could be decompression bomb DOS attack.\n",
      "  warnings.warn(\n",
      "/home/ubuntu/miniconda3/envs/style_transfer/lib/python3.8/site-packages/PIL/Image.py:2911: DecompressionBombWarning: Image size (102304388 pixels) exceeds limit of 89478485 pixels, could be decompression bomb DOS attack.\n",
      "  warnings.warn(\n"
     ]
    },
    {
     "name": "stdout",
     "output_type": "stream",
     "text": [
      "====================\n",
      "EPOCH 1 (2021-08-17 14:49:53.645942)\n"
     ]
    },
    {
     "name": "stderr",
     "output_type": "stream",
     "text": [
      "/home/ubuntu/miniconda3/envs/style_transfer/lib/python3.8/site-packages/PIL/Image.py:2911: DecompressionBombWarning: Image size (97379100 pixels) exceeds limit of 89478485 pixels, could be decompression bomb DOS attack.\n",
      "  warnings.warn(\n",
      "/home/ubuntu/miniconda3/envs/style_transfer/lib/python3.8/site-packages/PIL/Image.py:2911: DecompressionBombWarning: Image size (156877240 pixels) exceeds limit of 89478485 pixels, could be decompression bomb DOS attack.\n",
      "  warnings.warn(\n"
     ]
    },
    {
     "name": "stdout",
     "output_type": "stream",
     "text": [
      "LossGEN: 0.91708, LossRec: 0.26305, loss_G_GAN: 0.75129, loss_G_AC: 0.0099829, LossDESCR GAN: 0.035026, tv_loss: 0.15581, LossDESCR Class: 0.009126\n"
     ]
    },
    {
     "name": "stderr",
     "output_type": "stream",
     "text": [
      "/home/ubuntu/miniconda3/envs/style_transfer/lib/python3.8/site-packages/PIL/Image.py:2911: DecompressionBombWarning: Image size (111431880 pixels) exceeds limit of 89478485 pixels, could be decompression bomb DOS attack.\n",
      "  warnings.warn(\n",
      "/home/ubuntu/miniconda3/envs/style_transfer/lib/python3.8/site-packages/PIL/Image.py:2911: DecompressionBombWarning: Image size (111674200 pixels) exceeds limit of 89478485 pixels, could be decompression bomb DOS attack.\n",
      "  warnings.warn(\n",
      "/home/ubuntu/miniconda3/envs/style_transfer/lib/python3.8/site-packages/PIL/Image.py:2911: DecompressionBombWarning: Image size (157716000 pixels) exceeds limit of 89478485 pixels, could be decompression bomb DOS attack.\n",
      "  warnings.warn(\n",
      "/home/ubuntu/miniconda3/envs/style_transfer/lib/python3.8/site-packages/PIL/Image.py:2911: DecompressionBombWarning: Image size (148262400 pixels) exceeds limit of 89478485 pixels, could be decompression bomb DOS attack.\n",
      "  warnings.warn(\n"
     ]
    },
    {
     "name": "stdout",
     "output_type": "stream",
     "text": [
      "LossGEN: 1.0423, LossRec: 0.49343, loss_G_GAN: 0.8902, loss_G_AC: 0.13371, LossDESCR GAN: 0.079323, tv_loss: 0.018387, LossDESCR Class: 0.75077\n"
     ]
    },
    {
     "name": "stderr",
     "output_type": "stream",
     "text": [
      "/home/ubuntu/miniconda3/envs/style_transfer/lib/python3.8/site-packages/PIL/Image.py:2911: DecompressionBombWarning: Image size (157132654 pixels) exceeds limit of 89478485 pixels, could be decompression bomb DOS attack.\n",
      "  warnings.warn(\n",
      "/home/ubuntu/miniconda3/envs/style_transfer/lib/python3.8/site-packages/PIL/Image.py:2911: DecompressionBombWarning: Image size (146175744 pixels) exceeds limit of 89478485 pixels, could be decompression bomb DOS attack.\n",
      "  warnings.warn(\n",
      "/home/ubuntu/miniconda3/envs/style_transfer/lib/python3.8/site-packages/PIL/Image.py:2911: DecompressionBombWarning: Image size (156953044 pixels) exceeds limit of 89478485 pixels, could be decompression bomb DOS attack.\n",
      "  warnings.warn(\n",
      "/home/ubuntu/miniconda3/envs/style_transfer/lib/python3.8/site-packages/PIL/Image.py:2911: DecompressionBombWarning: Image size (104449554 pixels) exceeds limit of 89478485 pixels, could be decompression bomb DOS attack.\n",
      "  warnings.warn(\n",
      "/home/ubuntu/miniconda3/envs/style_transfer/lib/python3.8/site-packages/PIL/Image.py:2911: DecompressionBombWarning: Image size (97379100 pixels) exceeds limit of 89478485 pixels, could be decompression bomb DOS attack.\n",
      "  warnings.warn(\n"
     ]
    },
    {
     "name": "stdout",
     "output_type": "stream",
     "text": [
      "LossGEN: 0.56266, LossRec: 0.57071, loss_G_GAN: 0.44464, loss_G_AC: 0.041497, LossDESCR GAN: 0.037722, tv_loss: 0.076524, LossDESCR Class: 1.8637\n"
     ]
    },
    {
     "name": "stderr",
     "output_type": "stream",
     "text": [
      "/home/ubuntu/miniconda3/envs/style_transfer/lib/python3.8/site-packages/PIL/Image.py:2911: DecompressionBombWarning: Image size (97970236 pixels) exceeds limit of 89478485 pixels, could be decompression bomb DOS attack.\n",
      "  warnings.warn(\n",
      "/home/ubuntu/miniconda3/envs/style_transfer/lib/python3.8/site-packages/PIL/Image.py:2911: DecompressionBombWarning: Image size (90093088 pixels) exceeds limit of 89478485 pixels, could be decompression bomb DOS attack.\n",
      "  warnings.warn(\n",
      "/home/ubuntu/miniconda3/envs/style_transfer/lib/python3.8/site-packages/PIL/Image.py:2911: DecompressionBombWarning: Image size (97526884 pixels) exceeds limit of 89478485 pixels, could be decompression bomb DOS attack.\n",
      "  warnings.warn(\n",
      "/home/ubuntu/miniconda3/envs/style_transfer/lib/python3.8/site-packages/PIL/Image.py:2911: DecompressionBombWarning: Image size (143025860 pixels) exceeds limit of 89478485 pixels, could be decompression bomb DOS attack.\n",
      "  warnings.warn(\n",
      "/home/ubuntu/miniconda3/envs/style_transfer/lib/python3.8/site-packages/PIL/Image.py:2911: DecompressionBombWarning: Image size (98209936 pixels) exceeds limit of 89478485 pixels, could be decompression bomb DOS attack.\n",
      "  warnings.warn(\n",
      "/home/ubuntu/miniconda3/envs/style_transfer/lib/python3.8/site-packages/PIL/Image.py:2911: DecompressionBombWarning: Image size (99081675 pixels) exceeds limit of 89478485 pixels, could be decompression bomb DOS attack.\n",
      "  warnings.warn(\n"
     ]
    },
    {
     "name": "stdout",
     "output_type": "stream",
     "text": [
      "LossGEN: 1.4485, LossRec: 0.67696, loss_G_GAN: 0.89028, loss_G_AC: 0.49617, LossDESCR GAN: 0.21247, tv_loss: 0.062012, LossDESCR Class: 0.089447\n"
     ]
    },
    {
     "name": "stderr",
     "output_type": "stream",
     "text": [
      "/home/ubuntu/miniconda3/envs/style_transfer/lib/python3.8/site-packages/PIL/Image.py:2911: DecompressionBombWarning: Image size (101777775 pixels) exceeds limit of 89478485 pixels, could be decompression bomb DOS attack.\n",
      "  warnings.warn(\n",
      "/home/ubuntu/miniconda3/envs/style_transfer/lib/python3.8/site-packages/PIL/Image.py:2911: DecompressionBombWarning: Image size (101704336 pixels) exceeds limit of 89478485 pixels, could be decompression bomb DOS attack.\n",
      "  warnings.warn(\n",
      "/home/ubuntu/miniconda3/envs/style_transfer/lib/python3.8/site-packages/PIL/Image.py:2911: DecompressionBombWarning: Image size (96587400 pixels) exceeds limit of 89478485 pixels, could be decompression bomb DOS attack.\n",
      "  warnings.warn(\n",
      "/home/ubuntu/miniconda3/envs/style_transfer/lib/python3.8/site-packages/PIL/Image.py:2911: DecompressionBombWarning: Image size (97410768 pixels) exceeds limit of 89478485 pixels, could be decompression bomb DOS attack.\n",
      "  warnings.warn(\n",
      "/home/ubuntu/miniconda3/envs/style_transfer/lib/python3.8/site-packages/PIL/Image.py:2911: DecompressionBombWarning: Image size (98209936 pixels) exceeds limit of 89478485 pixels, could be decompression bomb DOS attack.\n",
      "  warnings.warn(\n",
      "/home/ubuntu/miniconda3/envs/style_transfer/lib/python3.8/site-packages/PIL/Image.py:2911: DecompressionBombWarning: Image size (157308154 pixels) exceeds limit of 89478485 pixels, could be decompression bomb DOS attack.\n",
      "  warnings.warn(\n",
      "/home/ubuntu/miniconda3/envs/style_transfer/lib/python3.8/site-packages/PIL/Image.py:2911: DecompressionBombWarning: Image size (96386836 pixels) exceeds limit of 89478485 pixels, could be decompression bomb DOS attack.\n",
      "  warnings.warn(\n"
     ]
    },
    {
     "name": "stdout",
     "output_type": "stream",
     "text": [
      "LossGEN: 1.3547, LossRec: 1.5634, loss_G_GAN: 1.0224, loss_G_AC: 0.29905, LossDESCR GAN: 0.12525, tv_loss: 0.033233, LossDESCR Class: 0.3376\n"
     ]
    },
    {
     "name": "stderr",
     "output_type": "stream",
     "text": [
      "/home/ubuntu/miniconda3/envs/style_transfer/lib/python3.8/site-packages/PIL/Image.py:2911: DecompressionBombWarning: Image size (145942116 pixels) exceeds limit of 89478485 pixels, could be decompression bomb DOS attack.\n",
      "  warnings.warn(\n",
      "/home/ubuntu/miniconda3/envs/style_transfer/lib/python3.8/site-packages/PIL/Image.py:2911: DecompressionBombWarning: Image size (115601304 pixels) exceeds limit of 89478485 pixels, could be decompression bomb DOS attack.\n",
      "  warnings.warn(\n",
      "/home/ubuntu/miniconda3/envs/style_transfer/lib/python3.8/site-packages/PIL/Image.py:2911: DecompressionBombWarning: Image size (157209150 pixels) exceeds limit of 89478485 pixels, could be decompression bomb DOS attack.\n",
      "  warnings.warn(\n",
      "/home/ubuntu/miniconda3/envs/style_transfer/lib/python3.8/site-packages/PIL/Image.py:2911: DecompressionBombWarning: Image size (101777775 pixels) exceeds limit of 89478485 pixels, could be decompression bomb DOS attack.\n",
      "  warnings.warn(\n",
      "/home/ubuntu/miniconda3/envs/style_transfer/lib/python3.8/site-packages/PIL/Image.py:2911: DecompressionBombWarning: Image size (117834500 pixels) exceeds limit of 89478485 pixels, could be decompression bomb DOS attack.\n",
      "  warnings.warn(\n"
     ]
    },
    {
     "name": "stdout",
     "output_type": "stream",
     "text": [
      "LossGEN: 0.90092, LossRec: 0.42499, loss_G_GAN: 0.54903, loss_G_AC: 0.31383, LossDESCR GAN: 0.10779, tv_loss: 0.038065, LossDESCR Class: 0.16439\n"
     ]
    },
    {
     "name": "stderr",
     "output_type": "stream",
     "text": [
      "/home/ubuntu/miniconda3/envs/style_transfer/lib/python3.8/site-packages/PIL/Image.py:2911: DecompressionBombWarning: Image size (99313084 pixels) exceeds limit of 89478485 pixels, could be decompression bomb DOS attack.\n",
      "  warnings.warn(\n"
     ]
    },
    {
     "name": "stdout",
     "output_type": "stream",
     "text": [
      "LossGEN: 0.77023, LossRec: 1.1866, loss_G_GAN: 0.73592, loss_G_AC: 0.0085662, LossDESCR GAN: 0.097094, tv_loss: 0.025737, LossDESCR Class: 0.0058674\n"
     ]
    },
    {
     "name": "stderr",
     "output_type": "stream",
     "text": [
      "/home/ubuntu/miniconda3/envs/style_transfer/lib/python3.8/site-packages/PIL/Image.py:2911: DecompressionBombWarning: Image size (110331104 pixels) exceeds limit of 89478485 pixels, could be decompression bomb DOS attack.\n",
      "  warnings.warn(\n",
      "/home/ubuntu/miniconda3/envs/style_transfer/lib/python3.8/site-packages/PIL/Image.py:2911: DecompressionBombWarning: Image size (100346274 pixels) exceeds limit of 89478485 pixels, could be decompression bomb DOS attack.\n",
      "  warnings.warn(\n",
      "/home/ubuntu/miniconda3/envs/style_transfer/lib/python3.8/site-packages/PIL/Image.py:2911: DecompressionBombWarning: Image size (96830188 pixels) exceeds limit of 89478485 pixels, could be decompression bomb DOS attack.\n",
      "  warnings.warn(\n"
     ]
    },
    {
     "name": "stdout",
     "output_type": "stream",
     "text": [
      "LossGEN: 1.4, LossRec: 0.3361, loss_G_GAN: 1.3537, loss_G_AC: 0.041497, LossDESCR GAN: 0.091316, tv_loss: 0.0048512, LossDESCR Class: 0.015021\n"
     ]
    },
    {
     "name": "stderr",
     "output_type": "stream",
     "text": [
      "/home/ubuntu/miniconda3/envs/style_transfer/lib/python3.8/site-packages/PIL/Image.py:2911: DecompressionBombWarning: Image size (101481204 pixels) exceeds limit of 89478485 pixels, could be decompression bomb DOS attack.\n",
      "  warnings.warn(\n",
      "/home/ubuntu/miniconda3/envs/style_transfer/lib/python3.8/site-packages/PIL/Image.py:2911: DecompressionBombWarning: Image size (157308154 pixels) exceeds limit of 89478485 pixels, could be decompression bomb DOS attack.\n",
      "  warnings.warn(\n",
      "/home/ubuntu/miniconda3/envs/style_transfer/lib/python3.8/site-packages/PIL/Image.py:2911: DecompressionBombWarning: Image size (144347776 pixels) exceeds limit of 89478485 pixels, could be decompression bomb DOS attack.\n",
      "  warnings.warn(\n",
      "/home/ubuntu/miniconda3/envs/style_transfer/lib/python3.8/site-packages/PIL/Image.py:2911: DecompressionBombWarning: Image size (126829912 pixels) exceeds limit of 89478485 pixels, could be decompression bomb DOS attack.\n",
      "  warnings.warn(\n",
      "/home/ubuntu/miniconda3/envs/style_transfer/lib/python3.8/site-packages/PIL/Image.py:2911: DecompressionBombWarning: Image size (97326320 pixels) exceeds limit of 89478485 pixels, could be decompression bomb DOS attack.\n",
      "  warnings.warn(\n",
      "/home/ubuntu/miniconda3/envs/style_transfer/lib/python3.8/site-packages/PIL/Image.py:2911: DecompressionBombWarning: Image size (110331104 pixels) exceeds limit of 89478485 pixels, could be decompression bomb DOS attack.\n",
      "  warnings.warn(\n",
      "/home/ubuntu/miniconda3/envs/style_transfer/lib/python3.8/site-packages/PIL/Image.py:2911: DecompressionBombWarning: Image size (111990450 pixels) exceeds limit of 89478485 pixels, could be decompression bomb DOS attack.\n",
      "  warnings.warn(\n"
     ]
    },
    {
     "name": "stdout",
     "output_type": "stream",
     "text": [
      "LossGEN: 1.1507, LossRec: 0.46317, loss_G_GAN: 1.1169, loss_G_AC: 0.02518, LossDESCR GAN: 0.063972, tv_loss: 0.0086931, LossDESCR Class: 0.0069661\n"
     ]
    },
    {
     "name": "stderr",
     "output_type": "stream",
     "text": [
      "/home/ubuntu/miniconda3/envs/style_transfer/lib/python3.8/site-packages/PIL/Image.py:2911: DecompressionBombWarning: Image size (116507052 pixels) exceeds limit of 89478485 pixels, could be decompression bomb DOS attack.\n",
      "  warnings.warn(\n",
      "/home/ubuntu/miniconda3/envs/style_transfer/lib/python3.8/site-packages/PIL/Image.py:2911: DecompressionBombWarning: Image size (157617366 pixels) exceeds limit of 89478485 pixels, could be decompression bomb DOS attack.\n",
      "  warnings.warn(\n",
      "/home/ubuntu/miniconda3/envs/style_transfer/lib/python3.8/site-packages/PIL/Image.py:2911: DecompressionBombWarning: Image size (100110886 pixels) exceeds limit of 89478485 pixels, could be decompression bomb DOS attack.\n",
      "  warnings.warn(\n",
      "/home/ubuntu/miniconda3/envs/style_transfer/lib/python3.8/site-packages/PIL/Image.py:2911: DecompressionBombWarning: Image size (115733552 pixels) exceeds limit of 89478485 pixels, could be decompression bomb DOS attack.\n",
      "  warnings.warn(\n",
      "/home/ubuntu/miniconda3/envs/style_transfer/lib/python3.8/site-packages/PIL/Image.py:2911: DecompressionBombWarning: Image size (110671579 pixels) exceeds limit of 89478485 pixels, could be decompression bomb DOS attack.\n",
      "  warnings.warn(\n",
      "/home/ubuntu/miniconda3/envs/style_transfer/lib/python3.8/site-packages/PIL/Image.py:2911: DecompressionBombWarning: Image size (140150600 pixels) exceeds limit of 89478485 pixels, could be decompression bomb DOS attack.\n",
      "  warnings.warn(\n"
     ]
    },
    {
     "name": "stdout",
     "output_type": "stream",
     "text": [
      "LossGEN: 0.97705, LossRec: 0.63318, loss_G_GAN: 0.916, loss_G_AC: 0.037618, LossDESCR GAN: 0.049178, tv_loss: 0.023432, LossDESCR Class: 0.020823\n"
     ]
    },
    {
     "name": "stderr",
     "output_type": "stream",
     "text": [
      "/home/ubuntu/miniconda3/envs/style_transfer/lib/python3.8/site-packages/PIL/Image.py:2911: DecompressionBombWarning: Image size (156962240 pixels) exceeds limit of 89478485 pixels, could be decompression bomb DOS attack.\n",
      "  warnings.warn(\n",
      "/home/ubuntu/miniconda3/envs/style_transfer/lib/python3.8/site-packages/PIL/Image.py:2911: DecompressionBombWarning: Image size (116600327 pixels) exceeds limit of 89478485 pixels, could be decompression bomb DOS attack.\n",
      "  warnings.warn(\n",
      "/home/ubuntu/miniconda3/envs/style_transfer/lib/python3.8/site-packages/PIL/Image.py:2911: DecompressionBombWarning: Image size (101777775 pixels) exceeds limit of 89478485 pixels, could be decompression bomb DOS attack.\n",
      "  warnings.warn(\n",
      "/home/ubuntu/miniconda3/envs/style_transfer/lib/python3.8/site-packages/PIL/Image.py:2911: DecompressionBombWarning: Image size (95215120 pixels) exceeds limit of 89478485 pixels, could be decompression bomb DOS attack.\n",
      "  warnings.warn(\n",
      "/home/ubuntu/miniconda3/envs/style_transfer/lib/python3.8/site-packages/PIL/Image.py:2911: DecompressionBombWarning: Image size (157555125 pixels) exceeds limit of 89478485 pixels, could be decompression bomb DOS attack.\n",
      "  warnings.warn(\n",
      "/home/ubuntu/miniconda3/envs/style_transfer/lib/python3.8/site-packages/PIL/Image.py:2911: DecompressionBombWarning: Image size (143025860 pixels) exceeds limit of 89478485 pixels, could be decompression bomb DOS attack.\n",
      "  warnings.warn(\n",
      "/home/ubuntu/miniconda3/envs/style_transfer/lib/python3.8/site-packages/PIL/Image.py:2911: DecompressionBombWarning: Image size (103893504 pixels) exceeds limit of 89478485 pixels, could be decompression bomb DOS attack.\n",
      "  warnings.warn(\n"
     ]
    },
    {
     "name": "stdout",
     "output_type": "stream",
     "text": [
      "LossGEN: 1.0365, LossRec: 0.4819, loss_G_GAN: 0.43935, loss_G_AC: 0.57407, LossDESCR GAN: 0.079361, tv_loss: 0.023045, LossDESCR Class: 0.64752\n"
     ]
    },
    {
     "name": "stderr",
     "output_type": "stream",
     "text": [
      "/home/ubuntu/miniconda3/envs/style_transfer/lib/python3.8/site-packages/PIL/Image.py:2911: DecompressionBombWarning: Image size (115601304 pixels) exceeds limit of 89478485 pixels, could be decompression bomb DOS attack.\n",
      "  warnings.warn(\n",
      "/home/ubuntu/miniconda3/envs/style_transfer/lib/python3.8/site-packages/PIL/Image.py:2911: DecompressionBombWarning: Image size (145328992 pixels) exceeds limit of 89478485 pixels, could be decompression bomb DOS attack.\n",
      "  warnings.warn(\n"
     ]
    },
    {
     "name": "stdout",
     "output_type": "stream",
     "text": [
      "LossGEN: 0.98079, LossRec: 0.56402, loss_G_GAN: 0.87934, loss_G_AC: 0.059708, LossDESCR GAN: 0.11877, tv_loss: 0.041738, LossDESCR Class: 2.301\n"
     ]
    },
    {
     "name": "stderr",
     "output_type": "stream",
     "text": [
      "/home/ubuntu/miniconda3/envs/style_transfer/lib/python3.8/site-packages/PIL/Image.py:2911: DecompressionBombWarning: Image size (143216652 pixels) exceeds limit of 89478485 pixels, could be decompression bomb DOS attack.\n",
      "  warnings.warn(\n"
     ]
    },
    {
     "name": "stdout",
     "output_type": "stream",
     "text": [
      "LossGEN: 4.0582, LossRec: 1.0511, loss_G_GAN: 0.98833, loss_G_AC: 3.0596, LossDESCR GAN: 0.34325, tv_loss: 0.010196, LossDESCR Class: 21.158\n"
     ]
    },
    {
     "name": "stderr",
     "output_type": "stream",
     "text": [
      "/home/ubuntu/miniconda3/envs/style_transfer/lib/python3.8/site-packages/PIL/Image.py:2911: DecompressionBombWarning: Image size (112703077 pixels) exceeds limit of 89478485 pixels, could be decompression bomb DOS attack.\n",
      "  warnings.warn(\n",
      "/home/ubuntu/miniconda3/envs/style_transfer/lib/python3.8/site-packages/PIL/Image.py:2911: DecompressionBombWarning: Image size (157617366 pixels) exceeds limit of 89478485 pixels, could be decompression bomb DOS attack.\n",
      "  warnings.warn(\n",
      "/home/ubuntu/miniconda3/envs/style_transfer/lib/python3.8/site-packages/PIL/Image.py:2911: DecompressionBombWarning: Image size (156930080 pixels) exceeds limit of 89478485 pixels, could be decompression bomb DOS attack.\n",
      "  warnings.warn(\n",
      "/home/ubuntu/miniconda3/envs/style_transfer/lib/python3.8/site-packages/PIL/Image.py:2911: DecompressionBombWarning: Image size (146175744 pixels) exceeds limit of 89478485 pixels, could be decompression bomb DOS attack.\n",
      "  warnings.warn(\n"
     ]
    },
    {
     "name": "stdout",
     "output_type": "stream",
     "text": [
      "LossGEN: 0.75291, LossRec: 0.81837, loss_G_GAN: 0.64839, loss_G_AC: 0.099282, LossDESCR GAN: 0.046653, tv_loss: 0.0052452, LossDESCR Class: 0.054621\n"
     ]
    },
    {
     "name": "stderr",
     "output_type": "stream",
     "text": [
      "/home/ubuntu/miniconda3/envs/style_transfer/lib/python3.8/site-packages/PIL/Image.py:2911: DecompressionBombWarning: Image size (157423001 pixels) exceeds limit of 89478485 pixels, could be decompression bomb DOS attack.\n",
      "  warnings.warn(\n",
      "/home/ubuntu/miniconda3/envs/style_transfer/lib/python3.8/site-packages/PIL/Image.py:2911: DecompressionBombWarning: Image size (157562825 pixels) exceeds limit of 89478485 pixels, could be decompression bomb DOS attack.\n",
      "  warnings.warn(\n"
     ]
    },
    {
     "name": "stdout",
     "output_type": "stream",
     "text": [
      "LossGEN: 0.76538, LossRec: 0.43182, loss_G_GAN: 0.55376, loss_G_AC: 0.18877, LossDESCR GAN: 0.054439, tv_loss: 0.022852, LossDESCR Class: 0.41229\n"
     ]
    },
    {
     "name": "stderr",
     "output_type": "stream",
     "text": [
      "/home/ubuntu/miniconda3/envs/style_transfer/lib/python3.8/site-packages/PIL/Image.py:2911: DecompressionBombWarning: Image size (144647592 pixels) exceeds limit of 89478485 pixels, could be decompression bomb DOS attack.\n",
      "  warnings.warn(\n",
      "/home/ubuntu/miniconda3/envs/style_transfer/lib/python3.8/site-packages/PIL/Image.py:2911: DecompressionBombWarning: Image size (143216652 pixels) exceeds limit of 89478485 pixels, could be decompression bomb DOS attack.\n",
      "  warnings.warn(\n",
      "/home/ubuntu/miniconda3/envs/style_transfer/lib/python3.8/site-packages/PIL/Image.py:2911: DecompressionBombWarning: Image size (96948700 pixels) exceeds limit of 89478485 pixels, could be decompression bomb DOS attack.\n",
      "  warnings.warn(\n"
     ]
    },
    {
     "name": "stdout",
     "output_type": "stream",
     "text": [
      "LossGEN: 0.88145, LossRec: 0.47007, loss_G_GAN: 0.8238, loss_G_AC: 0.039964, LossDESCR GAN: 0.17885, tv_loss: 0.017689, LossDESCR Class: 9.88\n"
     ]
    },
    {
     "name": "stderr",
     "output_type": "stream",
     "text": [
      "/home/ubuntu/miniconda3/envs/style_transfer/lib/python3.8/site-packages/PIL/Image.py:2911: DecompressionBombWarning: Image size (156953044 pixels) exceeds limit of 89478485 pixels, could be decompression bomb DOS attack.\n",
      "  warnings.warn(\n",
      "/home/ubuntu/miniconda3/envs/style_transfer/lib/python3.8/site-packages/PIL/Image.py:2911: DecompressionBombWarning: Image size (95742920 pixels) exceeds limit of 89478485 pixels, could be decompression bomb DOS attack.\n",
      "  warnings.warn(\n",
      "/home/ubuntu/miniconda3/envs/style_transfer/lib/python3.8/site-packages/PIL/Image.py:2911: DecompressionBombWarning: Image size (145328992 pixels) exceeds limit of 89478485 pixels, could be decompression bomb DOS attack.\n",
      "  warnings.warn(\n",
      "/home/ubuntu/miniconda3/envs/style_transfer/lib/python3.8/site-packages/PIL/Image.py:2911: DecompressionBombWarning: Image size (96059600 pixels) exceeds limit of 89478485 pixels, could be decompression bomb DOS attack.\n",
      "  warnings.warn(\n",
      "/home/ubuntu/miniconda3/envs/style_transfer/lib/python3.8/site-packages/PIL/Image.py:2911: DecompressionBombWarning: Image size (157587176 pixels) exceeds limit of 89478485 pixels, could be decompression bomb DOS attack.\n",
      "  warnings.warn(\n"
     ]
    },
    {
     "name": "stdout",
     "output_type": "stream",
     "text": [
      "LossGEN: 0.99614, LossRec: 0.61743, loss_G_GAN: 0.95641, loss_G_AC: 0.032954, LossDESCR GAN: 0.040715, tv_loss: 0.0067671, LossDESCR Class: 0.0048304\n"
     ]
    },
    {
     "name": "stderr",
     "output_type": "stream",
     "text": [
      "/home/ubuntu/miniconda3/envs/style_transfer/lib/python3.8/site-packages/PIL/Image.py:2911: DecompressionBombWarning: Image size (157562825 pixels) exceeds limit of 89478485 pixels, could be decompression bomb DOS attack.\n",
      "  warnings.warn(\n",
      "/home/ubuntu/miniconda3/envs/style_transfer/lib/python3.8/site-packages/PIL/Image.py:2911: DecompressionBombWarning: Image size (95439465 pixels) exceeds limit of 89478485 pixels, could be decompression bomb DOS attack.\n",
      "  warnings.warn(\n"
     ]
    },
    {
     "name": "stdout",
     "output_type": "stream",
     "text": [
      "LossGEN: 1.3561, LossRec: 0.38012, loss_G_GAN: 1.1504, loss_G_AC: 0.19893, LossDESCR GAN: 0.028452, tv_loss: 0.0067407, LossDESCR Class: 0.012996\n"
     ]
    },
    {
     "name": "stderr",
     "output_type": "stream",
     "text": [
      "/home/ubuntu/miniconda3/envs/style_transfer/lib/python3.8/site-packages/PIL/Image.py:2911: DecompressionBombWarning: Image size (115288915 pixels) exceeds limit of 89478485 pixels, could be decompression bomb DOS attack.\n",
      "  warnings.warn(\n",
      "/home/ubuntu/miniconda3/envs/style_transfer/lib/python3.8/site-packages/PIL/Image.py:2911: DecompressionBombWarning: Image size (157306500 pixels) exceeds limit of 89478485 pixels, could be decompression bomb DOS attack.\n",
      "  warnings.warn(\n",
      "/home/ubuntu/miniconda3/envs/style_transfer/lib/python3.8/site-packages/PIL/Image.py:2911: DecompressionBombWarning: Image size (96038488 pixels) exceeds limit of 89478485 pixels, could be decompression bomb DOS attack.\n",
      "  warnings.warn(\n",
      "/home/ubuntu/miniconda3/envs/style_transfer/lib/python3.8/site-packages/PIL/Image.py:2911: DecompressionBombWarning: Image size (90836872 pixels) exceeds limit of 89478485 pixels, could be decompression bomb DOS attack.\n",
      "  warnings.warn(\n",
      "/home/ubuntu/miniconda3/envs/style_transfer/lib/python3.8/site-packages/PIL/Image.py:2911: DecompressionBombWarning: Image size (113652502 pixels) exceeds limit of 89478485 pixels, could be decompression bomb DOS attack.\n",
      "  warnings.warn(\n"
     ]
    },
    {
     "name": "stdout",
     "output_type": "stream",
     "text": [
      "LossGEN: 0.72138, LossRec: 0.29322, loss_G_GAN: 0.56321, loss_G_AC: 0.14944, LossDESCR GAN: 0.077208, tv_loss: 0.0087344, LossDESCR Class: 0.0051745\n"
     ]
    },
    {
     "name": "stderr",
     "output_type": "stream",
     "text": [
      "/home/ubuntu/miniconda3/envs/style_transfer/lib/python3.8/site-packages/PIL/Image.py:2911: DecompressionBombWarning: Image size (157275868 pixels) exceeds limit of 89478485 pixels, could be decompression bomb DOS attack.\n",
      "  warnings.warn(\n",
      "/home/ubuntu/miniconda3/envs/style_transfer/lib/python3.8/site-packages/PIL/Image.py:2911: DecompressionBombWarning: Image size (93216426 pixels) exceeds limit of 89478485 pixels, could be decompression bomb DOS attack.\n",
      "  warnings.warn(\n",
      "/home/ubuntu/miniconda3/envs/style_transfer/lib/python3.8/site-packages/PIL/Image.py:2911: DecompressionBombWarning: Image size (157156288 pixels) exceeds limit of 89478485 pixels, could be decompression bomb DOS attack.\n",
      "  warnings.warn(\n",
      "/home/ubuntu/miniconda3/envs/style_transfer/lib/python3.8/site-packages/PIL/Image.py:2911: DecompressionBombWarning: Image size (97546279 pixels) exceeds limit of 89478485 pixels, could be decompression bomb DOS attack.\n",
      "  warnings.warn(\n",
      "/home/ubuntu/miniconda3/envs/style_transfer/lib/python3.8/site-packages/PIL/Image.py:2911: DecompressionBombWarning: Image size (157499676 pixels) exceeds limit of 89478485 pixels, could be decompression bomb DOS attack.\n",
      "  warnings.warn(\n"
     ]
    },
    {
     "name": "stdout",
     "output_type": "stream",
     "text": [
      "LossGEN: 4.8163, LossRec: 0.40922, loss_G_GAN: 0.52582, loss_G_AC: 4.2783, LossDESCR GAN: 0.42302, tv_loss: 0.012113, LossDESCR Class: 5.0731\n"
     ]
    },
    {
     "name": "stderr",
     "output_type": "stream",
     "text": [
      "/home/ubuntu/miniconda3/envs/style_transfer/lib/python3.8/site-packages/PIL/Image.py:2911: DecompressionBombWarning: Image size (157099800 pixels) exceeds limit of 89478485 pixels, could be decompression bomb DOS attack.\n",
      "  warnings.warn(\n",
      "/home/ubuntu/miniconda3/envs/style_transfer/lib/python3.8/site-packages/PIL/Image.py:2911: DecompressionBombWarning: Image size (156886163 pixels) exceeds limit of 89478485 pixels, could be decompression bomb DOS attack.\n",
      "  warnings.warn(\n",
      "/home/ubuntu/miniconda3/envs/style_transfer/lib/python3.8/site-packages/PIL/Image.py:2911: DecompressionBombWarning: Image size (156738726 pixels) exceeds limit of 89478485 pixels, could be decompression bomb DOS attack.\n",
      "  warnings.warn(\n",
      "/home/ubuntu/miniconda3/envs/style_transfer/lib/python3.8/site-packages/PIL/Image.py:2911: DecompressionBombWarning: Image size (111662040 pixels) exceeds limit of 89478485 pixels, could be decompression bomb DOS attack.\n",
      "  warnings.warn(\n",
      "/home/ubuntu/miniconda3/envs/style_transfer/lib/python3.8/site-packages/PIL/Image.py:2911: DecompressionBombWarning: Image size (95774588 pixels) exceeds limit of 89478485 pixels, could be decompression bomb DOS attack.\n",
      "  warnings.warn(\n"
     ]
    },
    {
     "name": "stdout",
     "output_type": "stream",
     "text": [
      "LossGEN: 0.9626, LossRec: 1.5487, loss_G_GAN: 0.82883, loss_G_AC: 0.12915, LossDESCR GAN: 0.14537, tv_loss: 0.0046155, LossDESCR Class: 0.0090663\n"
     ]
    },
    {
     "name": "stderr",
     "output_type": "stream",
     "text": [
      "/home/ubuntu/miniconda3/envs/style_transfer/lib/python3.8/site-packages/PIL/Image.py:2911: DecompressionBombWarning: Image size (98209936 pixels) exceeds limit of 89478485 pixels, could be decompression bomb DOS attack.\n",
      "  warnings.warn(\n",
      "/home/ubuntu/miniconda3/envs/style_transfer/lib/python3.8/site-packages/PIL/Image.py:2911: DecompressionBombWarning: Image size (145942116 pixels) exceeds limit of 89478485 pixels, could be decompression bomb DOS attack.\n",
      "  warnings.warn(\n"
     ]
    },
    {
     "name": "stdout",
     "output_type": "stream",
     "text": [
      "LossGEN: 1.3497, LossRec: 0.42971, loss_G_GAN: 1.1052, loss_G_AC: 0.24184, LossDESCR GAN: 0.15075, tv_loss: 0.0025937, LossDESCR Class: 0.023759\n"
     ]
    },
    {
     "name": "stderr",
     "output_type": "stream",
     "text": [
      "/home/ubuntu/miniconda3/envs/style_transfer/lib/python3.8/site-packages/PIL/Image.py:2911: DecompressionBombWarning: Image size (156865432 pixels) exceeds limit of 89478485 pixels, could be decompression bomb DOS attack.\n",
      "  warnings.warn(\n",
      "/home/ubuntu/miniconda3/envs/style_transfer/lib/python3.8/site-packages/PIL/Image.py:2911: DecompressionBombWarning: Image size (157295103 pixels) exceeds limit of 89478485 pixels, could be decompression bomb DOS attack.\n",
      "  warnings.warn(\n",
      "/home/ubuntu/miniconda3/envs/style_transfer/lib/python3.8/site-packages/PIL/Image.py:2911: DecompressionBombWarning: Image size (123325540 pixels) exceeds limit of 89478485 pixels, could be decompression bomb DOS attack.\n",
      "  warnings.warn(\n",
      "/home/ubuntu/miniconda3/envs/style_transfer/lib/python3.8/site-packages/PIL/Image.py:2911: DecompressionBombWarning: Image size (97970236 pixels) exceeds limit of 89478485 pixels, could be decompression bomb DOS attack.\n",
      "  warnings.warn(\n",
      "/home/ubuntu/miniconda3/envs/style_transfer/lib/python3.8/site-packages/PIL/Image.py:2911: DecompressionBombWarning: Image size (156931080 pixels) exceeds limit of 89478485 pixels, could be decompression bomb DOS attack.\n",
      "  warnings.warn(\n",
      "/home/ubuntu/miniconda3/envs/style_transfer/lib/python3.8/site-packages/PIL/Image.py:2911: DecompressionBombWarning: Image size (127786008 pixels) exceeds limit of 89478485 pixels, could be decompression bomb DOS attack.\n",
      "  warnings.warn(\n"
     ]
    },
    {
     "name": "stdout",
     "output_type": "stream",
     "text": [
      "LossGEN: 0.98971, LossRec: 0.15263, loss_G_GAN: 0.94257, loss_G_AC: 0.046442, LossDESCR GAN: 0.092134, tv_loss: 0.00070568, LossDESCR Class: 0.097386\n"
     ]
    },
    {
     "name": "stderr",
     "output_type": "stream",
     "text": [
      "/home/ubuntu/miniconda3/envs/style_transfer/lib/python3.8/site-packages/PIL/Image.py:2911: DecompressionBombWarning: Image size (97379100 pixels) exceeds limit of 89478485 pixels, could be decompression bomb DOS attack.\n",
      "  warnings.warn(\n",
      "/home/ubuntu/miniconda3/envs/style_transfer/lib/python3.8/site-packages/PIL/Image.py:2911: DecompressionBombWarning: Image size (157716000 pixels) exceeds limit of 89478485 pixels, could be decompression bomb DOS attack.\n",
      "  warnings.warn(\n",
      "/home/ubuntu/miniconda3/envs/style_transfer/lib/python3.8/site-packages/PIL/Image.py:2911: DecompressionBombWarning: Image size (96038488 pixels) exceeds limit of 89478485 pixels, could be decompression bomb DOS attack.\n",
      "  warnings.warn(\n",
      "/home/ubuntu/miniconda3/envs/style_transfer/lib/python3.8/site-packages/PIL/Image.py:2911: DecompressionBombWarning: Image size (143025860 pixels) exceeds limit of 89478485 pixels, could be decompression bomb DOS attack.\n",
      "  warnings.warn(\n",
      "/home/ubuntu/miniconda3/envs/style_transfer/lib/python3.8/site-packages/PIL/Image.py:2911: DecompressionBombWarning: Image size (121723978 pixels) exceeds limit of 89478485 pixels, could be decompression bomb DOS attack.\n",
      "  warnings.warn(\n",
      "/home/ubuntu/miniconda3/envs/style_transfer/lib/python3.8/site-packages/PIL/Image.py:2911: DecompressionBombWarning: Image size (143216652 pixels) exceeds limit of 89478485 pixels, could be decompression bomb DOS attack.\n",
      "  warnings.warn(\n",
      "/home/ubuntu/miniconda3/envs/style_transfer/lib/python3.8/site-packages/PIL/Image.py:2911: DecompressionBombWarning: Image size (156931080 pixels) exceeds limit of 89478485 pixels, could be decompression bomb DOS attack.\n",
      "  warnings.warn(\n",
      "/home/ubuntu/miniconda3/envs/style_transfer/lib/python3.8/site-packages/PIL/Image.py:2911: DecompressionBombWarning: Image size (116507052 pixels) exceeds limit of 89478485 pixels, could be decompression bomb DOS attack.\n",
      "  warnings.warn(\n"
     ]
    },
    {
     "name": "stdout",
     "output_type": "stream",
     "text": [
      "LossGEN: 1.3953, LossRec: 0.030532, loss_G_GAN: 0.24255, loss_G_AC: 1.1384, LossDESCR GAN: 0.040043, tv_loss: 0.014368, LossDESCR Class: 0.44192\n"
     ]
    },
    {
     "name": "stderr",
     "output_type": "stream",
     "text": [
      "/home/ubuntu/miniconda3/envs/style_transfer/lib/python3.8/site-packages/PIL/Image.py:2911: DecompressionBombWarning: Image size (99313084 pixels) exceeds limit of 89478485 pixels, could be decompression bomb DOS attack.\n",
      "  warnings.warn(\n",
      "/home/ubuntu/miniconda3/envs/style_transfer/lib/python3.8/site-packages/PIL/Image.py:2911: DecompressionBombWarning: Image size (144647592 pixels) exceeds limit of 89478485 pixels, could be decompression bomb DOS attack.\n",
      "  warnings.warn(\n",
      "/home/ubuntu/miniconda3/envs/style_transfer/lib/python3.8/site-packages/PIL/Image.py:2911: DecompressionBombWarning: Image size (95922372 pixels) exceeds limit of 89478485 pixels, could be decompression bomb DOS attack.\n",
      "  warnings.warn(\n",
      "/home/ubuntu/miniconda3/envs/style_transfer/lib/python3.8/site-packages/PIL/Image.py:2911: DecompressionBombWarning: Image size (111674200 pixels) exceeds limit of 89478485 pixels, could be decompression bomb DOS attack.\n",
      "  warnings.warn(\n"
     ]
    },
    {
     "name": "stdout",
     "output_type": "stream",
     "text": [
      "LossGEN: 1.4574, LossRec: 0.69971, loss_G_GAN: 1.2663, loss_G_AC: 0.18989, LossDESCR GAN: 0.38255, tv_loss: 0.0011539, LossDESCR Class: 0.01747\n"
     ]
    },
    {
     "name": "stderr",
     "output_type": "stream",
     "text": [
      "/home/ubuntu/miniconda3/envs/style_transfer/lib/python3.8/site-packages/PIL/Image.py:2911: DecompressionBombWarning: Image size (115733552 pixels) exceeds limit of 89478485 pixels, could be decompression bomb DOS attack.\n",
      "  warnings.warn(\n"
     ]
    },
    {
     "name": "stdout",
     "output_type": "stream",
     "text": [
      "LossGEN: 0.98752, LossRec: 0.0066739, loss_G_GAN: 0.61478, loss_G_AC: 0.36084, LossDESCR GAN: 0.12528, tv_loss: 0.011894, LossDESCR Class: 1.4111\n"
     ]
    },
    {
     "name": "stderr",
     "output_type": "stream",
     "text": [
      "/home/ubuntu/miniconda3/envs/style_transfer/lib/python3.8/site-packages/PIL/Image.py:2911: DecompressionBombWarning: Image size (96948700 pixels) exceeds limit of 89478485 pixels, could be decompression bomb DOS attack.\n",
      "  warnings.warn(\n",
      "/home/ubuntu/miniconda3/envs/style_transfer/lib/python3.8/site-packages/PIL/Image.py:2911: DecompressionBombWarning: Image size (99081675 pixels) exceeds limit of 89478485 pixels, could be decompression bomb DOS attack.\n",
      "  warnings.warn(\n",
      "/home/ubuntu/miniconda3/envs/style_transfer/lib/python3.8/site-packages/PIL/Image.py:2911: DecompressionBombWarning: Image size (157099800 pixels) exceeds limit of 89478485 pixels, could be decompression bomb DOS attack.\n",
      "  warnings.warn(\n",
      "/home/ubuntu/miniconda3/envs/style_transfer/lib/python3.8/site-packages/PIL/Image.py:2911: DecompressionBombWarning: Image size (102676475 pixels) exceeds limit of 89478485 pixels, could be decompression bomb DOS attack.\n",
      "  warnings.warn(\n"
     ]
    },
    {
     "name": "stdout",
     "output_type": "stream",
     "text": [
      "LossGEN: 1.0069, LossRec: 0.46377, loss_G_GAN: 0.79876, loss_G_AC: 0.20505, LossDESCR GAN: 0.022787, tv_loss: 0.0031162, LossDESCR Class: 0.07828\n"
     ]
    },
    {
     "name": "stderr",
     "output_type": "stream",
     "text": [
      "/home/ubuntu/miniconda3/envs/style_transfer/lib/python3.8/site-packages/PIL/Image.py:2911: DecompressionBombWarning: Image size (145942116 pixels) exceeds limit of 89478485 pixels, could be decompression bomb DOS attack.\n",
      "  warnings.warn(\n"
     ]
    },
    {
     "name": "stdout",
     "output_type": "stream",
     "text": [
      "LossGEN: 0.84496, LossRec: 0.59087, loss_G_GAN: 0.82658, loss_G_AC: 0.016272, LossDESCR GAN: 0.045282, tv_loss: 0.00211, LossDESCR Class: 5.5798\n"
     ]
    },
    {
     "name": "stderr",
     "output_type": "stream",
     "text": [
      "/home/ubuntu/miniconda3/envs/style_transfer/lib/python3.8/site-packages/PIL/Image.py:2911: DecompressionBombWarning: Image size (157209150 pixels) exceeds limit of 89478485 pixels, could be decompression bomb DOS attack.\n",
      "  warnings.warn(\n",
      "/home/ubuntu/miniconda3/envs/style_transfer/lib/python3.8/site-packages/PIL/Image.py:2911: DecompressionBombWarning: Image size (148262400 pixels) exceeds limit of 89478485 pixels, could be decompression bomb DOS attack.\n",
      "  warnings.warn(\n"
     ]
    },
    {
     "name": "stdout",
     "output_type": "stream",
     "text": [
      "LossGEN: 0.62838, LossRec: 0.55277, loss_G_GAN: 0.50654, loss_G_AC: 0.10425, LossDESCR GAN: 0.16138, tv_loss: 0.017591, LossDESCR Class: 0.20363\n"
     ]
    },
    {
     "name": "stderr",
     "output_type": "stream",
     "text": [
      "/home/ubuntu/miniconda3/envs/style_transfer/lib/python3.8/site-packages/PIL/Image.py:2911: DecompressionBombWarning: Image size (103106169 pixels) exceeds limit of 89478485 pixels, could be decompression bomb DOS attack.\n",
      "  warnings.warn(\n",
      "/home/ubuntu/miniconda3/envs/style_transfer/lib/python3.8/site-packages/PIL/Image.py:2911: DecompressionBombWarning: Image size (156865432 pixels) exceeds limit of 89478485 pixels, could be decompression bomb DOS attack.\n",
      "  warnings.warn(\n"
     ]
    }
   ],
   "source": [
    "from datetime import datetime\n",
    "Path(\"output\").mkdir(exist_ok=True)\n",
    "### TRAIN LOOP\n",
    "for epoch in range(epoch, n_epochs):\n",
    "    print(f\"EPOCH {epoch} ({datetime.now()})\")\n",
    "    for i, batch in enumerate(dataloader):\n",
    "        ## Unpack minibatch\n",
    "        # source content\n",
    "        real_content = Variable(input_A.copy_(batch['content']))\n",
    "        # target style\n",
    "        real_style = Variable(input_B.copy_(batch['style']))\n",
    "        # style label\n",
    "        style_label = batch['style_label']\n",
    "        # one-hot encoded style\n",
    "        style_OHE = F.one_hot(style_label,n_styles).long()\n",
    "        # style Label mapped over 1x19x19 tensor for patch discriminator \n",
    "        class_label = class_label_B.copy_(label2tensor(style_label,class_label_B)).long()\n",
    "        \n",
    "        #### Update Discriminator\n",
    "        optimizer_D.zero_grad()\n",
    "        \n",
    "        # Generate style-transfered image\n",
    "        genfake = generator({\n",
    "            'content':real_content,\n",
    "            'style_label': style_OHE})\n",
    "        \n",
    "        # Add generated image to image pool and randomly sample pool \n",
    "        fake = fake_buffer.push_and_pop(genfake)\n",
    "        # Discriminator forward pass with sampled fake \n",
    "        out_gan, out_class = discriminator(fake)\n",
    "        # Discriminator Fake loss (correctly identify generated images)\n",
    "        errD_fake = criterion_GAN(out_gan, fake_label)\n",
    "        # Backward pass and parameter optimization\n",
    "        errD_fake.backward()\n",
    "        optimizer_D.step()\n",
    "        \n",
    "        optimizer_D.zero_grad()\n",
    "        # Discriminator forward pass with target style\n",
    "        out_gan, out_class = discriminator(real_style)\n",
    "        # Discriminator Style Classification loss\n",
    "        errD_real_class = criterion_ACGAN(out_class.transpose(1,3),class_label)*lambda_A\n",
    "        # Discriminator Real loss (correctly identify real style images)\n",
    "        errD_real = criterion_GAN(out_gan, real_label)        \n",
    "        errD_real_total = errD_real + errD_real_class\n",
    "        # Backward pass and parameter optimization\n",
    "        errD_real_total.backward()\n",
    "        optimizer_D.step()\n",
    "        \n",
    "        \n",
    "        errD = (errD_real+errD_fake)/2.0\n",
    "        \n",
    "                \n",
    "        #### Generator Update\n",
    "        ## Style Transfer Loss\n",
    "        optimizer_G.zero_grad()\n",
    "        \n",
    "        # Discriminator forward pass with generated style transfer\n",
    "        out_gan, out_class = discriminator(genfake)\n",
    "        \n",
    "        # Generator gan (real/fake) loss\n",
    "        err_gan = criterion_GAN(out_gan, real_label)\n",
    "        # Generator style class loss\n",
    "        err_class = criterion_ACGAN(out_class.transpose(1,3), class_label)*lambda_A\n",
    "        # Total Variation loss\n",
    "        err_TV = criterion_TV(genfake)\n",
    "        \n",
    "        errG_tot = err_gan + err_class + err_TV \n",
    "        \n",
    "        errG_tot.backward()\n",
    "        optimizer_G.step()\n",
    "        \n",
    "        ## Auto-Encoder (Recreation) Loss\n",
    "        optimizer_G.zero_grad()\n",
    "        identity = generator({\n",
    "            'content': real_content,\n",
    "            'style_label': autoflag_OHE,\n",
    "        })\n",
    "        err_ae = criterion_Rec(identity,real_content)*autoencoder_constrain\n",
    "        err_ae.backward()\n",
    "        optimizer_G.step()\n",
    "        \n",
    "        \n",
    "        #Progress report (port 8097)\n",
    "#         logger.log({'Generator Loss': errG_tot,\n",
    "#                     'Reconstruction Loss': err_ae,\n",
    "#                     'loss_G_GAN': err_gan,\n",
    "#                     'loss_G_AC': err_class,\n",
    "#                     'Discriminator GAN Loss': errD,\n",
    "#                     'tv_loss':err_TV,\n",
    "#                     'Discriminator Class Loss': errD_real_class}, \n",
    "#                     images={'content': real_content,\n",
    "#                             'style': real_style,\n",
    "#                             'transfer': genfake,\n",
    "#                             'auto-reconstruction':identity})\n",
    "        if i % 50 == 0:\n",
    "            print(\n",
    "                f\"LossGEN: {float(errG_tot):.5}, \" +\n",
    "                f\"LossRec: {float(err_ae):.5}, \" +\n",
    "                f\"loss_G_GAN: {float(err_gan):.5}, \" +\n",
    "                f\"loss_G_AC: {float(err_class):.5}, \" +\n",
    "                f\"LossDESCR GAN: {float(errD):.5}, \" +\n",
    "                f\"tv_loss: {float(err_TV):.5}, \" +\n",
    "                f\"LossDESCR Class: {float(errD_real_class):.5}\"\n",
    "            )\n",
    "\n",
    "    ##update learning rates\n",
    "    lr_scheduler_G.step()\n",
    "    lr_scheduler_D.step()\n",
    "    \n",
    "    #Save model\n",
    "    torch.save(generator.state_dict(), f'output/netG_{epoch}.pth')\n",
    "    torch.save(discriminator.state_dict(), f'output/netD_{epoch}.pth')\n",
    "    print(\"=\" * 20)\n",
    "\n",
    "        \n"
   ]
  }
 ],
 "metadata": {
  "kernelspec": {
   "display_name": "Python 3 (ipykernel)",
   "language": "python",
   "name": "python3"
  },
  "language_info": {
   "codemirror_mode": {
    "name": "ipython",
    "version": 3
   },
   "file_extension": ".py",
   "mimetype": "text/x-python",
   "name": "python",
   "nbconvert_exporter": "python",
   "pygments_lexer": "ipython3",
   "version": "3.8.11"
  }
 },
 "nbformat": 4,
 "nbformat_minor": 2
}
