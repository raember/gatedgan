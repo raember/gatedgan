{
 "cells": [
  {
   "cell_type": "code",
   "execution_count": 1,
   "metadata": {},
   "outputs": [],
   "source": [
    "#import itertools\n",
    "import torch\n",
    "import torch.nn as nn\n",
    "import torch.nn.functional as F\n",
    "from torch.autograd import Variable\n"
   ]
  },
  {
   "cell_type": "code",
   "execution_count": 2,
   "metadata": {},
   "outputs": [],
   "source": [
    "import glob\n",
    "import random\n",
    "import os\n",
    "from torch.utils.data import DataLoader\n",
    "import torchvision.transforms as transforms\n",
    "import torchvision\n",
    "from torch.utils.data import Dataset\n",
    "from PIL import Image\n"
   ]
  },
  {
   "cell_type": "code",
   "execution_count": 3,
   "metadata": {},
   "outputs": [],
   "source": [
    "#!pip install visdom\n"
   ]
  },
  {
   "cell_type": "code",
   "execution_count": 4,
   "metadata": {},
   "outputs": [],
   "source": [
    "import visdom\n",
    "import numpy as np\n",
    "from pathlib import Path"
   ]
  },
  {
   "cell_type": "code",
   "execution_count": 5,
   "metadata": {},
   "outputs": [],
   "source": [
    "from data import *\n",
    "from models import *\n",
    "from utils import *\n",
    "import math\n"
   ]
  },
  {
   "cell_type": "code",
   "execution_count": 6,
   "metadata": {},
   "outputs": [],
   "source": [
    "#TRAIN OPTIONS FROM GATED GAN\n",
    "epoch = 0\n",
    "n_epochs = 10\n",
    "decay_epoch = 5\n",
    "batchSize = 1\n",
    "dataroot = './imslp'\n",
    "loadSize = 300\n",
    "fineSize = 256\n",
    "ngf = 64\n",
    "ndf = 64    \n",
    "in_nc = 3 \n",
    "out_nc = 3 \n",
    "lr = 0.0002 \n",
    "gpu = 1 \n",
    "lambda_A = 10.0\n",
    "pool_size = 50\n",
    "resize_or_crop = 'resize_and_crop'\n",
    "autoencoder_constrain = 10 \n",
    "n_styles = 4\n",
    "cuda=False\n",
    "tv_strength=1e-6\n"
   ]
  },
  {
   "cell_type": "code",
   "execution_count": 7,
   "metadata": {},
   "outputs": [
    {
     "name": "stdout",
     "output_type": "stream",
     "text": [
      "Style: ./imslp/trainStyles/ili\n",
      "Style: ./imslp/trainStyles/yellowed\n"
     ]
    }
   ],
   "source": [
    "dataloader = DataLoader(ImageDataset(dataroot), \n",
    "                        batch_size=1, shuffle=True, num_workers=4)\n",
    "\n",
    "batch = next(iter(dataloader))\n"
   ]
  },
  {
   "cell_type": "code",
   "execution_count": 8,
   "metadata": {},
   "outputs": [
    {
     "data": {
      "text/plain": [
       "tensor([1])"
      ]
     },
     "execution_count": 8,
     "metadata": {},
     "output_type": "execute_result"
    }
   ],
   "source": [
    "batch['style_label']"
   ]
  },
  {
   "cell_type": "code",
   "execution_count": 9,
   "metadata": {},
   "outputs": [],
   "source": [
    "generator = Generator(in_nc, out_nc, n_styles, ngf)\n",
    "discriminator = Discriminator(in_nc, n_styles, ndf)"
   ]
  },
  {
   "cell_type": "code",
   "execution_count": 10,
   "metadata": {},
   "outputs": [],
   "source": [
    "#generator.load_state_dict(torch.load('./output/netG.pth'))"
   ]
  },
  {
   "cell_type": "code",
   "execution_count": 11,
   "metadata": {},
   "outputs": [],
   "source": [
    "if cuda:\n",
    "    generator.cuda()\n",
    "    discriminator.cuda()"
   ]
  },
  {
   "cell_type": "code",
   "execution_count": 12,
   "metadata": {},
   "outputs": [],
   "source": [
    "#Losses Init\n",
    "use_lsgan=True\n",
    "if use_lsgan:\n",
    "    criterion_GAN = nn.MSELoss()\n",
    "else: \n",
    "    criterion_GAN = nn.BCELoss()\n",
    "    \n",
    "    \n",
    "criterion_ACGAN = nn.CrossEntropyLoss()\n",
    "criterion_Rec = nn.L1Loss()\n",
    "criterion_TV = TVLoss(TVLoss_weight=tv_strength)\n",
    "\n",
    "\n"
   ]
  },
  {
   "cell_type": "code",
   "execution_count": 13,
   "metadata": {},
   "outputs": [],
   "source": [
    "#Optimizers & LR schedulers\n",
    "optimizer_G = torch.optim.Adam(generator.parameters(),\n",
    "                                lr=lr, betas=(0.5, 0.999))\n",
    "optimizer_D = torch.optim.Adam(discriminator.parameters(), \n",
    "                               lr=lr, betas=(0.5, 0.999))\n",
    "\n",
    "\n",
    "lr_scheduler_G = torch.optim.lr_scheduler.LambdaLR(optimizer_G, lr_lambda=LambdaLR(n_epochs, epoch,decay_epoch).step)\n",
    "lr_scheduler_D = torch.optim.lr_scheduler.LambdaLR(optimizer_D, lr_lambda=LambdaLR(n_epochs,epoch, decay_epoch).step)\n",
    "\n"
   ]
  },
  {
   "cell_type": "code",
   "execution_count": 14,
   "metadata": {},
   "outputs": [
    {
     "data": {
      "text/plain": [
       "Generator(\n",
       "  (encoder): Encoder(\n",
       "    (model): Sequential(\n",
       "      (0): ReflectionPad2d((3, 3, 3, 3))\n",
       "      (1): Conv2d(3, 64, kernel_size=(7, 7), stride=(1, 1))\n",
       "      (2): InstanceNorm2d(64, eps=1e-05, momentum=0.1, affine=False, track_running_stats=False)\n",
       "      (3): ReLU(inplace=True)\n",
       "      (4): Conv2d(64, 128, kernel_size=(3, 3), stride=(2, 2), padding=(1, 1))\n",
       "      (5): InstanceNorm2d(128, eps=1e-05, momentum=0.1, affine=False, track_running_stats=False)\n",
       "      (6): ReLU(inplace=True)\n",
       "      (7): Conv2d(128, 256, kernel_size=(3, 3), stride=(2, 2), padding=(1, 1))\n",
       "      (8): InstanceNorm2d(256, eps=1e-05, momentum=0.1, affine=False, track_running_stats=False)\n",
       "      (9): ReLU(inplace=True)\n",
       "    )\n",
       "  )\n",
       "  (transformer): Transformer(\n",
       "    (t): ModuleList(\n",
       "      (0): ResidualBlock(\n",
       "        (conv_block): Sequential(\n",
       "          (0): ReflectionPad2d((1, 1, 1, 1))\n",
       "          (1): Conv2d(256, 256, kernel_size=(3, 3), stride=(1, 1))\n",
       "          (2): InstanceNorm2d(256, eps=1e-05, momentum=0.1, affine=False, track_running_stats=False)\n",
       "          (3): ReLU(inplace=True)\n",
       "          (4): ReflectionPad2d((1, 1, 1, 1))\n",
       "          (5): Conv2d(256, 256, kernel_size=(3, 3), stride=(1, 1))\n",
       "          (6): InstanceNorm2d(256, eps=1e-05, momentum=0.1, affine=False, track_running_stats=False)\n",
       "        )\n",
       "      )\n",
       "      (1): ResidualBlock(\n",
       "        (conv_block): Sequential(\n",
       "          (0): ReflectionPad2d((1, 1, 1, 1))\n",
       "          (1): Conv2d(256, 256, kernel_size=(3, 3), stride=(1, 1))\n",
       "          (2): InstanceNorm2d(256, eps=1e-05, momentum=0.1, affine=False, track_running_stats=False)\n",
       "          (3): ReLU(inplace=True)\n",
       "          (4): ReflectionPad2d((1, 1, 1, 1))\n",
       "          (5): Conv2d(256, 256, kernel_size=(3, 3), stride=(1, 1))\n",
       "          (6): InstanceNorm2d(256, eps=1e-05, momentum=0.1, affine=False, track_running_stats=False)\n",
       "        )\n",
       "      )\n",
       "      (2): ResidualBlock(\n",
       "        (conv_block): Sequential(\n",
       "          (0): ReflectionPad2d((1, 1, 1, 1))\n",
       "          (1): Conv2d(256, 256, kernel_size=(3, 3), stride=(1, 1))\n",
       "          (2): InstanceNorm2d(256, eps=1e-05, momentum=0.1, affine=False, track_running_stats=False)\n",
       "          (3): ReLU(inplace=True)\n",
       "          (4): ReflectionPad2d((1, 1, 1, 1))\n",
       "          (5): Conv2d(256, 256, kernel_size=(3, 3), stride=(1, 1))\n",
       "          (6): InstanceNorm2d(256, eps=1e-05, momentum=0.1, affine=False, track_running_stats=False)\n",
       "        )\n",
       "      )\n",
       "      (3): ResidualBlock(\n",
       "        (conv_block): Sequential(\n",
       "          (0): ReflectionPad2d((1, 1, 1, 1))\n",
       "          (1): Conv2d(256, 256, kernel_size=(3, 3), stride=(1, 1))\n",
       "          (2): InstanceNorm2d(256, eps=1e-05, momentum=0.1, affine=False, track_running_stats=False)\n",
       "          (3): ReLU(inplace=True)\n",
       "          (4): ReflectionPad2d((1, 1, 1, 1))\n",
       "          (5): Conv2d(256, 256, kernel_size=(3, 3), stride=(1, 1))\n",
       "          (6): InstanceNorm2d(256, eps=1e-05, momentum=0.1, affine=False, track_running_stats=False)\n",
       "        )\n",
       "      )\n",
       "      (4): Identity()\n",
       "    )\n",
       "  )\n",
       "  (decoder): Decoder(\n",
       "    (model): Sequential(\n",
       "      (0): ResidualBlock(\n",
       "        (conv_block): Sequential(\n",
       "          (0): ReflectionPad2d((1, 1, 1, 1))\n",
       "          (1): Conv2d(256, 256, kernel_size=(3, 3), stride=(1, 1))\n",
       "          (2): InstanceNorm2d(256, eps=1e-05, momentum=0.1, affine=False, track_running_stats=False)\n",
       "          (3): ReLU(inplace=True)\n",
       "          (4): ReflectionPad2d((1, 1, 1, 1))\n",
       "          (5): Conv2d(256, 256, kernel_size=(3, 3), stride=(1, 1))\n",
       "          (6): InstanceNorm2d(256, eps=1e-05, momentum=0.1, affine=False, track_running_stats=False)\n",
       "        )\n",
       "      )\n",
       "      (1): ResidualBlock(\n",
       "        (conv_block): Sequential(\n",
       "          (0): ReflectionPad2d((1, 1, 1, 1))\n",
       "          (1): Conv2d(256, 256, kernel_size=(3, 3), stride=(1, 1))\n",
       "          (2): InstanceNorm2d(256, eps=1e-05, momentum=0.1, affine=False, track_running_stats=False)\n",
       "          (3): ReLU(inplace=True)\n",
       "          (4): ReflectionPad2d((1, 1, 1, 1))\n",
       "          (5): Conv2d(256, 256, kernel_size=(3, 3), stride=(1, 1))\n",
       "          (6): InstanceNorm2d(256, eps=1e-05, momentum=0.1, affine=False, track_running_stats=False)\n",
       "        )\n",
       "      )\n",
       "      (2): ResidualBlock(\n",
       "        (conv_block): Sequential(\n",
       "          (0): ReflectionPad2d((1, 1, 1, 1))\n",
       "          (1): Conv2d(256, 256, kernel_size=(3, 3), stride=(1, 1))\n",
       "          (2): InstanceNorm2d(256, eps=1e-05, momentum=0.1, affine=False, track_running_stats=False)\n",
       "          (3): ReLU(inplace=True)\n",
       "          (4): ReflectionPad2d((1, 1, 1, 1))\n",
       "          (5): Conv2d(256, 256, kernel_size=(3, 3), stride=(1, 1))\n",
       "          (6): InstanceNorm2d(256, eps=1e-05, momentum=0.1, affine=False, track_running_stats=False)\n",
       "        )\n",
       "      )\n",
       "      (3): ResidualBlock(\n",
       "        (conv_block): Sequential(\n",
       "          (0): ReflectionPad2d((1, 1, 1, 1))\n",
       "          (1): Conv2d(256, 256, kernel_size=(3, 3), stride=(1, 1))\n",
       "          (2): InstanceNorm2d(256, eps=1e-05, momentum=0.1, affine=False, track_running_stats=False)\n",
       "          (3): ReLU(inplace=True)\n",
       "          (4): ReflectionPad2d((1, 1, 1, 1))\n",
       "          (5): Conv2d(256, 256, kernel_size=(3, 3), stride=(1, 1))\n",
       "          (6): InstanceNorm2d(256, eps=1e-05, momentum=0.1, affine=False, track_running_stats=False)\n",
       "        )\n",
       "      )\n",
       "      (4): ResidualBlock(\n",
       "        (conv_block): Sequential(\n",
       "          (0): ReflectionPad2d((1, 1, 1, 1))\n",
       "          (1): Conv2d(256, 256, kernel_size=(3, 3), stride=(1, 1))\n",
       "          (2): InstanceNorm2d(256, eps=1e-05, momentum=0.1, affine=False, track_running_stats=False)\n",
       "          (3): ReLU(inplace=True)\n",
       "          (4): ReflectionPad2d((1, 1, 1, 1))\n",
       "          (5): Conv2d(256, 256, kernel_size=(3, 3), stride=(1, 1))\n",
       "          (6): InstanceNorm2d(256, eps=1e-05, momentum=0.1, affine=False, track_running_stats=False)\n",
       "        )\n",
       "      )\n",
       "      (5): ConvTranspose2d(256, 128, kernel_size=(3, 3), stride=(2, 2), padding=(1, 1), output_padding=(1, 1))\n",
       "      (6): InstanceNorm2d(128, eps=1e-05, momentum=0.1, affine=False, track_running_stats=False)\n",
       "      (7): ReLU(inplace=True)\n",
       "      (8): ConvTranspose2d(128, 64, kernel_size=(3, 3), stride=(2, 2), padding=(1, 1), output_padding=(1, 1))\n",
       "      (9): InstanceNorm2d(64, eps=1e-05, momentum=0.1, affine=False, track_running_stats=False)\n",
       "      (10): ReLU(inplace=True)\n",
       "      (11): ReflectionPad2d((3, 3, 3, 3))\n",
       "      (12): Conv2d(64, 3, kernel_size=(7, 7), stride=(1, 1))\n",
       "      (13): Tanh()\n",
       "    )\n",
       "  )\n",
       ")"
      ]
     },
     "execution_count": 14,
     "metadata": {},
     "output_type": "execute_result"
    }
   ],
   "source": [
    "#Set vars for training\n",
    "Tensor = torch.cuda.FloatTensor if cuda else torch.Tensor\n",
    "input_A = Tensor(batchSize, in_nc, fineSize, fineSize)\n",
    "input_B = Tensor(batchSize, out_nc, fineSize, fineSize)\n",
    "target_real = Variable(Tensor(batchSize).fill_(1.0), requires_grad=False)\n",
    "target_fake = Variable(Tensor(batchSize).fill_(0.0), requires_grad=False)\n",
    "\n",
    "D_A_size = discriminator(input_A.copy_(batch['style']))[0].size()  \n",
    "D_AC_size = discriminator(input_B.copy_(batch['style']))[1].size()\n",
    "\n",
    "class_label_B = Tensor(D_AC_size[0],D_AC_size[1],D_AC_size[2]).long()\n",
    "\n",
    "autoflag_OHE = Tensor(1,n_styles+1).fill_(0).long()\n",
    "autoflag_OHE[0][-1] = 1\n",
    "\n",
    "fake_label = Tensor(D_A_size).fill_(0.0)\n",
    "real_label = Tensor(D_A_size).fill_(0.99) \n",
    "\n",
    "rec_A_AE = Tensor(batchSize,in_nc,fineSize,fineSize)\n",
    "\n",
    "fake_buffer = ReplayBuffer()\n",
    "\n",
    "##Init Weights\n",
    "generator.apply(weights_init_normal)\n"
   ]
  },
  {
   "cell_type": "code",
   "execution_count": 15,
   "metadata": {},
   "outputs": [
    {
     "data": {
      "text/plain": [
       "Discriminator(\n",
       "  (model): Sequential(\n",
       "    (0): Conv2d(3, 64, kernel_size=(4, 4), stride=(2, 2), padding=(2, 2))\n",
       "    (1): LeakyReLU(negative_slope=0.2, inplace=True)\n",
       "    (2): Conv2d(64, 128, kernel_size=(4, 4), stride=(2, 2), padding=(2, 2))\n",
       "    (3): InstanceNorm2d(128, eps=1e-05, momentum=0.1, affine=False, track_running_stats=False)\n",
       "    (4): LeakyReLU(negative_slope=0.2, inplace=True)\n",
       "    (5): Conv2d(128, 256, kernel_size=(4, 4), stride=(2, 2), padding=(2, 2))\n",
       "    (6): InstanceNorm2d(256, eps=1e-05, momentum=0.1, affine=False, track_running_stats=False)\n",
       "    (7): LeakyReLU(negative_slope=0.2, inplace=True)\n",
       "    (8): Conv2d(256, 512, kernel_size=(4, 4), stride=(1, 1), padding=(2, 2))\n",
       "    (9): InstanceNorm2d(512, eps=1e-05, momentum=0.1, affine=False, track_running_stats=False)\n",
       "    (10): LeakyReLU(negative_slope=0.2, inplace=True)\n",
       "  )\n",
       "  (fldiscriminator): Conv2d(512, 1, kernel_size=(4, 4), stride=(1, 1), padding=(2, 2))\n",
       "  (aux_clf): Conv2d(512, 4, kernel_size=(4, 4), stride=(1, 1), padding=(2, 2))\n",
       ")"
      ]
     },
     "execution_count": 15,
     "metadata": {},
     "output_type": "execute_result"
    }
   ],
   "source": [
    "discriminator.apply(weights_init_normal)"
   ]
  },
  {
   "cell_type": "code",
   "execution_count": 16,
   "metadata": {},
   "outputs": [
    {
     "name": "stderr",
     "output_type": "stream",
     "text": [
      "Setting up a new session...\n",
      "Traceback (most recent call last):\n",
      "  File \"/home/ubuntu/miniconda3/envs/style_transfer/lib/python3.8/site-packages/urllib3/connection.py\", line 169, in _new_conn\n",
      "    conn = connection.create_connection(\n",
      "  File \"/home/ubuntu/miniconda3/envs/style_transfer/lib/python3.8/site-packages/urllib3/util/connection.py\", line 96, in create_connection\n",
      "    raise err\n",
      "  File \"/home/ubuntu/miniconda3/envs/style_transfer/lib/python3.8/site-packages/urllib3/util/connection.py\", line 86, in create_connection\n",
      "    sock.connect(sa)\n",
      "ConnectionRefusedError: [Errno 111] Connection refused\n",
      "\n",
      "During handling of the above exception, another exception occurred:\n",
      "\n",
      "Traceback (most recent call last):\n",
      "  File \"/home/ubuntu/miniconda3/envs/style_transfer/lib/python3.8/site-packages/urllib3/connectionpool.py\", line 699, in urlopen\n",
      "    httplib_response = self._make_request(\n",
      "  File \"/home/ubuntu/miniconda3/envs/style_transfer/lib/python3.8/site-packages/urllib3/connectionpool.py\", line 394, in _make_request\n",
      "    conn.request(method, url, **httplib_request_kw)\n",
      "  File \"/home/ubuntu/miniconda3/envs/style_transfer/lib/python3.8/site-packages/urllib3/connection.py\", line 234, in request\n",
      "    super(HTTPConnection, self).request(method, url, body=body, headers=headers)\n",
      "  File \"/home/ubuntu/miniconda3/envs/style_transfer/lib/python3.8/http/client.py\", line 1256, in request\n",
      "    self._send_request(method, url, body, headers, encode_chunked)\n",
      "  File \"/home/ubuntu/miniconda3/envs/style_transfer/lib/python3.8/http/client.py\", line 1302, in _send_request\n",
      "    self.endheaders(body, encode_chunked=encode_chunked)\n",
      "  File \"/home/ubuntu/miniconda3/envs/style_transfer/lib/python3.8/http/client.py\", line 1251, in endheaders\n",
      "    self._send_output(message_body, encode_chunked=encode_chunked)\n",
      "  File \"/home/ubuntu/miniconda3/envs/style_transfer/lib/python3.8/http/client.py\", line 1011, in _send_output\n",
      "    self.send(msg)\n",
      "  File \"/home/ubuntu/miniconda3/envs/style_transfer/lib/python3.8/http/client.py\", line 951, in send\n",
      "    self.connect()\n",
      "  File \"/home/ubuntu/miniconda3/envs/style_transfer/lib/python3.8/site-packages/urllib3/connection.py\", line 200, in connect\n",
      "    conn = self._new_conn()\n",
      "  File \"/home/ubuntu/miniconda3/envs/style_transfer/lib/python3.8/site-packages/urllib3/connection.py\", line 181, in _new_conn\n",
      "    raise NewConnectionError(\n",
      "urllib3.exceptions.NewConnectionError: <urllib3.connection.HTTPConnection object at 0x7f36ac0a13a0>: Failed to establish a new connection: [Errno 111] Connection refused\n",
      "\n",
      "During handling of the above exception, another exception occurred:\n",
      "\n",
      "Traceback (most recent call last):\n",
      "  File \"/home/ubuntu/miniconda3/envs/style_transfer/lib/python3.8/site-packages/requests/adapters.py\", line 439, in send\n",
      "    resp = conn.urlopen(\n",
      "  File \"/home/ubuntu/miniconda3/envs/style_transfer/lib/python3.8/site-packages/urllib3/connectionpool.py\", line 755, in urlopen\n",
      "    retries = retries.increment(\n",
      "  File \"/home/ubuntu/miniconda3/envs/style_transfer/lib/python3.8/site-packages/urllib3/util/retry.py\", line 574, in increment\n",
      "    raise MaxRetryError(_pool, url, error or ResponseError(cause))\n",
      "urllib3.exceptions.MaxRetryError: HTTPConnectionPool(host='localhost', port=8097): Max retries exceeded with url: /env/main (Caused by NewConnectionError('<urllib3.connection.HTTPConnection object at 0x7f36ac0a13a0>: Failed to establish a new connection: [Errno 111] Connection refused'))\n",
      "\n",
      "During handling of the above exception, another exception occurred:\n",
      "\n",
      "Traceback (most recent call last):\n",
      "  File \"/home/ubuntu/miniconda3/envs/style_transfer/lib/python3.8/site-packages/visdom/__init__.py\", line 708, in _send\n",
      "    return self._handle_post(\n",
      "  File \"/home/ubuntu/miniconda3/envs/style_transfer/lib/python3.8/site-packages/visdom/__init__.py\", line 677, in _handle_post\n",
      "    r = self.session.post(url, data=data)\n",
      "  File \"/home/ubuntu/miniconda3/envs/style_transfer/lib/python3.8/site-packages/requests/sessions.py\", line 590, in post\n",
      "    return self.request('POST', url, data=data, json=json, **kwargs)\n",
      "  File \"/home/ubuntu/miniconda3/envs/style_transfer/lib/python3.8/site-packages/requests/sessions.py\", line 542, in request\n",
      "    resp = self.send(prep, **send_kwargs)\n",
      "  File \"/home/ubuntu/miniconda3/envs/style_transfer/lib/python3.8/site-packages/requests/sessions.py\", line 655, in send\n",
      "    r = adapter.send(request, **kwargs)\n",
      "  File \"/home/ubuntu/miniconda3/envs/style_transfer/lib/python3.8/site-packages/requests/adapters.py\", line 516, in send\n",
      "    raise ConnectionError(e, request=request)\n",
      "requests.exceptions.ConnectionError: HTTPConnectionPool(host='localhost', port=8097): Max retries exceeded with url: /env/main (Caused by NewConnectionError('<urllib3.connection.HTTPConnection object at 0x7f36ac0a13a0>: Failed to establish a new connection: [Errno 111] Connection refused'))\n",
      "[Errno 111] Connection refused\n",
      "on_close() takes 1 positional argument but 3 were given\n"
     ]
    },
    {
     "name": "stdout",
     "output_type": "stream",
     "text": [
      "Exception in user code:\n",
      "------------------------------------------------------------\n"
     ]
    }
   ],
   "source": [
    "logger = Logger(n_epochs, len(dataloader))\n"
   ]
  },
  {
   "cell_type": "code",
   "execution_count": 17,
   "metadata": {
    "scrolled": true
   },
   "outputs": [],
   "source": [
    "# #source image\n",
    "# real_content = Variable(input_A.copy_(batch['content']))\n",
    "# #target style\n",
    "# real_style = Variable(input_B.copy_(batch['style']))\n",
    "# #simple label of style index\n",
    "# style_label = batch['style_label']\n",
    "# #one hot encoded style label\n",
    "# style_OHE = F.one_hot(style_label,n_styles).long()\n",
    "# #Style Label mapped over 1x19x19 tensor for discriminator \n",
    "# class_label = class_label_B.copy_(label2tensor(style_label,class_label_B)).long()\n"
   ]
  },
  {
   "cell_type": "code",
   "execution_count": null,
   "metadata": {
    "scrolled": false
   },
   "outputs": [
    {
     "name": "stdout",
     "output_type": "stream",
     "text": [
      "EPOCH 0 (2021-08-17 15:42:30.481626)\n",
      "LossGEN: 9.1278, LossRec: 7.4899, loss_G_GAN: 2.8651, loss_G_AC: 6.0943, LossDESCR GAN: 1.6749, tv_loss: 0.16844, LossDESCR Class: 10.656\n"
     ]
    },
    {
     "name": "stderr",
     "output_type": "stream",
     "text": [
      "/home/ubuntu/miniconda3/envs/style_transfer/lib/python3.8/site-packages/PIL/Image.py:2911: DecompressionBombWarning: Image size (99313084 pixels) exceeds limit of 89478485 pixels, could be decompression bomb DOS attack.\n",
      "  warnings.warn(\n",
      "/home/ubuntu/miniconda3/envs/style_transfer/lib/python3.8/site-packages/PIL/Image.py:2911: DecompressionBombWarning: Image size (157393683 pixels) exceeds limit of 89478485 pixels, could be decompression bomb DOS attack.\n",
      "  warnings.warn(\n",
      "/home/ubuntu/miniconda3/envs/style_transfer/lib/python3.8/site-packages/PIL/Image.py:2911: DecompressionBombWarning: Image size (97410768 pixels) exceeds limit of 89478485 pixels, could be decompression bomb DOS attack.\n",
      "  warnings.warn(\n",
      "/home/ubuntu/miniconda3/envs/style_transfer/lib/python3.8/site-packages/PIL/Image.py:2911: DecompressionBombWarning: Image size (157218750 pixels) exceeds limit of 89478485 pixels, could be decompression bomb DOS attack.\n",
      "  warnings.warn(\n",
      "/home/ubuntu/miniconda3/envs/style_transfer/lib/python3.8/site-packages/PIL/Image.py:2911: DecompressionBombWarning: Image size (157555125 pixels) exceeds limit of 89478485 pixels, could be decompression bomb DOS attack.\n",
      "  warnings.warn(\n",
      "/home/ubuntu/miniconda3/envs/style_transfer/lib/python3.8/site-packages/PIL/Image.py:2911: DecompressionBombWarning: Image size (138711252 pixels) exceeds limit of 89478485 pixels, could be decompression bomb DOS attack.\n",
      "  warnings.warn(\n"
     ]
    },
    {
     "name": "stdout",
     "output_type": "stream",
     "text": [
      "LossGEN: 2.29, LossRec: 1.4286, loss_G_GAN: 0.83485, loss_G_AC: 1.4285, LossDESCR GAN: 0.28037, tv_loss: 0.026601, LossDESCR Class: 2.7543\n"
     ]
    },
    {
     "name": "stderr",
     "output_type": "stream",
     "text": [
      "/home/ubuntu/miniconda3/envs/style_transfer/lib/python3.8/site-packages/PIL/Image.py:2911: DecompressionBombWarning: Image size (96355168 pixels) exceeds limit of 89478485 pixels, could be decompression bomb DOS attack.\n",
      "  warnings.warn(\n",
      "/home/ubuntu/miniconda3/envs/style_transfer/lib/python3.8/site-packages/PIL/Image.py:2911: DecompressionBombWarning: Image size (145942116 pixels) exceeds limit of 89478485 pixels, could be decompression bomb DOS attack.\n",
      "  warnings.warn(\n",
      "/home/ubuntu/miniconda3/envs/style_transfer/lib/python3.8/site-packages/PIL/Image.py:2911: DecompressionBombWarning: Image size (157552000 pixels) exceeds limit of 89478485 pixels, could be decompression bomb DOS attack.\n",
      "  warnings.warn(\n",
      "/home/ubuntu/miniconda3/envs/style_transfer/lib/python3.8/site-packages/PIL/Image.py:2911: DecompressionBombWarning: Image size (97913365 pixels) exceeds limit of 89478485 pixels, could be decompression bomb DOS attack.\n",
      "  warnings.warn(\n",
      "/home/ubuntu/miniconda3/envs/style_transfer/lib/python3.8/site-packages/PIL/Image.py:2911: DecompressionBombWarning: Image size (157393683 pixels) exceeds limit of 89478485 pixels, could be decompression bomb DOS attack.\n",
      "  warnings.warn(\n"
     ]
    },
    {
     "name": "stdout",
     "output_type": "stream",
     "text": [
      "LossGEN: 5.7173, LossRec: 0.8297, loss_G_GAN: 0.33413, loss_G_AC: 5.3621, LossDESCR GAN: 0.28937, tv_loss: 0.021027, LossDESCR Class: 23.063\n"
     ]
    },
    {
     "name": "stderr",
     "output_type": "stream",
     "text": [
      "/home/ubuntu/miniconda3/envs/style_transfer/lib/python3.8/site-packages/PIL/Image.py:2911: DecompressionBombWarning: Image size (116280102 pixels) exceeds limit of 89478485 pixels, could be decompression bomb DOS attack.\n",
      "  warnings.warn(\n",
      "/home/ubuntu/miniconda3/envs/style_transfer/lib/python3.8/site-packages/PIL/Image.py:2911: DecompressionBombWarning: Image size (157478720 pixels) exceeds limit of 89478485 pixels, could be decompression bomb DOS attack.\n",
      "  warnings.warn(\n",
      "/home/ubuntu/miniconda3/envs/style_transfer/lib/python3.8/site-packages/PIL/Image.py:2911: DecompressionBombWarning: Image size (98209936 pixels) exceeds limit of 89478485 pixels, could be decompression bomb DOS attack.\n",
      "  warnings.warn(\n"
     ]
    },
    {
     "name": "stdout",
     "output_type": "stream",
     "text": [
      "LossGEN: 2.9368, LossRec: 0.21178, loss_G_GAN: 0.54966, loss_G_AC: 2.3684, LossDESCR GAN: 0.22304, tv_loss: 0.018683, LossDESCR Class: 4.4425\n"
     ]
    },
    {
     "name": "stderr",
     "output_type": "stream",
     "text": [
      "/home/ubuntu/miniconda3/envs/style_transfer/lib/python3.8/site-packages/PIL/Image.py:2911: DecompressionBombWarning: Image size (96038488 pixels) exceeds limit of 89478485 pixels, could be decompression bomb DOS attack.\n",
      "  warnings.warn(\n",
      "/home/ubuntu/miniconda3/envs/style_transfer/lib/python3.8/site-packages/PIL/Image.py:2911: DecompressionBombWarning: Image size (96587400 pixels) exceeds limit of 89478485 pixels, could be decompression bomb DOS attack.\n",
      "  warnings.warn(\n",
      "/home/ubuntu/miniconda3/envs/style_transfer/lib/python3.8/site-packages/PIL/Image.py:2911: DecompressionBombWarning: Image size (156951104 pixels) exceeds limit of 89478485 pixels, could be decompression bomb DOS attack.\n",
      "  warnings.warn(\n",
      "/home/ubuntu/miniconda3/envs/style_transfer/lib/python3.8/site-packages/PIL/Image.py:2911: DecompressionBombWarning: Image size (97906900 pixels) exceeds limit of 89478485 pixels, could be decompression bomb DOS attack.\n",
      "  warnings.warn(\n",
      "/home/ubuntu/miniconda3/envs/style_transfer/lib/python3.8/site-packages/PIL/Image.py:2911: DecompressionBombWarning: Image size (110487752 pixels) exceeds limit of 89478485 pixels, could be decompression bomb DOS attack.\n",
      "  warnings.warn(\n",
      "/home/ubuntu/miniconda3/envs/style_transfer/lib/python3.8/site-packages/PIL/Image.py:2911: DecompressionBombWarning: Image size (148262400 pixels) exceeds limit of 89478485 pixels, could be decompression bomb DOS attack.\n",
      "  warnings.warn(\n"
     ]
    },
    {
     "name": "stdout",
     "output_type": "stream",
     "text": [
      "LossGEN: 0.83729, LossRec: 0.87303, loss_G_GAN: 0.34612, loss_G_AC: 0.45578, LossDESCR GAN: 0.20249, tv_loss: 0.035394, LossDESCR Class: 0.64068\n"
     ]
    },
    {
     "name": "stderr",
     "output_type": "stream",
     "text": [
      "/home/ubuntu/miniconda3/envs/style_transfer/lib/python3.8/site-packages/PIL/Image.py:2911: DecompressionBombWarning: Image size (111698301 pixels) exceeds limit of 89478485 pixels, could be decompression bomb DOS attack.\n",
      "  warnings.warn(\n",
      "/home/ubuntu/miniconda3/envs/style_transfer/lib/python3.8/site-packages/PIL/Image.py:2911: DecompressionBombWarning: Image size (101777775 pixels) exceeds limit of 89478485 pixels, could be decompression bomb DOS attack.\n",
      "  warnings.warn(\n",
      "/home/ubuntu/miniconda3/envs/style_transfer/lib/python3.8/site-packages/PIL/Image.py:2911: DecompressionBombWarning: Image size (143025860 pixels) exceeds limit of 89478485 pixels, could be decompression bomb DOS attack.\n",
      "  warnings.warn(\n",
      "/home/ubuntu/miniconda3/envs/style_transfer/lib/python3.8/site-packages/PIL/Image.py:2911: DecompressionBombWarning: Image size (112703077 pixels) exceeds limit of 89478485 pixels, could be decompression bomb DOS attack.\n",
      "  warnings.warn(\n",
      "/home/ubuntu/miniconda3/envs/style_transfer/lib/python3.8/site-packages/PIL/Image.py:2911: DecompressionBombWarning: Image size (145942116 pixels) exceeds limit of 89478485 pixels, could be decompression bomb DOS attack.\n",
      "  warnings.warn(\n",
      "/home/ubuntu/miniconda3/envs/style_transfer/lib/python3.8/site-packages/PIL/Image.py:2911: DecompressionBombWarning: Image size (117273600 pixels) exceeds limit of 89478485 pixels, could be decompression bomb DOS attack.\n",
      "  warnings.warn(\n",
      "/home/ubuntu/miniconda3/envs/style_transfer/lib/python3.8/site-packages/PIL/Image.py:2911: DecompressionBombWarning: Image size (90745915 pixels) exceeds limit of 89478485 pixels, could be decompression bomb DOS attack.\n",
      "  warnings.warn(\n"
     ]
    },
    {
     "name": "stdout",
     "output_type": "stream",
     "text": [
      "LossGEN: 1.5474, LossRec: 0.95785, loss_G_GAN: 0.41694, loss_G_AC: 1.0804, LossDESCR GAN: 0.29753, tv_loss: 0.050052, LossDESCR Class: 0.8767\n"
     ]
    },
    {
     "name": "stderr",
     "output_type": "stream",
     "text": [
      "/home/ubuntu/miniconda3/envs/style_transfer/lib/python3.8/site-packages/PIL/Image.py:2911: DecompressionBombWarning: Image size (97790784 pixels) exceeds limit of 89478485 pixels, could be decompression bomb DOS attack.\n",
      "  warnings.warn(\n",
      "/home/ubuntu/miniconda3/envs/style_transfer/lib/python3.8/site-packages/PIL/Image.py:2911: DecompressionBombWarning: Image size (102676475 pixels) exceeds limit of 89478485 pixels, could be decompression bomb DOS attack.\n",
      "  warnings.warn(\n",
      "/home/ubuntu/miniconda3/envs/style_transfer/lib/python3.8/site-packages/PIL/Image.py:2911: DecompressionBombWarning: Image size (111990450 pixels) exceeds limit of 89478485 pixels, could be decompression bomb DOS attack.\n",
      "  warnings.warn(\n"
     ]
    },
    {
     "name": "stdout",
     "output_type": "stream",
     "text": [
      "LossGEN: 2.5041, LossRec: 0.53964, loss_G_GAN: 0.59505, loss_G_AC: 1.8685, LossDESCR GAN: 0.20891, tv_loss: 0.04048, LossDESCR Class: 6.6154\n"
     ]
    },
    {
     "name": "stderr",
     "output_type": "stream",
     "text": [
      "/home/ubuntu/miniconda3/envs/style_transfer/lib/python3.8/site-packages/PIL/Image.py:2911: DecompressionBombWarning: Image size (157275868 pixels) exceeds limit of 89478485 pixels, could be decompression bomb DOS attack.\n",
      "  warnings.warn(\n",
      "/home/ubuntu/miniconda3/envs/style_transfer/lib/python3.8/site-packages/PIL/Image.py:2911: DecompressionBombWarning: Image size (99339952 pixels) exceeds limit of 89478485 pixels, could be decompression bomb DOS attack.\n",
      "  warnings.warn(\n"
     ]
    },
    {
     "name": "stdout",
     "output_type": "stream",
     "text": [
      "LossGEN: 2.5809, LossRec: 2.7891, loss_G_GAN: 0.69915, loss_G_AC: 1.8609, LossDESCR GAN: 0.12162, tv_loss: 0.020928, LossDESCR Class: 6.6336\n"
     ]
    },
    {
     "name": "stderr",
     "output_type": "stream",
     "text": [
      "/home/ubuntu/miniconda3/envs/style_transfer/lib/python3.8/site-packages/PIL/Image.py:2911: DecompressionBombWarning: Image size (143025860 pixels) exceeds limit of 89478485 pixels, could be decompression bomb DOS attack.\n",
      "  warnings.warn(\n",
      "/home/ubuntu/miniconda3/envs/style_transfer/lib/python3.8/site-packages/PIL/Image.py:2911: DecompressionBombWarning: Image size (156886163 pixels) exceeds limit of 89478485 pixels, could be decompression bomb DOS attack.\n",
      "  warnings.warn(\n",
      "/home/ubuntu/miniconda3/envs/style_transfer/lib/python3.8/site-packages/PIL/Image.py:2911: DecompressionBombWarning: Image size (143025860 pixels) exceeds limit of 89478485 pixels, could be decompression bomb DOS attack.\n",
      "  warnings.warn(\n",
      "/home/ubuntu/miniconda3/envs/style_transfer/lib/python3.8/site-packages/PIL/Image.py:2911: DecompressionBombWarning: Image size (92493544 pixels) exceeds limit of 89478485 pixels, could be decompression bomb DOS attack.\n",
      "  warnings.warn(\n"
     ]
    },
    {
     "name": "stdout",
     "output_type": "stream",
     "text": [
      "LossGEN: 0.71072, LossRec: 0.65458, loss_G_GAN: 0.40167, loss_G_AC: 0.27713, LossDESCR GAN: 0.47382, tv_loss: 0.031917, LossDESCR Class: 0.93518\n"
     ]
    },
    {
     "name": "stderr",
     "output_type": "stream",
     "text": [
      "/home/ubuntu/miniconda3/envs/style_transfer/lib/python3.8/site-packages/PIL/Image.py:2911: DecompressionBombWarning: Image size (96059600 pixels) exceeds limit of 89478485 pixels, could be decompression bomb DOS attack.\n",
      "  warnings.warn(\n",
      "/home/ubuntu/miniconda3/envs/style_transfer/lib/python3.8/site-packages/PIL/Image.py:2911: DecompressionBombWarning: Image size (157156288 pixels) exceeds limit of 89478485 pixels, could be decompression bomb DOS attack.\n",
      "  warnings.warn(\n",
      "/home/ubuntu/miniconda3/envs/style_transfer/lib/python3.8/site-packages/PIL/Image.py:2911: DecompressionBombWarning: Image size (96059600 pixels) exceeds limit of 89478485 pixels, could be decompression bomb DOS attack.\n",
      "  warnings.warn(\n"
     ]
    },
    {
     "name": "stdout",
     "output_type": "stream",
     "text": [
      "LossGEN: 1.0835, LossRec: 1.1624, loss_G_GAN: 0.6013, loss_G_AC: 0.45068, LossDESCR GAN: 0.20478, tv_loss: 0.031546, LossDESCR Class: 1.5323\n",
      "LossGEN: 1.6283, LossRec: 3.5395, loss_G_GAN: 0.81344, loss_G_AC: 0.78551, LossDESCR GAN: 0.40921, tv_loss: 0.02936, LossDESCR Class: 16.918\n"
     ]
    },
    {
     "name": "stderr",
     "output_type": "stream",
     "text": [
      "/home/ubuntu/miniconda3/envs/style_transfer/lib/python3.8/site-packages/PIL/Image.py:2911: DecompressionBombWarning: Image size (98209936 pixels) exceeds limit of 89478485 pixels, could be decompression bomb DOS attack.\n",
      "  warnings.warn(\n",
      "/home/ubuntu/miniconda3/envs/style_transfer/lib/python3.8/site-packages/PIL/Image.py:2911: DecompressionBombWarning: Image size (157156288 pixels) exceeds limit of 89478485 pixels, could be decompression bomb DOS attack.\n",
      "  warnings.warn(\n",
      "/home/ubuntu/miniconda3/envs/style_transfer/lib/python3.8/site-packages/PIL/Image.py:2911: DecompressionBombWarning: Image size (156942729 pixels) exceeds limit of 89478485 pixels, could be decompression bomb DOS attack.\n",
      "  warnings.warn(\n"
     ]
    },
    {
     "name": "stdout",
     "output_type": "stream",
     "text": [
      "LossGEN: 1.1853, LossRec: 1.1452, loss_G_GAN: 0.46503, loss_G_AC: 0.7136, LossDESCR GAN: 0.23229, tv_loss: 0.0066447, LossDESCR Class: 3.9576\n"
     ]
    },
    {
     "name": "stderr",
     "output_type": "stream",
     "text": [
      "/home/ubuntu/miniconda3/envs/style_transfer/lib/python3.8/site-packages/PIL/Image.py:2911: DecompressionBombWarning: Image size (157132654 pixels) exceeds limit of 89478485 pixels, could be decompression bomb DOS attack.\n",
      "  warnings.warn(\n",
      "/home/ubuntu/miniconda3/envs/style_transfer/lib/python3.8/site-packages/PIL/Image.py:2911: DecompressionBombWarning: Image size (96053100 pixels) exceeds limit of 89478485 pixels, could be decompression bomb DOS attack.\n",
      "  warnings.warn(\n",
      "/home/ubuntu/miniconda3/envs/style_transfer/lib/python3.8/site-packages/PIL/Image.py:2911: DecompressionBombWarning: Image size (111431880 pixels) exceeds limit of 89478485 pixels, could be decompression bomb DOS attack.\n",
      "  warnings.warn(\n",
      "/home/ubuntu/miniconda3/envs/style_transfer/lib/python3.8/site-packages/PIL/Image.py:2911: DecompressionBombWarning: Image size (116971254 pixels) exceeds limit of 89478485 pixels, could be decompression bomb DOS attack.\n",
      "  warnings.warn(\n",
      "/home/ubuntu/miniconda3/envs/style_transfer/lib/python3.8/site-packages/PIL/Image.py:2911: DecompressionBombWarning: Image size (95795700 pixels) exceeds limit of 89478485 pixels, could be decompression bomb DOS attack.\n",
      "  warnings.warn(\n",
      "/home/ubuntu/miniconda3/envs/style_transfer/lib/python3.8/site-packages/PIL/Image.py:2911: DecompressionBombWarning: Image size (96355168 pixels) exceeds limit of 89478485 pixels, could be decompression bomb DOS attack.\n",
      "  warnings.warn(\n",
      "/home/ubuntu/miniconda3/envs/style_transfer/lib/python3.8/site-packages/PIL/Image.py:2911: DecompressionBombWarning: Image size (157197250 pixels) exceeds limit of 89478485 pixels, could be decompression bomb DOS attack.\n",
      "  warnings.warn(\n"
     ]
    },
    {
     "name": "stdout",
     "output_type": "stream",
     "text": [
      "LossGEN: 0.55926, LossRec: 0.95738, loss_G_GAN: 0.43807, loss_G_AC: 0.099667, LossDESCR GAN: 0.12671, tv_loss: 0.021527, LossDESCR Class: 0.097469\n"
     ]
    },
    {
     "name": "stderr",
     "output_type": "stream",
     "text": [
      "/home/ubuntu/miniconda3/envs/style_transfer/lib/python3.8/site-packages/PIL/Image.py:2911: DecompressionBombWarning: Image size (96471284 pixels) exceeds limit of 89478485 pixels, could be decompression bomb DOS attack.\n",
      "  warnings.warn(\n",
      "/home/ubuntu/miniconda3/envs/style_transfer/lib/python3.8/site-packages/PIL/Image.py:2911: DecompressionBombWarning: Image size (96830188 pixels) exceeds limit of 89478485 pixels, could be decompression bomb DOS attack.\n",
      "  warnings.warn(\n",
      "/home/ubuntu/miniconda3/envs/style_transfer/lib/python3.8/site-packages/PIL/Image.py:2911: DecompressionBombWarning: Image size (157295103 pixels) exceeds limit of 89478485 pixels, could be decompression bomb DOS attack.\n",
      "  warnings.warn(\n",
      "/home/ubuntu/miniconda3/envs/style_transfer/lib/python3.8/site-packages/PIL/Image.py:2911: DecompressionBombWarning: Image size (157716000 pixels) exceeds limit of 89478485 pixels, could be decompression bomb DOS attack.\n",
      "  warnings.warn(\n",
      "/home/ubuntu/miniconda3/envs/style_transfer/lib/python3.8/site-packages/PIL/Image.py:2911: DecompressionBombWarning: Image size (98488533 pixels) exceeds limit of 89478485 pixels, could be decompression bomb DOS attack.\n",
      "  warnings.warn(\n",
      "/home/ubuntu/miniconda3/envs/style_transfer/lib/python3.8/site-packages/PIL/Image.py:2911: DecompressionBombWarning: Image size (96046022 pixels) exceeds limit of 89478485 pixels, could be decompression bomb DOS attack.\n",
      "  warnings.warn(\n"
     ]
    },
    {
     "name": "stdout",
     "output_type": "stream",
     "text": [
      "LossGEN: 1.0323, LossRec: 0.67074, loss_G_GAN: 0.75807, loss_G_AC: 0.23384, LossDESCR GAN: 0.11315, tv_loss: 0.04042, LossDESCR Class: 0.39839\n"
     ]
    },
    {
     "name": "stderr",
     "output_type": "stream",
     "text": [
      "/home/ubuntu/miniconda3/envs/style_transfer/lib/python3.8/site-packages/PIL/Image.py:2911: DecompressionBombWarning: Image size (97379100 pixels) exceeds limit of 89478485 pixels, could be decompression bomb DOS attack.\n",
      "  warnings.warn(\n",
      "/home/ubuntu/miniconda3/envs/style_transfer/lib/python3.8/site-packages/PIL/Image.py:2911: DecompressionBombWarning: Image size (118111302 pixels) exceeds limit of 89478485 pixels, could be decompression bomb DOS attack.\n",
      "  warnings.warn(\n",
      "/home/ubuntu/miniconda3/envs/style_transfer/lib/python3.8/site-packages/PIL/Image.py:2911: DecompressionBombWarning: Image size (99188624 pixels) exceeds limit of 89478485 pixels, could be decompression bomb DOS attack.\n",
      "  warnings.warn(\n",
      "/home/ubuntu/miniconda3/envs/style_transfer/lib/python3.8/site-packages/PIL/Image.py:2911: DecompressionBombWarning: Image size (96059600 pixels) exceeds limit of 89478485 pixels, could be decompression bomb DOS attack.\n",
      "  warnings.warn(\n",
      "/home/ubuntu/miniconda3/envs/style_transfer/lib/python3.8/site-packages/PIL/Image.py:2911: DecompressionBombWarning: Image size (102083333 pixels) exceeds limit of 89478485 pixels, could be decompression bomb DOS attack.\n",
      "  warnings.warn(\n",
      "/home/ubuntu/miniconda3/envs/style_transfer/lib/python3.8/site-packages/PIL/Image.py:2911: DecompressionBombWarning: Image size (111431880 pixels) exceeds limit of 89478485 pixels, could be decompression bomb DOS attack.\n",
      "  warnings.warn(\n",
      "/home/ubuntu/miniconda3/envs/style_transfer/lib/python3.8/site-packages/PIL/Image.py:2911: DecompressionBombWarning: Image size (117834500 pixels) exceeds limit of 89478485 pixels, could be decompression bomb DOS attack.\n",
      "  warnings.warn(\n",
      "/home/ubuntu/miniconda3/envs/style_transfer/lib/python3.8/site-packages/PIL/Image.py:2911: DecompressionBombWarning: Image size (144647592 pixels) exceeds limit of 89478485 pixels, could be decompression bomb DOS attack.\n",
      "  warnings.warn(\n"
     ]
    },
    {
     "name": "stdout",
     "output_type": "stream",
     "text": [
      "LossGEN: 0.57118, LossRec: 0.64821, loss_G_GAN: 0.32842, loss_G_AC: 0.2077, LossDESCR GAN: 0.28181, tv_loss: 0.035058, LossDESCR Class: 0.27497\n"
     ]
    },
    {
     "name": "stderr",
     "output_type": "stream",
     "text": [
      "/home/ubuntu/miniconda3/envs/style_transfer/lib/python3.8/site-packages/PIL/Image.py:2911: DecompressionBombWarning: Image size (157132750 pixels) exceeds limit of 89478485 pixels, could be decompression bomb DOS attack.\n",
      "  warnings.warn(\n",
      "/home/ubuntu/miniconda3/envs/style_transfer/lib/python3.8/site-packages/PIL/Image.py:2911: DecompressionBombWarning: Image size (110671579 pixels) exceeds limit of 89478485 pixels, could be decompression bomb DOS attack.\n",
      "  warnings.warn(\n",
      "/home/ubuntu/miniconda3/envs/style_transfer/lib/python3.8/site-packages/PIL/Image.py:2911: DecompressionBombWarning: Image size (157308154 pixels) exceeds limit of 89478485 pixels, could be decompression bomb DOS attack.\n",
      "  warnings.warn(\n",
      "/home/ubuntu/miniconda3/envs/style_transfer/lib/python3.8/site-packages/PIL/Image.py:2911: DecompressionBombWarning: Image size (99339952 pixels) exceeds limit of 89478485 pixels, could be decompression bomb DOS attack.\n",
      "  warnings.warn(\n",
      "/home/ubuntu/miniconda3/envs/style_transfer/lib/python3.8/site-packages/PIL/Image.py:2911: DecompressionBombWarning: Image size (157393683 pixels) exceeds limit of 89478485 pixels, could be decompression bomb DOS attack.\n",
      "  warnings.warn(\n",
      "/home/ubuntu/miniconda3/envs/style_transfer/lib/python3.8/site-packages/PIL/Image.py:2911: DecompressionBombWarning: Image size (103161181 pixels) exceeds limit of 89478485 pixels, could be decompression bomb DOS attack.\n",
      "  warnings.warn(\n",
      "/home/ubuntu/miniconda3/envs/style_transfer/lib/python3.8/site-packages/PIL/Image.py:2911: DecompressionBombWarning: Image size (117273600 pixels) exceeds limit of 89478485 pixels, could be decompression bomb DOS attack.\n",
      "  warnings.warn(\n",
      "/home/ubuntu/miniconda3/envs/style_transfer/lib/python3.8/site-packages/PIL/Image.py:2911: DecompressionBombWarning: Image size (156953044 pixels) exceeds limit of 89478485 pixels, could be decompression bomb DOS attack.\n",
      "  warnings.warn(\n"
     ]
    },
    {
     "name": "stdout",
     "output_type": "stream",
     "text": [
      "LossGEN: 1.5567, LossRec: 1.1385, loss_G_GAN: 0.62816, loss_G_AC: 0.89525, LossDESCR GAN: 0.13691, tv_loss: 0.033325, LossDESCR Class: 0.99792\n"
     ]
    },
    {
     "name": "stderr",
     "output_type": "stream",
     "text": [
      "/home/ubuntu/miniconda3/envs/style_transfer/lib/python3.8/site-packages/PIL/Image.py:2911: DecompressionBombWarning: Image size (97311236 pixels) exceeds limit of 89478485 pixels, could be decompression bomb DOS attack.\n",
      "  warnings.warn(\n",
      "/home/ubuntu/miniconda3/envs/style_transfer/lib/python3.8/site-packages/PIL/Image.py:2911: DecompressionBombWarning: Image size (140150600 pixels) exceeds limit of 89478485 pixels, could be decompression bomb DOS attack.\n",
      "  warnings.warn(\n"
     ]
    },
    {
     "name": "stdout",
     "output_type": "stream",
     "text": [
      "LossGEN: 0.62933, LossRec: 1.5985, loss_G_GAN: 0.37717, loss_G_AC: 0.20213, LossDESCR GAN: 0.22265, tv_loss: 0.050026, LossDESCR Class: 0.18162\n"
     ]
    },
    {
     "name": "stderr",
     "output_type": "stream",
     "text": [
      "/home/ubuntu/miniconda3/envs/style_transfer/lib/python3.8/site-packages/PIL/Image.py:2911: DecompressionBombWarning: Image size (144647592 pixels) exceeds limit of 89478485 pixels, could be decompression bomb DOS attack.\n",
      "  warnings.warn(\n",
      "/home/ubuntu/miniconda3/envs/style_transfer/lib/python3.8/site-packages/PIL/Image.py:2911: DecompressionBombWarning: Image size (109902976 pixels) exceeds limit of 89478485 pixels, could be decompression bomb DOS attack.\n",
      "  warnings.warn(\n",
      "/home/ubuntu/miniconda3/envs/style_transfer/lib/python3.8/site-packages/PIL/Image.py:2911: DecompressionBombWarning: Image size (102304388 pixels) exceeds limit of 89478485 pixels, could be decompression bomb DOS attack.\n",
      "  warnings.warn(\n",
      "/home/ubuntu/miniconda3/envs/style_transfer/lib/python3.8/site-packages/PIL/Image.py:2911: DecompressionBombWarning: Image size (97970236 pixels) exceeds limit of 89478485 pixels, could be decompression bomb DOS attack.\n",
      "  warnings.warn(\n"
     ]
    },
    {
     "name": "stdout",
     "output_type": "stream",
     "text": [
      "LossGEN: 4.1315, LossRec: 1.2133, loss_G_GAN: 0.23535, loss_G_AC: 3.8795, LossDESCR GAN: 0.25266, tv_loss: 0.016627, LossDESCR Class: 21.753\n"
     ]
    },
    {
     "name": "stderr",
     "output_type": "stream",
     "text": [
      "/home/ubuntu/miniconda3/envs/style_transfer/lib/python3.8/site-packages/PIL/Image.py:2911: DecompressionBombWarning: Image size (111698301 pixels) exceeds limit of 89478485 pixels, could be decompression bomb DOS attack.\n",
      "  warnings.warn(\n",
      "/home/ubuntu/miniconda3/envs/style_transfer/lib/python3.8/site-packages/PIL/Image.py:2911: DecompressionBombWarning: Image size (157555125 pixels) exceeds limit of 89478485 pixels, could be decompression bomb DOS attack.\n",
      "  warnings.warn(\n",
      "/home/ubuntu/miniconda3/envs/style_transfer/lib/python3.8/site-packages/PIL/Image.py:2911: DecompressionBombWarning: Image size (96038488 pixels) exceeds limit of 89478485 pixels, could be decompression bomb DOS attack.\n",
      "  warnings.warn(\n",
      "/home/ubuntu/miniconda3/envs/style_transfer/lib/python3.8/site-packages/PIL/Image.py:2911: DecompressionBombWarning: Image size (97643000 pixels) exceeds limit of 89478485 pixels, could be decompression bomb DOS attack.\n",
      "  warnings.warn(\n",
      "/home/ubuntu/miniconda3/envs/style_transfer/lib/python3.8/site-packages/PIL/Image.py:2911: DecompressionBombWarning: Image size (99081675 pixels) exceeds limit of 89478485 pixels, could be decompression bomb DOS attack.\n",
      "  warnings.warn(\n"
     ]
    },
    {
     "name": "stdout",
     "output_type": "stream",
     "text": [
      "LossGEN: 3.3932, LossRec: 0.88976, loss_G_GAN: 0.47419, loss_G_AC: 2.8897, LossDESCR GAN: 0.21565, tv_loss: 0.029246, LossDESCR Class: 1.2366\n"
     ]
    },
    {
     "name": "stderr",
     "output_type": "stream",
     "text": [
      "/home/ubuntu/miniconda3/envs/style_transfer/lib/python3.8/site-packages/PIL/Image.py:2911: DecompressionBombWarning: Image size (99339952 pixels) exceeds limit of 89478485 pixels, could be decompression bomb DOS attack.\n",
      "  warnings.warn(\n",
      "/home/ubuntu/miniconda3/envs/style_transfer/lib/python3.8/site-packages/PIL/Image.py:2911: DecompressionBombWarning: Image size (101777775 pixels) exceeds limit of 89478485 pixels, could be decompression bomb DOS attack.\n",
      "  warnings.warn(\n",
      "/home/ubuntu/miniconda3/envs/style_transfer/lib/python3.8/site-packages/PIL/Image.py:2911: DecompressionBombWarning: Image size (112703077 pixels) exceeds limit of 89478485 pixels, could be decompression bomb DOS attack.\n",
      "  warnings.warn(\n"
     ]
    },
    {
     "name": "stdout",
     "output_type": "stream",
     "text": [
      "LossGEN: 0.85433, LossRec: 0.47929, loss_G_GAN: 0.49445, loss_G_AC: 0.28899, LossDESCR GAN: 0.17483, tv_loss: 0.070883, LossDESCR Class: 2.9467\n"
     ]
    },
    {
     "name": "stderr",
     "output_type": "stream",
     "text": [
      "/home/ubuntu/miniconda3/envs/style_transfer/lib/python3.8/site-packages/PIL/Image.py:2911: DecompressionBombWarning: Image size (156952551 pixels) exceeds limit of 89478485 pixels, could be decompression bomb DOS attack.\n",
      "  warnings.warn(\n",
      "/home/ubuntu/miniconda3/envs/style_transfer/lib/python3.8/site-packages/PIL/Image.py:2911: DecompressionBombWarning: Image size (115288915 pixels) exceeds limit of 89478485 pixels, could be decompression bomb DOS attack.\n",
      "  warnings.warn(\n",
      "/home/ubuntu/miniconda3/envs/style_transfer/lib/python3.8/site-packages/PIL/Image.py:2911: DecompressionBombWarning: Image size (157555125 pixels) exceeds limit of 89478485 pixels, could be decompression bomb DOS attack.\n",
      "  warnings.warn(\n"
     ]
    },
    {
     "name": "stdout",
     "output_type": "stream",
     "text": [
      "LossGEN: 0.39686, LossRec: 1.0028, loss_G_GAN: 0.089678, loss_G_AC: 0.28188, LossDESCR GAN: 0.163, tv_loss: 0.025297, LossDESCR Class: 0.30527\n"
     ]
    },
    {
     "name": "stderr",
     "output_type": "stream",
     "text": [
      "/home/ubuntu/miniconda3/envs/style_transfer/lib/python3.8/site-packages/PIL/Image.py:2911: DecompressionBombWarning: Image size (95774588 pixels) exceeds limit of 89478485 pixels, could be decompression bomb DOS attack.\n",
      "  warnings.warn(\n",
      "/home/ubuntu/miniconda3/envs/style_transfer/lib/python3.8/site-packages/PIL/Image.py:2911: DecompressionBombWarning: Image size (157555125 pixels) exceeds limit of 89478485 pixels, could be decompression bomb DOS attack.\n",
      "  warnings.warn(\n",
      "/home/ubuntu/miniconda3/envs/style_transfer/lib/python3.8/site-packages/PIL/Image.py:2911: DecompressionBombWarning: Image size (102525084 pixels) exceeds limit of 89478485 pixels, could be decompression bomb DOS attack.\n",
      "  warnings.warn(\n",
      "/home/ubuntu/miniconda3/envs/style_transfer/lib/python3.8/site-packages/PIL/Image.py:2911: DecompressionBombWarning: Image size (98209936 pixels) exceeds limit of 89478485 pixels, could be decompression bomb DOS attack.\n",
      "  warnings.warn(\n",
      "/home/ubuntu/miniconda3/envs/style_transfer/lib/python3.8/site-packages/PIL/Image.py:2911: DecompressionBombWarning: Image size (157587176 pixels) exceeds limit of 89478485 pixels, could be decompression bomb DOS attack.\n",
      "  warnings.warn(\n"
     ]
    },
    {
     "name": "stdout",
     "output_type": "stream",
     "text": [
      "LossGEN: 0.16793, LossRec: 0.26488, loss_G_GAN: 0.11767, loss_G_AC: 0.015025, LossDESCR GAN: 0.25846, tv_loss: 0.035233, LossDESCR Class: 0.018763\n"
     ]
    },
    {
     "name": "stderr",
     "output_type": "stream",
     "text": [
      "/home/ubuntu/miniconda3/envs/style_transfer/lib/python3.8/site-packages/PIL/Image.py:2911: DecompressionBombWarning: Image size (157562825 pixels) exceeds limit of 89478485 pixels, could be decompression bomb DOS attack.\n",
      "  warnings.warn(\n",
      "/home/ubuntu/miniconda3/envs/style_transfer/lib/python3.8/site-packages/PIL/Image.py:2911: DecompressionBombWarning: Image size (97379100 pixels) exceeds limit of 89478485 pixels, could be decompression bomb DOS attack.\n",
      "  warnings.warn(\n",
      "/home/ubuntu/miniconda3/envs/style_transfer/lib/python3.8/site-packages/PIL/Image.py:2911: DecompressionBombWarning: Image size (97526884 pixels) exceeds limit of 89478485 pixels, could be decompression bomb DOS attack.\n",
      "  warnings.warn(\n",
      "/home/ubuntu/miniconda3/envs/style_transfer/lib/python3.8/site-packages/PIL/Image.py:2911: DecompressionBombWarning: Image size (118118400 pixels) exceeds limit of 89478485 pixels, could be decompression bomb DOS attack.\n",
      "  warnings.warn(\n"
     ]
    },
    {
     "name": "stdout",
     "output_type": "stream",
     "text": [
      "LossGEN: 0.87758, LossRec: 0.39344, loss_G_GAN: 0.80133, loss_G_AC: 0.052066, LossDESCR GAN: 0.034448, tv_loss: 0.024186, LossDESCR Class: 28.157\n"
     ]
    },
    {
     "name": "stderr",
     "output_type": "stream",
     "text": [
      "/home/ubuntu/miniconda3/envs/style_transfer/lib/python3.8/site-packages/PIL/Image.py:2911: DecompressionBombWarning: Image size (157306500 pixels) exceeds limit of 89478485 pixels, could be decompression bomb DOS attack.\n",
      "  warnings.warn(\n",
      "/home/ubuntu/miniconda3/envs/style_transfer/lib/python3.8/site-packages/PIL/Image.py:2911: DecompressionBombWarning: Image size (157338579 pixels) exceeds limit of 89478485 pixels, could be decompression bomb DOS attack.\n",
      "  warnings.warn(\n",
      "/home/ubuntu/miniconda3/envs/style_transfer/lib/python3.8/site-packages/PIL/Image.py:2911: DecompressionBombWarning: Image size (97526884 pixels) exceeds limit of 89478485 pixels, could be decompression bomb DOS attack.\n",
      "  warnings.warn(\n",
      "/home/ubuntu/miniconda3/envs/style_transfer/lib/python3.8/site-packages/PIL/Image.py:2911: DecompressionBombWarning: Image size (117387225 pixels) exceeds limit of 89478485 pixels, could be decompression bomb DOS attack.\n",
      "  warnings.warn(\n"
     ]
    },
    {
     "name": "stdout",
     "output_type": "stream",
     "text": [
      "LossGEN: 0.33677, LossRec: 0.92745, loss_G_GAN: 0.26436, loss_G_AC: 0.037254, LossDESCR GAN: 0.10588, tv_loss: 0.035155, LossDESCR Class: 0.027047\n"
     ]
    },
    {
     "name": "stderr",
     "output_type": "stream",
     "text": [
      "/home/ubuntu/miniconda3/envs/style_transfer/lib/python3.8/site-packages/PIL/Image.py:2911: DecompressionBombWarning: Image size (157306500 pixels) exceeds limit of 89478485 pixels, could be decompression bomb DOS attack.\n",
      "  warnings.warn(\n",
      "/home/ubuntu/miniconda3/envs/style_transfer/lib/python3.8/site-packages/PIL/Image.py:2911: DecompressionBombWarning: Image size (136519704 pixels) exceeds limit of 89478485 pixels, could be decompression bomb DOS attack.\n",
      "  warnings.warn(\n"
     ]
    },
    {
     "name": "stdout",
     "output_type": "stream",
     "text": [
      "LossGEN: 0.52316, LossRec: 0.26475, loss_G_GAN: 0.35624, loss_G_AC: 0.13554, LossDESCR GAN: 0.36117, tv_loss: 0.031382, LossDESCR Class: 0.10932\n"
     ]
    },
    {
     "name": "stderr",
     "output_type": "stream",
     "text": [
      "/home/ubuntu/miniconda3/envs/style_transfer/lib/python3.8/site-packages/PIL/Image.py:2911: DecompressionBombWarning: Image size (156962240 pixels) exceeds limit of 89478485 pixels, could be decompression bomb DOS attack.\n",
      "  warnings.warn(\n",
      "/home/ubuntu/miniconda3/envs/style_transfer/lib/python3.8/site-packages/PIL/Image.py:2911: DecompressionBombWarning: Image size (95742920 pixels) exceeds limit of 89478485 pixels, could be decompression bomb DOS attack.\n",
      "  warnings.warn(\n",
      "/home/ubuntu/miniconda3/envs/style_transfer/lib/python3.8/site-packages/PIL/Image.py:2911: DecompressionBombWarning: Image size (144647592 pixels) exceeds limit of 89478485 pixels, could be decompression bomb DOS attack.\n",
      "  warnings.warn(\n",
      "/home/ubuntu/miniconda3/envs/style_transfer/lib/python3.8/site-packages/PIL/Image.py:2911: DecompressionBombWarning: Image size (127399350 pixels) exceeds limit of 89478485 pixels, could be decompression bomb DOS attack.\n",
      "  warnings.warn(\n",
      "/home/ubuntu/miniconda3/envs/style_transfer/lib/python3.8/site-packages/PIL/Image.py:2911: DecompressionBombWarning: Image size (113652502 pixels) exceeds limit of 89478485 pixels, could be decompression bomb DOS attack.\n",
      "  warnings.warn(\n"
     ]
    },
    {
     "name": "stdout",
     "output_type": "stream",
     "text": [
      "LossGEN: 0.33769, LossRec: 0.40415, loss_G_GAN: 0.21339, loss_G_AC: 0.1091, LossDESCR GAN: 0.23244, tv_loss: 0.015202, LossDESCR Class: 0.21592\n"
     ]
    },
    {
     "name": "stderr",
     "output_type": "stream",
     "text": [
      "/home/ubuntu/miniconda3/envs/style_transfer/lib/python3.8/site-packages/PIL/Image.py:2911: DecompressionBombWarning: Image size (157617366 pixels) exceeds limit of 89478485 pixels, could be decompression bomb DOS attack.\n",
      "  warnings.warn(\n"
     ]
    },
    {
     "name": "stdout",
     "output_type": "stream",
     "text": [
      "LossGEN: 0.54419, LossRec: 0.81111, loss_G_GAN: 0.38118, loss_G_AC: 0.11523, LossDESCR GAN: 0.27003, tv_loss: 0.047785, LossDESCR Class: 0.064904\n"
     ]
    },
    {
     "name": "stderr",
     "output_type": "stream",
     "text": [
      "/home/ubuntu/miniconda3/envs/style_transfer/lib/python3.8/site-packages/PIL/Image.py:2911: DecompressionBombWarning: Image size (157716000 pixels) exceeds limit of 89478485 pixels, could be decompression bomb DOS attack.\n",
      "  warnings.warn(\n",
      "/home/ubuntu/miniconda3/envs/style_transfer/lib/python3.8/site-packages/PIL/Image.py:2911: DecompressionBombWarning: Image size (157275868 pixels) exceeds limit of 89478485 pixels, could be decompression bomb DOS attack.\n",
      "  warnings.warn(\n",
      "/home/ubuntu/miniconda3/envs/style_transfer/lib/python3.8/site-packages/PIL/Image.py:2911: DecompressionBombWarning: Image size (145942116 pixels) exceeds limit of 89478485 pixels, could be decompression bomb DOS attack.\n",
      "  warnings.warn(\n"
     ]
    },
    {
     "name": "stdout",
     "output_type": "stream",
     "text": [
      "LossGEN: 0.98719, LossRec: 0.58931, loss_G_GAN: 0.74763, loss_G_AC: 0.21924, LossDESCR GAN: 0.083422, tv_loss: 0.020314, LossDESCR Class: 1.3411\n"
     ]
    },
    {
     "name": "stderr",
     "output_type": "stream",
     "text": [
      "/home/ubuntu/miniconda3/envs/style_transfer/lib/python3.8/site-packages/PIL/Image.py:2911: DecompressionBombWarning: Image size (144429544 pixels) exceeds limit of 89478485 pixels, could be decompression bomb DOS attack.\n",
      "  warnings.warn(\n",
      "/home/ubuntu/miniconda3/envs/style_transfer/lib/python3.8/site-packages/PIL/Image.py:2911: DecompressionBombWarning: Image size (157209150 pixels) exceeds limit of 89478485 pixels, could be decompression bomb DOS attack.\n",
      "  warnings.warn(\n",
      "/home/ubuntu/miniconda3/envs/style_transfer/lib/python3.8/site-packages/PIL/Image.py:2911: DecompressionBombWarning: Image size (157562825 pixels) exceeds limit of 89478485 pixels, could be decompression bomb DOS attack.\n",
      "  warnings.warn(\n",
      "/home/ubuntu/miniconda3/envs/style_transfer/lib/python3.8/site-packages/PIL/Image.py:2911: DecompressionBombWarning: Image size (92787680 pixels) exceeds limit of 89478485 pixels, could be decompression bomb DOS attack.\n",
      "  warnings.warn(\n"
     ]
    },
    {
     "name": "stdout",
     "output_type": "stream",
     "text": [
      "LossGEN: 0.49982, LossRec: 0.76564, loss_G_GAN: 0.27919, loss_G_AC: 0.20459, LossDESCR GAN: 0.48255, tv_loss: 0.016043, LossDESCR Class: 0.27339\n"
     ]
    },
    {
     "name": "stderr",
     "output_type": "stream",
     "text": [
      "/home/ubuntu/miniconda3/envs/style_transfer/lib/python3.8/site-packages/PIL/Image.py:2911: DecompressionBombWarning: Image size (111990450 pixels) exceeds limit of 89478485 pixels, could be decompression bomb DOS attack.\n",
      "  warnings.warn(\n",
      "/home/ubuntu/miniconda3/envs/style_transfer/lib/python3.8/site-packages/PIL/Image.py:2911: DecompressionBombWarning: Image size (97885788 pixels) exceeds limit of 89478485 pixels, could be decompression bomb DOS attack.\n",
      "  warnings.warn(\n",
      "/home/ubuntu/miniconda3/envs/style_transfer/lib/python3.8/site-packages/PIL/Image.py:2911: DecompressionBombWarning: Image size (156942729 pixels) exceeds limit of 89478485 pixels, could be decompression bomb DOS attack.\n",
      "  warnings.warn(\n",
      "/home/ubuntu/miniconda3/envs/style_transfer/lib/python3.8/site-packages/PIL/Image.py:2911: DecompressionBombWarning: Image size (95922372 pixels) exceeds limit of 89478485 pixels, could be decompression bomb DOS attack.\n",
      "  warnings.warn(\n"
     ]
    },
    {
     "name": "stdout",
     "output_type": "stream",
     "text": [
      "LossGEN: 2.2345, LossRec: 0.29478, loss_G_GAN: 0.55548, loss_G_AC: 1.6551, LossDESCR GAN: 0.20157, tv_loss: 0.02396, LossDESCR Class: 14.881\n"
     ]
    },
    {
     "name": "stderr",
     "output_type": "stream",
     "text": [
      "/home/ubuntu/miniconda3/envs/style_transfer/lib/python3.8/site-packages/PIL/Image.py:2911: DecompressionBombWarning: Image size (157218750 pixels) exceeds limit of 89478485 pixels, could be decompression bomb DOS attack.\n",
      "  warnings.warn(\n",
      "/home/ubuntu/miniconda3/envs/style_transfer/lib/python3.8/site-packages/PIL/Image.py:2911: DecompressionBombWarning: Image size (123085950 pixels) exceeds limit of 89478485 pixels, could be decompression bomb DOS attack.\n",
      "  warnings.warn(\n"
     ]
    },
    {
     "name": "stdout",
     "output_type": "stream",
     "text": [
      "LossGEN: 0.38735, LossRec: 0.80546, loss_G_GAN: 0.34194, loss_G_AC: 0.013181, LossDESCR GAN: 0.34448, tv_loss: 0.03223, LossDESCR Class: 0.008896\n"
     ]
    },
    {
     "name": "stderr",
     "output_type": "stream",
     "text": [
      "/home/ubuntu/miniconda3/envs/style_transfer/lib/python3.8/site-packages/PIL/Image.py:2911: DecompressionBombWarning: Image size (156962240 pixels) exceeds limit of 89478485 pixels, could be decompression bomb DOS attack.\n",
      "  warnings.warn(\n",
      "/home/ubuntu/miniconda3/envs/style_transfer/lib/python3.8/site-packages/PIL/Image.py:2911: DecompressionBombWarning: Image size (91472940 pixels) exceeds limit of 89478485 pixels, could be decompression bomb DOS attack.\n",
      "  warnings.warn(\n"
     ]
    },
    {
     "name": "stdout",
     "output_type": "stream",
     "text": [
      "LossGEN: 0.64831, LossRec: 0.69496, loss_G_GAN: 0.5424, loss_G_AC: 0.086618, LossDESCR GAN: 0.15675, tv_loss: 0.019287, LossDESCR Class: 31.314\n"
     ]
    },
    {
     "name": "stderr",
     "output_type": "stream",
     "text": [
      "/home/ubuntu/miniconda3/envs/style_transfer/lib/python3.8/site-packages/PIL/Image.py:2911: DecompressionBombWarning: Image size (95795700 pixels) exceeds limit of 89478485 pixels, could be decompression bomb DOS attack.\n",
      "  warnings.warn(\n",
      "/home/ubuntu/miniconda3/envs/style_transfer/lib/python3.8/site-packages/PIL/Image.py:2911: DecompressionBombWarning: Image size (111621604 pixels) exceeds limit of 89478485 pixels, could be decompression bomb DOS attack.\n",
      "  warnings.warn(\n",
      "/home/ubuntu/miniconda3/envs/style_transfer/lib/python3.8/site-packages/PIL/Image.py:2911: DecompressionBombWarning: Image size (101704336 pixels) exceeds limit of 89478485 pixels, could be decompression bomb DOS attack.\n",
      "  warnings.warn(\n"
     ]
    },
    {
     "name": "stdout",
     "output_type": "stream",
     "text": [
      "LossGEN: 0.39434, LossRec: 0.4541, loss_G_GAN: 0.34875, loss_G_AC: 0.0091479, LossDESCR GAN: 0.49339, tv_loss: 0.036442, LossDESCR Class: 0.0077977\n"
     ]
    },
    {
     "name": "stderr",
     "output_type": "stream",
     "text": [
      "/home/ubuntu/miniconda3/envs/style_transfer/lib/python3.8/site-packages/PIL/Image.py:2911: DecompressionBombWarning: Image size (98118020 pixels) exceeds limit of 89478485 pixels, could be decompression bomb DOS attack.\n",
      "  warnings.warn(\n",
      "/home/ubuntu/miniconda3/envs/style_transfer/lib/python3.8/site-packages/PIL/Image.py:2911: DecompressionBombWarning: Image size (111674200 pixels) exceeds limit of 89478485 pixels, could be decompression bomb DOS attack.\n",
      "  warnings.warn(\n",
      "/home/ubuntu/miniconda3/envs/style_transfer/lib/python3.8/site-packages/PIL/Image.py:2911: DecompressionBombWarning: Image size (157348938 pixels) exceeds limit of 89478485 pixels, could be decompression bomb DOS attack.\n",
      "  warnings.warn(\n",
      "/home/ubuntu/miniconda3/envs/style_transfer/lib/python3.8/site-packages/PIL/Image.py:2911: DecompressionBombWarning: Image size (97790784 pixels) exceeds limit of 89478485 pixels, could be decompression bomb DOS attack.\n",
      "  warnings.warn(\n",
      "/home/ubuntu/miniconda3/envs/style_transfer/lib/python3.8/site-packages/PIL/Image.py:2911: DecompressionBombWarning: Image size (114755493 pixels) exceeds limit of 89478485 pixels, could be decompression bomb DOS attack.\n",
      "  warnings.warn(\n"
     ]
    },
    {
     "name": "stdout",
     "output_type": "stream",
     "text": [
      "LossGEN: 0.8467, LossRec: 1.3184, loss_G_GAN: 0.73634, loss_G_AC: 0.096787, LossDESCR GAN: 0.058181, tv_loss: 0.013572, LossDESCR Class: 1.934\n"
     ]
    },
    {
     "name": "stderr",
     "output_type": "stream",
     "text": [
      "/home/ubuntu/miniconda3/envs/style_transfer/lib/python3.8/site-packages/PIL/Image.py:2911: DecompressionBombWarning: Image size (99081675 pixels) exceeds limit of 89478485 pixels, could be decompression bomb DOS attack.\n",
      "  warnings.warn(\n",
      "/home/ubuntu/miniconda3/envs/style_transfer/lib/python3.8/site-packages/PIL/Image.py:2911: DecompressionBombWarning: Image size (157132654 pixels) exceeds limit of 89478485 pixels, could be decompression bomb DOS attack.\n",
      "  warnings.warn(\n",
      "/home/ubuntu/miniconda3/envs/style_transfer/lib/python3.8/site-packages/PIL/Image.py:2911: DecompressionBombWarning: Image size (91073994 pixels) exceeds limit of 89478485 pixels, could be decompression bomb DOS attack.\n",
      "  warnings.warn(\n",
      "/home/ubuntu/miniconda3/envs/style_transfer/lib/python3.8/site-packages/PIL/Image.py:2911: DecompressionBombWarning: Image size (116600327 pixels) exceeds limit of 89478485 pixels, could be decompression bomb DOS attack.\n",
      "  warnings.warn(\n",
      "/home/ubuntu/miniconda3/envs/style_transfer/lib/python3.8/site-packages/PIL/Image.py:2911: DecompressionBombWarning: Image size (157014500 pixels) exceeds limit of 89478485 pixels, could be decompression bomb DOS attack.\n",
      "  warnings.warn(\n",
      "/home/ubuntu/miniconda3/envs/style_transfer/lib/python3.8/site-packages/PIL/Image.py:2911: DecompressionBombWarning: Image size (157511790 pixels) exceeds limit of 89478485 pixels, could be decompression bomb DOS attack.\n",
      "  warnings.warn(\n",
      "/home/ubuntu/miniconda3/envs/style_transfer/lib/python3.8/site-packages/PIL/Image.py:2911: DecompressionBombWarning: Image size (156877240 pixels) exceeds limit of 89478485 pixels, could be decompression bomb DOS attack.\n",
      "  warnings.warn(\n",
      "/home/ubuntu/miniconda3/envs/style_transfer/lib/python3.8/site-packages/PIL/Image.py:2911: DecompressionBombWarning: Image size (156930800 pixels) exceeds limit of 89478485 pixels, could be decompression bomb DOS attack.\n",
      "  warnings.warn(\n",
      "/home/ubuntu/miniconda3/envs/style_transfer/lib/python3.8/site-packages/PIL/Image.py:2911: DecompressionBombWarning: Image size (156886163 pixels) exceeds limit of 89478485 pixels, could be decompression bomb DOS attack.\n",
      "  warnings.warn(\n",
      "/home/ubuntu/miniconda3/envs/style_transfer/lib/python3.8/site-packages/PIL/Image.py:2911: DecompressionBombWarning: Image size (97357988 pixels) exceeds limit of 89478485 pixels, could be decompression bomb DOS attack.\n",
      "  warnings.warn(\n",
      "/home/ubuntu/miniconda3/envs/style_transfer/lib/python3.8/site-packages/PIL/Image.py:2911: DecompressionBombWarning: Image size (111621604 pixels) exceeds limit of 89478485 pixels, could be decompression bomb DOS attack.\n",
      "  warnings.warn(\n"
     ]
    },
    {
     "name": "stdout",
     "output_type": "stream",
     "text": [
      "LossGEN: 0.71706, LossRec: 0.88745, loss_G_GAN: 0.38907, loss_G_AC: 0.30713, LossDESCR GAN: 0.23473, tv_loss: 0.02086, LossDESCR Class: 0.41836\n"
     ]
    },
    {
     "name": "stderr",
     "output_type": "stream",
     "text": [
      "/home/ubuntu/miniconda3/envs/style_transfer/lib/python3.8/site-packages/PIL/Image.py:2911: DecompressionBombWarning: Image size (144429544 pixels) exceeds limit of 89478485 pixels, could be decompression bomb DOS attack.\n",
      "  warnings.warn(\n",
      "/home/ubuntu/miniconda3/envs/style_transfer/lib/python3.8/site-packages/PIL/Image.py:2911: DecompressionBombWarning: Image size (157338579 pixels) exceeds limit of 89478485 pixels, could be decompression bomb DOS attack.\n",
      "  warnings.warn(\n"
     ]
    },
    {
     "name": "stdout",
     "output_type": "stream",
     "text": [
      "LossGEN: 0.53257, LossRec: 1.2427, loss_G_GAN: 0.34399, loss_G_AC: 0.14046, LossDESCR GAN: 0.38409, tv_loss: 0.048115, LossDESCR Class: 0.69378\n"
     ]
    },
    {
     "name": "stderr",
     "output_type": "stream",
     "text": [
      "/home/ubuntu/miniconda3/envs/style_transfer/lib/python3.8/site-packages/PIL/Image.py:2911: DecompressionBombWarning: Image size (103106169 pixels) exceeds limit of 89478485 pixels, could be decompression bomb DOS attack.\n",
      "  warnings.warn(\n",
      "/home/ubuntu/miniconda3/envs/style_transfer/lib/python3.8/site-packages/PIL/Image.py:2911: DecompressionBombWarning: Image size (113652502 pixels) exceeds limit of 89478485 pixels, could be decompression bomb DOS attack.\n",
      "  warnings.warn(\n",
      "/home/ubuntu/miniconda3/envs/style_transfer/lib/python3.8/site-packages/PIL/Image.py:2911: DecompressionBombWarning: Image size (157132750 pixels) exceeds limit of 89478485 pixels, could be decompression bomb DOS attack.\n",
      "  warnings.warn(\n",
      "/home/ubuntu/miniconda3/envs/style_transfer/lib/python3.8/site-packages/PIL/Image.py:2911: DecompressionBombWarning: Image size (157252720 pixels) exceeds limit of 89478485 pixels, could be decompression bomb DOS attack.\n",
      "  warnings.warn(\n",
      "/home/ubuntu/miniconda3/envs/style_transfer/lib/python3.8/site-packages/PIL/Image.py:2911: DecompressionBombWarning: Image size (157209150 pixels) exceeds limit of 89478485 pixels, could be decompression bomb DOS attack.\n",
      "  warnings.warn(\n"
     ]
    },
    {
     "name": "stdout",
     "output_type": "stream",
     "text": [
      "LossGEN: 0.31244, LossRec: 0.76438, loss_G_GAN: 0.19481, loss_G_AC: 0.10625, LossDESCR GAN: 0.31549, tv_loss: 0.011382, LossDESCR Class: 0.12254\n"
     ]
    },
    {
     "name": "stderr",
     "output_type": "stream",
     "text": [
      "/home/ubuntu/miniconda3/envs/style_transfer/lib/python3.8/site-packages/PIL/Image.py:2911: DecompressionBombWarning: Image size (157511790 pixels) exceeds limit of 89478485 pixels, could be decompression bomb DOS attack.\n",
      "  warnings.warn(\n",
      "/home/ubuntu/miniconda3/envs/style_transfer/lib/python3.8/site-packages/PIL/Image.py:2911: DecompressionBombWarning: Image size (157252720 pixels) exceeds limit of 89478485 pixels, could be decompression bomb DOS attack.\n",
      "  warnings.warn(\n"
     ]
    },
    {
     "name": "stdout",
     "output_type": "stream",
     "text": [
      "LossGEN: 0.8889, LossRec: 1.3189, loss_G_GAN: 0.69455, loss_G_AC: 0.1859, LossDESCR GAN: 0.3397, tv_loss: 0.0084486, LossDESCR Class: 16.683\n"
     ]
    },
    {
     "name": "stderr",
     "output_type": "stream",
     "text": [
      "/home/ubuntu/miniconda3/envs/style_transfer/lib/python3.8/site-packages/PIL/Image.py:2911: DecompressionBombWarning: Image size (157716000 pixels) exceeds limit of 89478485 pixels, could be decompression bomb DOS attack.\n",
      "  warnings.warn(\n",
      "/home/ubuntu/miniconda3/envs/style_transfer/lib/python3.8/site-packages/PIL/Image.py:2911: DecompressionBombWarning: Image size (101704336 pixels) exceeds limit of 89478485 pixels, could be decompression bomb DOS attack.\n",
      "  warnings.warn(\n",
      "/home/ubuntu/miniconda3/envs/style_transfer/lib/python3.8/site-packages/PIL/Image.py:2911: DecompressionBombWarning: Image size (144647592 pixels) exceeds limit of 89478485 pixels, could be decompression bomb DOS attack.\n",
      "  warnings.warn(\n"
     ]
    },
    {
     "name": "stdout",
     "output_type": "stream",
     "text": [
      "LossGEN: 0.85752, LossRec: 0.95687, loss_G_GAN: 0.42573, loss_G_AC: 0.41039, LossDESCR GAN: 0.18292, tv_loss: 0.021401, LossDESCR Class: 0.96615\n"
     ]
    },
    {
     "name": "stderr",
     "output_type": "stream",
     "text": [
      "/home/ubuntu/miniconda3/envs/style_transfer/lib/python3.8/site-packages/PIL/Image.py:2911: DecompressionBombWarning: Image size (97311236 pixels) exceeds limit of 89478485 pixels, could be decompression bomb DOS attack.\n",
      "  warnings.warn(\n",
      "/home/ubuntu/miniconda3/envs/style_transfer/lib/python3.8/site-packages/PIL/Image.py:2911: DecompressionBombWarning: Image size (129219618 pixels) exceeds limit of 89478485 pixels, could be decompression bomb DOS attack.\n",
      "  warnings.warn(\n",
      "/home/ubuntu/miniconda3/envs/style_transfer/lib/python3.8/site-packages/PIL/Image.py:2911: DecompressionBombWarning: Image size (156930800 pixels) exceeds limit of 89478485 pixels, could be decompression bomb DOS attack.\n",
      "  warnings.warn(\n"
     ]
    },
    {
     "name": "stdout",
     "output_type": "stream",
     "text": [
      "LossGEN: 0.79451, LossRec: 0.74189, loss_G_GAN: 0.5901, loss_G_AC: 0.19284, LossDESCR GAN: 0.076249, tv_loss: 0.011571, LossDESCR Class: 0.053732\n",
      "====================\n",
      "EPOCH 1 (2021-08-17 16:37:08.770899)\n"
     ]
    },
    {
     "name": "stderr",
     "output_type": "stream",
     "text": [
      "/home/ubuntu/miniconda3/envs/style_transfer/lib/python3.8/site-packages/PIL/Image.py:2911: DecompressionBombWarning: Image size (96386836 pixels) exceeds limit of 89478485 pixels, could be decompression bomb DOS attack.\n",
      "  warnings.warn(\n",
      "/home/ubuntu/miniconda3/envs/style_transfer/lib/python3.8/site-packages/PIL/Image.py:2911: DecompressionBombWarning: Image size (89700050 pixels) exceeds limit of 89478485 pixels, could be decompression bomb DOS attack.\n",
      "  warnings.warn(\n"
     ]
    },
    {
     "name": "stdout",
     "output_type": "stream",
     "text": [
      "LossGEN: 0.77591, LossRec: 0.6175, loss_G_GAN: 0.71659, loss_G_AC: 0.044813, LossDESCR GAN: 0.2247, tv_loss: 0.014504, LossDESCR Class: 0.0078385\n"
     ]
    },
    {
     "name": "stderr",
     "output_type": "stream",
     "text": [
      "/home/ubuntu/miniconda3/envs/style_transfer/lib/python3.8/site-packages/PIL/Image.py:2911: DecompressionBombWarning: Image size (97885788 pixels) exceeds limit of 89478485 pixels, could be decompression bomb DOS attack.\n",
      "  warnings.warn(\n",
      "/home/ubuntu/miniconda3/envs/style_transfer/lib/python3.8/site-packages/PIL/Image.py:2911: DecompressionBombWarning: Image size (96059600 pixels) exceeds limit of 89478485 pixels, could be decompression bomb DOS attack.\n",
      "  warnings.warn(\n",
      "/home/ubuntu/miniconda3/envs/style_transfer/lib/python3.8/site-packages/PIL/Image.py:2911: DecompressionBombWarning: Image size (97906900 pixels) exceeds limit of 89478485 pixels, could be decompression bomb DOS attack.\n",
      "  warnings.warn(\n",
      "/home/ubuntu/miniconda3/envs/style_transfer/lib/python3.8/site-packages/PIL/Image.py:2911: DecompressionBombWarning: Image size (145792344 pixels) exceeds limit of 89478485 pixels, could be decompression bomb DOS attack.\n",
      "  warnings.warn(\n",
      "/home/ubuntu/miniconda3/envs/style_transfer/lib/python3.8/site-packages/PIL/Image.py:2911: DecompressionBombWarning: Image size (157308154 pixels) exceeds limit of 89478485 pixels, could be decompression bomb DOS attack.\n",
      "  warnings.warn(\n",
      "/home/ubuntu/miniconda3/envs/style_transfer/lib/python3.8/site-packages/PIL/Image.py:2911: DecompressionBombWarning: Image size (100569200 pixels) exceeds limit of 89478485 pixels, could be decompression bomb DOS attack.\n",
      "  warnings.warn(\n"
     ]
    },
    {
     "name": "stdout",
     "output_type": "stream",
     "text": [
      "LossGEN: 1.0504, LossRec: 0.57839, loss_G_GAN: 0.63549, loss_G_AC: 0.39706, LossDESCR GAN: 0.21371, tv_loss: 0.017829, LossDESCR Class: 0.15161\n"
     ]
    },
    {
     "name": "stderr",
     "output_type": "stream",
     "text": [
      "/home/ubuntu/miniconda3/envs/style_transfer/lib/python3.8/site-packages/PIL/Image.py:2911: DecompressionBombWarning: Image size (112744125 pixels) exceeds limit of 89478485 pixels, could be decompression bomb DOS attack.\n",
      "  warnings.warn(\n",
      "/home/ubuntu/miniconda3/envs/style_transfer/lib/python3.8/site-packages/PIL/Image.py:2911: DecompressionBombWarning: Image size (99339952 pixels) exceeds limit of 89478485 pixels, could be decompression bomb DOS attack.\n",
      "  warnings.warn(\n",
      "/home/ubuntu/miniconda3/envs/style_transfer/lib/python3.8/site-packages/PIL/Image.py:2911: DecompressionBombWarning: Image size (145942116 pixels) exceeds limit of 89478485 pixels, could be decompression bomb DOS attack.\n",
      "  warnings.warn(\n",
      "/home/ubuntu/miniconda3/envs/style_transfer/lib/python3.8/site-packages/PIL/Image.py:2911: DecompressionBombWarning: Image size (97401194 pixels) exceeds limit of 89478485 pixels, could be decompression bomb DOS attack.\n",
      "  warnings.warn(\n",
      "/home/ubuntu/miniconda3/envs/style_transfer/lib/python3.8/site-packages/PIL/Image.py:2911: DecompressionBombWarning: Image size (146175744 pixels) exceeds limit of 89478485 pixels, could be decompression bomb DOS attack.\n",
      "  warnings.warn(\n"
     ]
    },
    {
     "name": "stdout",
     "output_type": "stream",
     "text": [
      "LossGEN: 0.54838, LossRec: 0.7469, loss_G_GAN: 0.46729, loss_G_AC: 0.053561, LossDESCR GAN: 0.16018, tv_loss: 0.027537, LossDESCR Class: 0.069493\n"
     ]
    },
    {
     "name": "stderr",
     "output_type": "stream",
     "text": [
      "/home/ubuntu/miniconda3/envs/style_transfer/lib/python3.8/site-packages/PIL/Image.py:2911: DecompressionBombWarning: Image size (143025860 pixels) exceeds limit of 89478485 pixels, could be decompression bomb DOS attack.\n",
      "  warnings.warn(\n",
      "/home/ubuntu/miniconda3/envs/style_transfer/lib/python3.8/site-packages/PIL/Image.py:2911: DecompressionBombWarning: Image size (96471284 pixels) exceeds limit of 89478485 pixels, could be decompression bomb DOS attack.\n",
      "  warnings.warn(\n",
      "/home/ubuntu/miniconda3/envs/style_transfer/lib/python3.8/site-packages/PIL/Image.py:2911: DecompressionBombWarning: Image size (98209936 pixels) exceeds limit of 89478485 pixels, could be decompression bomb DOS attack.\n",
      "  warnings.warn(\n"
     ]
    },
    {
     "name": "stdout",
     "output_type": "stream",
     "text": [
      "LossGEN: 0.62498, LossRec: 0.72369, loss_G_GAN: 0.52538, loss_G_AC: 0.066604, LossDESCR GAN: 0.10832, tv_loss: 0.032996, LossDESCR Class: 0.015135\n"
     ]
    },
    {
     "name": "stderr",
     "output_type": "stream",
     "text": [
      "/home/ubuntu/miniconda3/envs/style_transfer/lib/python3.8/site-packages/PIL/Image.py:2911: DecompressionBombWarning: Image size (117273600 pixels) exceeds limit of 89478485 pixels, could be decompression bomb DOS attack.\n",
      "  warnings.warn(\n",
      "/home/ubuntu/miniconda3/envs/style_transfer/lib/python3.8/site-packages/PIL/Image.py:2911: DecompressionBombWarning: Image size (157218750 pixels) exceeds limit of 89478485 pixels, could be decompression bomb DOS attack.\n",
      "  warnings.warn(\n",
      "/home/ubuntu/miniconda3/envs/style_transfer/lib/python3.8/site-packages/PIL/Image.py:2911: DecompressionBombWarning: Image size (145942116 pixels) exceeds limit of 89478485 pixels, could be decompression bomb DOS attack.\n",
      "  warnings.warn(\n"
     ]
    },
    {
     "name": "stdout",
     "output_type": "stream",
     "text": [
      "LossGEN: 0.45796, LossRec: 0.8975, loss_G_GAN: 0.34616, loss_G_AC: 0.091788, LossDESCR GAN: 0.25599, tv_loss: 0.020013, LossDESCR Class: 0.17969\n"
     ]
    },
    {
     "name": "stderr",
     "output_type": "stream",
     "text": [
      "/home/ubuntu/miniconda3/envs/style_transfer/lib/python3.8/site-packages/PIL/Image.py:2911: DecompressionBombWarning: Image size (115288915 pixels) exceeds limit of 89478485 pixels, could be decompression bomb DOS attack.\n",
      "  warnings.warn(\n"
     ]
    },
    {
     "name": "stdout",
     "output_type": "stream",
     "text": [
      "LossGEN: 0.69261, LossRec: 0.62443, loss_G_GAN: 0.29246, loss_G_AC: 0.37865, LossDESCR GAN: 0.41132, tv_loss: 0.02151, LossDESCR Class: 0.28431\n"
     ]
    },
    {
     "name": "stderr",
     "output_type": "stream",
     "text": [
      "/home/ubuntu/miniconda3/envs/style_transfer/lib/python3.8/site-packages/PIL/Image.py:2911: DecompressionBombWarning: Image size (97526884 pixels) exceeds limit of 89478485 pixels, could be decompression bomb DOS attack.\n",
      "  warnings.warn(\n",
      "/home/ubuntu/miniconda3/envs/style_transfer/lib/python3.8/site-packages/PIL/Image.py:2911: DecompressionBombWarning: Image size (157209150 pixels) exceeds limit of 89478485 pixels, could be decompression bomb DOS attack.\n",
      "  warnings.warn(\n",
      "/home/ubuntu/miniconda3/envs/style_transfer/lib/python3.8/site-packages/PIL/Image.py:2911: DecompressionBombWarning: Image size (95559567 pixels) exceeds limit of 89478485 pixels, could be decompression bomb DOS attack.\n",
      "  warnings.warn(\n",
      "/home/ubuntu/miniconda3/envs/style_transfer/lib/python3.8/site-packages/PIL/Image.py:2911: DecompressionBombWarning: Image size (110487752 pixels) exceeds limit of 89478485 pixels, could be decompression bomb DOS attack.\n",
      "  warnings.warn(\n",
      "/home/ubuntu/miniconda3/envs/style_transfer/lib/python3.8/site-packages/PIL/Image.py:2911: DecompressionBombWarning: Image size (156886163 pixels) exceeds limit of 89478485 pixels, could be decompression bomb DOS attack.\n",
      "  warnings.warn(\n",
      "/home/ubuntu/miniconda3/envs/style_transfer/lib/python3.8/site-packages/PIL/Image.py:2911: DecompressionBombWarning: Image size (97410768 pixels) exceeds limit of 89478485 pixels, could be decompression bomb DOS attack.\n",
      "  warnings.warn(\n"
     ]
    },
    {
     "name": "stdout",
     "output_type": "stream",
     "text": [
      "LossGEN: 1.0118, LossRec: 1.0156, loss_G_GAN: 0.2474, loss_G_AC: 0.75044, LossDESCR GAN: 0.38163, tv_loss: 0.013981, LossDESCR Class: 0.54093\n"
     ]
    },
    {
     "name": "stderr",
     "output_type": "stream",
     "text": [
      "/home/ubuntu/miniconda3/envs/style_transfer/lib/python3.8/site-packages/PIL/Image.py:2911: DecompressionBombWarning: Image size (156951104 pixels) exceeds limit of 89478485 pixels, could be decompression bomb DOS attack.\n",
      "  warnings.warn(\n",
      "/home/ubuntu/miniconda3/envs/style_transfer/lib/python3.8/site-packages/PIL/Image.py:2911: DecompressionBombWarning: Image size (90960274 pixels) exceeds limit of 89478485 pixels, could be decompression bomb DOS attack.\n",
      "  warnings.warn(\n",
      "/home/ubuntu/miniconda3/envs/style_transfer/lib/python3.8/site-packages/PIL/Image.py:2911: DecompressionBombWarning: Image size (156738726 pixels) exceeds limit of 89478485 pixels, could be decompression bomb DOS attack.\n",
      "  warnings.warn(\n",
      "/home/ubuntu/miniconda3/envs/style_transfer/lib/python3.8/site-packages/PIL/Image.py:2911: DecompressionBombWarning: Image size (97790784 pixels) exceeds limit of 89478485 pixels, could be decompression bomb DOS attack.\n",
      "  warnings.warn(\n",
      "/home/ubuntu/miniconda3/envs/style_transfer/lib/python3.8/site-packages/PIL/Image.py:2911: DecompressionBombWarning: Image size (157359384 pixels) exceeds limit of 89478485 pixels, could be decompression bomb DOS attack.\n",
      "  warnings.warn(\n",
      "/home/ubuntu/miniconda3/envs/style_transfer/lib/python3.8/site-packages/PIL/Image.py:2911: DecompressionBombWarning: Image size (143025860 pixels) exceeds limit of 89478485 pixels, could be decompression bomb DOS attack.\n",
      "  warnings.warn(\n",
      "/home/ubuntu/miniconda3/envs/style_transfer/lib/python3.8/site-packages/PIL/Image.py:2911: DecompressionBombWarning: Image size (111502440 pixels) exceeds limit of 89478485 pixels, could be decompression bomb DOS attack.\n",
      "  warnings.warn(\n",
      "/home/ubuntu/miniconda3/envs/style_transfer/lib/python3.8/site-packages/PIL/Image.py:2911: DecompressionBombWarning: Image size (157423001 pixels) exceeds limit of 89478485 pixels, could be decompression bomb DOS attack.\n",
      "  warnings.warn(\n",
      "/home/ubuntu/miniconda3/envs/style_transfer/lib/python3.8/site-packages/PIL/Image.py:2911: DecompressionBombWarning: Image size (105289982 pixels) exceeds limit of 89478485 pixels, could be decompression bomb DOS attack.\n",
      "  warnings.warn(\n",
      "/home/ubuntu/miniconda3/envs/style_transfer/lib/python3.8/site-packages/PIL/Image.py:2911: DecompressionBombWarning: Image size (111990450 pixels) exceeds limit of 89478485 pixels, could be decompression bomb DOS attack.\n",
      "  warnings.warn(\n"
     ]
    },
    {
     "name": "stdout",
     "output_type": "stream",
     "text": [
      "LossGEN: 0.65958, LossRec: 0.46396, loss_G_GAN: 0.47991, loss_G_AC: 0.16064, LossDESCR GAN: 0.14782, tv_loss: 0.019036, LossDESCR Class: 0.91382\n"
     ]
    },
    {
     "name": "stderr",
     "output_type": "stream",
     "text": [
      "/home/ubuntu/miniconda3/envs/style_transfer/lib/python3.8/site-packages/PIL/Image.py:2911: DecompressionBombWarning: Image size (116600327 pixels) exceeds limit of 89478485 pixels, could be decompression bomb DOS attack.\n",
      "  warnings.warn(\n",
      "/home/ubuntu/miniconda3/envs/style_transfer/lib/python3.8/site-packages/PIL/Image.py:2911: DecompressionBombWarning: Image size (146175744 pixels) exceeds limit of 89478485 pixels, could be decompression bomb DOS attack.\n",
      "  warnings.warn(\n",
      "/home/ubuntu/miniconda3/envs/style_transfer/lib/python3.8/site-packages/PIL/Image.py:2911: DecompressionBombWarning: Image size (157308154 pixels) exceeds limit of 89478485 pixels, could be decompression bomb DOS attack.\n",
      "  warnings.warn(\n",
      "/home/ubuntu/miniconda3/envs/style_transfer/lib/python3.8/site-packages/PIL/Image.py:2911: DecompressionBombWarning: Image size (98188779 pixels) exceeds limit of 89478485 pixels, could be decompression bomb DOS attack.\n",
      "  warnings.warn(\n"
     ]
    },
    {
     "name": "stdout",
     "output_type": "stream",
     "text": [
      "LossGEN: 0.85325, LossRec: 0.87546, loss_G_GAN: 0.71432, loss_G_AC: 0.10861, LossDESCR GAN: 0.071407, tv_loss: 0.030316, LossDESCR Class: 0.03127\n"
     ]
    },
    {
     "name": "stderr",
     "output_type": "stream",
     "text": [
      "/home/ubuntu/miniconda3/envs/style_transfer/lib/python3.8/site-packages/PIL/Image.py:2911: DecompressionBombWarning: Image size (143216652 pixels) exceeds limit of 89478485 pixels, could be decompression bomb DOS attack.\n",
      "  warnings.warn(\n",
      "/home/ubuntu/miniconda3/envs/style_transfer/lib/python3.8/site-packages/PIL/Image.py:2911: DecompressionBombWarning: Image size (97813276 pixels) exceeds limit of 89478485 pixels, could be decompression bomb DOS attack.\n",
      "  warnings.warn(\n",
      "/home/ubuntu/miniconda3/envs/style_transfer/lib/python3.8/site-packages/PIL/Image.py:2911: DecompressionBombWarning: Image size (156951104 pixels) exceeds limit of 89478485 pixels, could be decompression bomb DOS attack.\n",
      "  warnings.warn(\n"
     ]
    },
    {
     "name": "stdout",
     "output_type": "stream",
     "text": [
      "LossGEN: 24.861, LossRec: 1.6881, loss_G_GAN: 0.35304, loss_G_AC: 24.495, LossDESCR GAN: 0.12883, tv_loss: 0.012897, LossDESCR Class: 2.2312\n"
     ]
    },
    {
     "name": "stderr",
     "output_type": "stream",
     "text": [
      "/home/ubuntu/miniconda3/envs/style_transfer/lib/python3.8/site-packages/PIL/Image.py:2911: DecompressionBombWarning: Image size (110671579 pixels) exceeds limit of 89478485 pixels, could be decompression bomb DOS attack.\n",
      "  warnings.warn(\n",
      "/home/ubuntu/miniconda3/envs/style_transfer/lib/python3.8/site-packages/PIL/Image.py:2911: DecompressionBombWarning: Image size (96355168 pixels) exceeds limit of 89478485 pixels, could be decompression bomb DOS attack.\n",
      "  warnings.warn(\n",
      "/home/ubuntu/miniconda3/envs/style_transfer/lib/python3.8/site-packages/PIL/Image.py:2911: DecompressionBombWarning: Image size (140295760 pixels) exceeds limit of 89478485 pixels, could be decompression bomb DOS attack.\n",
      "  warnings.warn(\n",
      "/home/ubuntu/miniconda3/envs/style_transfer/lib/python3.8/site-packages/PIL/Image.py:2911: DecompressionBombWarning: Image size (99339952 pixels) exceeds limit of 89478485 pixels, could be decompression bomb DOS attack.\n",
      "  warnings.warn(\n",
      "/home/ubuntu/miniconda3/envs/style_transfer/lib/python3.8/site-packages/PIL/Image.py:2911: DecompressionBombWarning: Image size (96038488 pixels) exceeds limit of 89478485 pixels, could be decompression bomb DOS attack.\n",
      "  warnings.warn(\n",
      "/home/ubuntu/miniconda3/envs/style_transfer/lib/python3.8/site-packages/PIL/Image.py:2911: DecompressionBombWarning: Image size (157467375 pixels) exceeds limit of 89478485 pixels, could be decompression bomb DOS attack.\n",
      "  warnings.warn(\n",
      "/home/ubuntu/miniconda3/envs/style_transfer/lib/python3.8/site-packages/PIL/Image.py:2911: DecompressionBombWarning: Image size (90278966 pixels) exceeds limit of 89478485 pixels, could be decompression bomb DOS attack.\n",
      "  warnings.warn(\n",
      "/home/ubuntu/miniconda3/envs/style_transfer/lib/python3.8/site-packages/PIL/Image.py:2911: DecompressionBombWarning: Image size (95795700 pixels) exceeds limit of 89478485 pixels, could be decompression bomb DOS attack.\n",
      "  warnings.warn(\n"
     ]
    },
    {
     "name": "stdout",
     "output_type": "stream",
     "text": [
      "LossGEN: 3.1759, LossRec: 0.86244, loss_G_GAN: 0.50371, loss_G_AC: 2.6519, LossDESCR GAN: 0.19944, tv_loss: 0.020241, LossDESCR Class: 14.343\n"
     ]
    },
    {
     "name": "stderr",
     "output_type": "stream",
     "text": [
      "/home/ubuntu/miniconda3/envs/style_transfer/lib/python3.8/site-packages/PIL/Image.py:2911: DecompressionBombWarning: Image size (156886163 pixels) exceeds limit of 89478485 pixels, could be decompression bomb DOS attack.\n",
      "  warnings.warn(\n",
      "/home/ubuntu/miniconda3/envs/style_transfer/lib/python3.8/site-packages/PIL/Image.py:2911: DecompressionBombWarning: Image size (124033116 pixels) exceeds limit of 89478485 pixels, could be decompression bomb DOS attack.\n",
      "  warnings.warn(\n",
      "/home/ubuntu/miniconda3/envs/style_transfer/lib/python3.8/site-packages/PIL/Image.py:2911: DecompressionBombWarning: Image size (145942116 pixels) exceeds limit of 89478485 pixels, could be decompression bomb DOS attack.\n",
      "  warnings.warn(\n",
      "/home/ubuntu/miniconda3/envs/style_transfer/lib/python3.8/site-packages/PIL/Image.py:2911: DecompressionBombWarning: Image size (157498175 pixels) exceeds limit of 89478485 pixels, could be decompression bomb DOS attack.\n",
      "  warnings.warn(\n",
      "/home/ubuntu/miniconda3/envs/style_transfer/lib/python3.8/site-packages/PIL/Image.py:2911: DecompressionBombWarning: Image size (133525947 pixels) exceeds limit of 89478485 pixels, could be decompression bomb DOS attack.\n",
      "  warnings.warn(\n"
     ]
    },
    {
     "name": "stdout",
     "output_type": "stream",
     "text": [
      "LossGEN: 7.1617, LossRec: 0.61763, loss_G_GAN: 0.61851, loss_G_AC: 6.5399, LossDESCR GAN: 0.10257, tv_loss: 0.003287, LossDESCR Class: 0.046803\n"
     ]
    },
    {
     "name": "stderr",
     "output_type": "stream",
     "text": [
      "/home/ubuntu/miniconda3/envs/style_transfer/lib/python3.8/site-packages/PIL/Image.py:2911: DecompressionBombWarning: Image size (97379100 pixels) exceeds limit of 89478485 pixels, could be decompression bomb DOS attack.\n",
      "  warnings.warn(\n",
      "/home/ubuntu/miniconda3/envs/style_transfer/lib/python3.8/site-packages/PIL/Image.py:2911: DecompressionBombWarning: Image size (116971254 pixels) exceeds limit of 89478485 pixels, could be decompression bomb DOS attack.\n",
      "  warnings.warn(\n",
      "/home/ubuntu/miniconda3/envs/style_transfer/lib/python3.8/site-packages/PIL/Image.py:2911: DecompressionBombWarning: Image size (96059600 pixels) exceeds limit of 89478485 pixels, could be decompression bomb DOS attack.\n",
      "  warnings.warn(\n",
      "/home/ubuntu/miniconda3/envs/style_transfer/lib/python3.8/site-packages/PIL/Image.py:2911: DecompressionBombWarning: Image size (111990450 pixels) exceeds limit of 89478485 pixels, could be decompression bomb DOS attack.\n",
      "  warnings.warn(\n"
     ]
    },
    {
     "name": "stdout",
     "output_type": "stream",
     "text": [
      "LossGEN: 1.0206, LossRec: 0.41379, loss_G_GAN: 0.42794, loss_G_AC: 0.5809, LossDESCR GAN: 0.34153, tv_loss: 0.011787, LossDESCR Class: 1.3836\n"
     ]
    },
    {
     "name": "stderr",
     "output_type": "stream",
     "text": [
      "/home/ubuntu/miniconda3/envs/style_transfer/lib/python3.8/site-packages/PIL/Image.py:2911: DecompressionBombWarning: Image size (156953044 pixels) exceeds limit of 89478485 pixels, could be decompression bomb DOS attack.\n",
      "  warnings.warn(\n",
      "/home/ubuntu/miniconda3/envs/style_transfer/lib/python3.8/site-packages/PIL/Image.py:2911: DecompressionBombWarning: Image size (157562825 pixels) exceeds limit of 89478485 pixels, could be decompression bomb DOS attack.\n",
      "  warnings.warn(\n",
      "/home/ubuntu/miniconda3/envs/style_transfer/lib/python3.8/site-packages/PIL/Image.py:2911: DecompressionBombWarning: Image size (106900768 pixels) exceeds limit of 89478485 pixels, could be decompression bomb DOS attack.\n",
      "  warnings.warn(\n",
      "/home/ubuntu/miniconda3/envs/style_transfer/lib/python3.8/site-packages/PIL/Image.py:2911: DecompressionBombWarning: Image size (157348938 pixels) exceeds limit of 89478485 pixels, could be decompression bomb DOS attack.\n",
      "  warnings.warn(\n",
      "/home/ubuntu/miniconda3/envs/style_transfer/lib/python3.8/site-packages/PIL/Image.py:2911: DecompressionBombWarning: Image size (108263924 pixels) exceeds limit of 89478485 pixels, could be decompression bomb DOS attack.\n",
      "  warnings.warn(\n",
      "/home/ubuntu/miniconda3/envs/style_transfer/lib/python3.8/site-packages/PIL/Image.py:2911: DecompressionBombWarning: Image size (157218750 pixels) exceeds limit of 89478485 pixels, could be decompression bomb DOS attack.\n",
      "  warnings.warn(\n"
     ]
    },
    {
     "name": "stdout",
     "output_type": "stream",
     "text": [
      "LossGEN: 0.79389, LossRec: 0.67767, loss_G_GAN: 0.67828, loss_G_AC: 0.10293, LossDESCR GAN: 0.10263, tv_loss: 0.012683, LossDESCR Class: 1.7955\n"
     ]
    },
    {
     "name": "stderr",
     "output_type": "stream",
     "text": [
      "/home/ubuntu/miniconda3/envs/style_transfer/lib/python3.8/site-packages/PIL/Image.py:2911: DecompressionBombWarning: Image size (110671579 pixels) exceeds limit of 89478485 pixels, could be decompression bomb DOS attack.\n",
      "  warnings.warn(\n"
     ]
    },
    {
     "name": "stdout",
     "output_type": "stream",
     "text": [
      "LossGEN: 0.70459, LossRec: 0.63204, loss_G_GAN: 0.60337, loss_G_AC: 0.085991, LossDESCR GAN: 0.060204, tv_loss: 0.015229, LossDESCR Class: 14.632\n"
     ]
    },
    {
     "name": "stderr",
     "output_type": "stream",
     "text": [
      "/home/ubuntu/miniconda3/envs/style_transfer/lib/python3.8/site-packages/PIL/Image.py:2911: DecompressionBombWarning: Image size (157295103 pixels) exceeds limit of 89478485 pixels, could be decompression bomb DOS attack.\n",
      "  warnings.warn(\n",
      "/home/ubuntu/miniconda3/envs/style_transfer/lib/python3.8/site-packages/PIL/Image.py:2911: DecompressionBombWarning: Image size (142891647 pixels) exceeds limit of 89478485 pixels, could be decompression bomb DOS attack.\n",
      "  warnings.warn(\n",
      "/home/ubuntu/miniconda3/envs/style_transfer/lib/python3.8/site-packages/PIL/Image.py:2911: DecompressionBombWarning: Image size (143025860 pixels) exceeds limit of 89478485 pixels, could be decompression bomb DOS attack.\n",
      "  warnings.warn(\n"
     ]
    },
    {
     "name": "stdout",
     "output_type": "stream",
     "text": [
      "LossGEN: 1.36, LossRec: 0.39507, loss_G_GAN: 1.0379, loss_G_AC: 0.29989, LossDESCR GAN: 0.036971, tv_loss: 0.022277, LossDESCR Class: 0.024966\n"
     ]
    },
    {
     "name": "stderr",
     "output_type": "stream",
     "text": [
      "/home/ubuntu/miniconda3/envs/style_transfer/lib/python3.8/site-packages/PIL/Image.py:2911: DecompressionBombWarning: Image size (144647592 pixels) exceeds limit of 89478485 pixels, could be decompression bomb DOS attack.\n",
      "  warnings.warn(\n",
      "/home/ubuntu/miniconda3/envs/style_transfer/lib/python3.8/site-packages/PIL/Image.py:2911: DecompressionBombWarning: Image size (96357604 pixels) exceeds limit of 89478485 pixels, could be decompression bomb DOS attack.\n",
      "  warnings.warn(\n",
      "/home/ubuntu/miniconda3/envs/style_transfer/lib/python3.8/site-packages/PIL/Image.py:2911: DecompressionBombWarning: Image size (99313084 pixels) exceeds limit of 89478485 pixels, could be decompression bomb DOS attack.\n",
      "  warnings.warn(\n",
      "/home/ubuntu/miniconda3/envs/style_transfer/lib/python3.8/site-packages/PIL/Image.py:2911: DecompressionBombWarning: Image size (99313084 pixels) exceeds limit of 89478485 pixels, could be decompression bomb DOS attack.\n",
      "  warnings.warn(\n"
     ]
    },
    {
     "name": "stdout",
     "output_type": "stream",
     "text": [
      "LossGEN: 1.4045, LossRec: 0.42048, loss_G_GAN: 0.88472, loss_G_AC: 0.50389, LossDESCR GAN: 0.046032, tv_loss: 0.015845, LossDESCR Class: 0.047562\n"
     ]
    },
    {
     "name": "stderr",
     "output_type": "stream",
     "text": [
      "/home/ubuntu/miniconda3/envs/style_transfer/lib/python3.8/site-packages/PIL/Image.py:2911: DecompressionBombWarning: Image size (112703077 pixels) exceeds limit of 89478485 pixels, could be decompression bomb DOS attack.\n",
      "  warnings.warn(\n",
      "/home/ubuntu/miniconda3/envs/style_transfer/lib/python3.8/site-packages/PIL/Image.py:2911: DecompressionBombWarning: Image size (96587400 pixels) exceeds limit of 89478485 pixels, could be decompression bomb DOS attack.\n",
      "  warnings.warn(\n",
      "/home/ubuntu/miniconda3/envs/style_transfer/lib/python3.8/site-packages/PIL/Image.py:2911: DecompressionBombWarning: Image size (98209936 pixels) exceeds limit of 89478485 pixels, could be decompression bomb DOS attack.\n",
      "  warnings.warn(\n",
      "/home/ubuntu/miniconda3/envs/style_transfer/lib/python3.8/site-packages/PIL/Image.py:2911: DecompressionBombWarning: Image size (157511790 pixels) exceeds limit of 89478485 pixels, could be decompression bomb DOS attack.\n",
      "  warnings.warn(\n"
     ]
    },
    {
     "name": "stdout",
     "output_type": "stream",
     "text": [
      "LossGEN: 0.64604, LossRec: 0.51746, loss_G_GAN: 0.58912, loss_G_AC: 0.036883, LossDESCR GAN: 0.20558, tv_loss: 0.020042, LossDESCR Class: 0.016516\n"
     ]
    },
    {
     "name": "stderr",
     "output_type": "stream",
     "text": [
      "/home/ubuntu/miniconda3/envs/style_transfer/lib/python3.8/site-packages/PIL/Image.py:2911: DecompressionBombWarning: Image size (157652082 pixels) exceeds limit of 89478485 pixels, could be decompression bomb DOS attack.\n",
      "  warnings.warn(\n",
      "/home/ubuntu/miniconda3/envs/style_transfer/lib/python3.8/site-packages/PIL/Image.py:2911: DecompressionBombWarning: Image size (145792344 pixels) exceeds limit of 89478485 pixels, could be decompression bomb DOS attack.\n",
      "  warnings.warn(\n",
      "/home/ubuntu/miniconda3/envs/style_transfer/lib/python3.8/site-packages/PIL/Image.py:2911: DecompressionBombWarning: Image size (101729100 pixels) exceeds limit of 89478485 pixels, could be decompression bomb DOS attack.\n",
      "  warnings.warn(\n",
      "/home/ubuntu/miniconda3/envs/style_transfer/lib/python3.8/site-packages/PIL/Image.py:2911: DecompressionBombWarning: Image size (145328992 pixels) exceeds limit of 89478485 pixels, could be decompression bomb DOS attack.\n",
      "  warnings.warn(\n",
      "/home/ubuntu/miniconda3/envs/style_transfer/lib/python3.8/site-packages/PIL/Image.py:2911: DecompressionBombWarning: Image size (99947947 pixels) exceeds limit of 89478485 pixels, could be decompression bomb DOS attack.\n",
      "  warnings.warn(\n",
      "/home/ubuntu/miniconda3/envs/style_transfer/lib/python3.8/site-packages/PIL/Image.py:2911: DecompressionBombWarning: Image size (157660584 pixels) exceeds limit of 89478485 pixels, could be decompression bomb DOS attack.\n",
      "  warnings.warn(\n"
     ]
    },
    {
     "name": "stdout",
     "output_type": "stream",
     "text": [
      "LossGEN: 0.80214, LossRec: 0.86369, loss_G_GAN: 0.76871, loss_G_AC: 0.016069, LossDESCR GAN: 0.087816, tv_loss: 0.017362, LossDESCR Class: 11.328\n"
     ]
    },
    {
     "name": "stderr",
     "output_type": "stream",
     "text": [
      "/home/ubuntu/miniconda3/envs/style_transfer/lib/python3.8/site-packages/PIL/Image.py:2911: DecompressionBombWarning: Image size (99339952 pixels) exceeds limit of 89478485 pixels, could be decompression bomb DOS attack.\n",
      "  warnings.warn(\n",
      "/home/ubuntu/miniconda3/envs/style_transfer/lib/python3.8/site-packages/PIL/Image.py:2911: DecompressionBombWarning: Image size (95774588 pixels) exceeds limit of 89478485 pixels, could be decompression bomb DOS attack.\n",
      "  warnings.warn(\n",
      "/home/ubuntu/miniconda3/envs/style_transfer/lib/python3.8/site-packages/PIL/Image.py:2911: DecompressionBombWarning: Image size (97906900 pixels) exceeds limit of 89478485 pixels, could be decompression bomb DOS attack.\n",
      "  warnings.warn(\n",
      "/home/ubuntu/miniconda3/envs/style_transfer/lib/python3.8/site-packages/PIL/Image.py:2911: DecompressionBombWarning: Image size (111502440 pixels) exceeds limit of 89478485 pixels, could be decompression bomb DOS attack.\n",
      "  warnings.warn(\n",
      "/home/ubuntu/miniconda3/envs/style_transfer/lib/python3.8/site-packages/PIL/Image.py:2911: DecompressionBombWarning: Image size (157024384 pixels) exceeds limit of 89478485 pixels, could be decompression bomb DOS attack.\n",
      "  warnings.warn(\n"
     ]
    },
    {
     "name": "stdout",
     "output_type": "stream",
     "text": [
      "LossGEN: 0.85789, LossRec: 1.4682, loss_G_GAN: 0.73121, loss_G_AC: 0.10959, LossDESCR GAN: 0.14751, tv_loss: 0.01709, LossDESCR Class: 0.43249\n"
     ]
    },
    {
     "name": "stderr",
     "output_type": "stream",
     "text": [
      "/home/ubuntu/miniconda3/envs/style_transfer/lib/python3.8/site-packages/PIL/Image.py:2911: DecompressionBombWarning: Image size (117366470 pixels) exceeds limit of 89478485 pixels, could be decompression bomb DOS attack.\n",
      "  warnings.warn(\n",
      "/home/ubuntu/miniconda3/envs/style_transfer/lib/python3.8/site-packages/PIL/Image.py:2911: DecompressionBombWarning: Image size (118201452 pixels) exceeds limit of 89478485 pixels, could be decompression bomb DOS attack.\n",
      "  warnings.warn(\n",
      "/home/ubuntu/miniconda3/envs/style_transfer/lib/python3.8/site-packages/PIL/Image.py:2911: DecompressionBombWarning: Image size (95922372 pixels) exceeds limit of 89478485 pixels, could be decompression bomb DOS attack.\n",
      "  warnings.warn(\n",
      "/home/ubuntu/miniconda3/envs/style_transfer/lib/python3.8/site-packages/PIL/Image.py:2911: DecompressionBombWarning: Image size (96471284 pixels) exceeds limit of 89478485 pixels, could be decompression bomb DOS attack.\n",
      "  warnings.warn(\n"
     ]
    },
    {
     "name": "stdout",
     "output_type": "stream",
     "text": [
      "LossGEN: 0.70302, LossRec: 0.83786, loss_G_GAN: 0.46902, loss_G_AC: 0.22364, LossDESCR GAN: 0.2688, tv_loss: 0.010366, LossDESCR Class: 0.33143\n"
     ]
    },
    {
     "name": "stderr",
     "output_type": "stream",
     "text": [
      "/home/ubuntu/miniconda3/envs/style_transfer/lib/python3.8/site-packages/PIL/Image.py:2911: DecompressionBombWarning: Image size (157555125 pixels) exceeds limit of 89478485 pixels, could be decompression bomb DOS attack.\n",
      "  warnings.warn(\n",
      "/home/ubuntu/miniconda3/envs/style_transfer/lib/python3.8/site-packages/PIL/Image.py:2911: DecompressionBombWarning: Image size (157617366 pixels) exceeds limit of 89478485 pixels, could be decompression bomb DOS attack.\n",
      "  warnings.warn(\n",
      "/home/ubuntu/miniconda3/envs/style_transfer/lib/python3.8/site-packages/PIL/Image.py:2911: DecompressionBombWarning: Image size (101777775 pixels) exceeds limit of 89478485 pixels, could be decompression bomb DOS attack.\n",
      "  warnings.warn(\n",
      "/home/ubuntu/miniconda3/envs/style_transfer/lib/python3.8/site-packages/PIL/Image.py:2911: DecompressionBombWarning: Image size (157132654 pixels) exceeds limit of 89478485 pixels, could be decompression bomb DOS attack.\n",
      "  warnings.warn(\n",
      "/home/ubuntu/miniconda3/envs/style_transfer/lib/python3.8/site-packages/PIL/Image.py:2911: DecompressionBombWarning: Image size (96948700 pixels) exceeds limit of 89478485 pixels, could be decompression bomb DOS attack.\n",
      "  warnings.warn(\n"
     ]
    },
    {
     "name": "stdout",
     "output_type": "stream",
     "text": [
      "LossGEN: 0.30752, LossRec: 0.70373, loss_G_GAN: 0.16887, loss_G_AC: 0.11322, LossDESCR GAN: 0.099518, tv_loss: 0.025424, LossDESCR Class: 0.07757\n"
     ]
    },
    {
     "name": "stderr",
     "output_type": "stream",
     "text": [
      "/home/ubuntu/miniconda3/envs/style_transfer/lib/python3.8/site-packages/PIL/Image.py:2911: DecompressionBombWarning: Image size (157293936 pixels) exceeds limit of 89478485 pixels, could be decompression bomb DOS attack.\n",
      "  warnings.warn(\n",
      "/home/ubuntu/miniconda3/envs/style_transfer/lib/python3.8/site-packages/PIL/Image.py:2911: DecompressionBombWarning: Image size (96059600 pixels) exceeds limit of 89478485 pixels, could be decompression bomb DOS attack.\n",
      "  warnings.warn(\n"
     ]
    },
    {
     "name": "stdout",
     "output_type": "stream",
     "text": [
      "LossGEN: 0.77181, LossRec: 0.66792, loss_G_GAN: 0.4484, loss_G_AC: 0.3034, LossDESCR GAN: 0.28605, tv_loss: 0.020013, LossDESCR Class: 0.96026\n"
     ]
    },
    {
     "name": "stderr",
     "output_type": "stream",
     "text": [
      "/home/ubuntu/miniconda3/envs/style_transfer/lib/python3.8/site-packages/PIL/Image.py:2911: DecompressionBombWarning: Image size (118201452 pixels) exceeds limit of 89478485 pixels, could be decompression bomb DOS attack.\n",
      "  warnings.warn(\n",
      "/home/ubuntu/miniconda3/envs/style_transfer/lib/python3.8/site-packages/PIL/Image.py:2911: DecompressionBombWarning: Image size (140150600 pixels) exceeds limit of 89478485 pixels, could be decompression bomb DOS attack.\n",
      "  warnings.warn(\n",
      "/home/ubuntu/miniconda3/envs/style_transfer/lib/python3.8/site-packages/PIL/Image.py:2911: DecompressionBombWarning: Image size (115980858 pixels) exceeds limit of 89478485 pixels, could be decompression bomb DOS attack.\n",
      "  warnings.warn(\n",
      "/home/ubuntu/miniconda3/envs/style_transfer/lib/python3.8/site-packages/PIL/Image.py:2911: DecompressionBombWarning: Image size (118118400 pixels) exceeds limit of 89478485 pixels, could be decompression bomb DOS attack.\n",
      "  warnings.warn(\n",
      "/home/ubuntu/miniconda3/envs/style_transfer/lib/python3.8/site-packages/PIL/Image.py:2911: DecompressionBombWarning: Image size (157099800 pixels) exceeds limit of 89478485 pixels, could be decompression bomb DOS attack.\n",
      "  warnings.warn(\n",
      "/home/ubuntu/miniconda3/envs/style_transfer/lib/python3.8/site-packages/PIL/Image.py:2911: DecompressionBombWarning: Image size (96186272 pixels) exceeds limit of 89478485 pixels, could be decompression bomb DOS attack.\n",
      "  warnings.warn(\n",
      "/home/ubuntu/miniconda3/envs/style_transfer/lib/python3.8/site-packages/PIL/Image.py:2911: DecompressionBombWarning: Image size (111698301 pixels) exceeds limit of 89478485 pixels, could be decompression bomb DOS attack.\n",
      "  warnings.warn(\n"
     ]
    },
    {
     "name": "stdout",
     "output_type": "stream",
     "text": [
      "LossGEN: 0.83274, LossRec: 2.0331, loss_G_GAN: 0.71875, loss_G_AC: 0.068691, LossDESCR GAN: 0.16371, tv_loss: 0.045295, LossDESCR Class: 22.122\n"
     ]
    },
    {
     "name": "stderr",
     "output_type": "stream",
     "text": [
      "/home/ubuntu/miniconda3/envs/style_transfer/lib/python3.8/site-packages/PIL/Image.py:2911: DecompressionBombWarning: Image size (157541130 pixels) exceeds limit of 89478485 pixels, could be decompression bomb DOS attack.\n",
      "  warnings.warn(\n",
      "/home/ubuntu/miniconda3/envs/style_transfer/lib/python3.8/site-packages/PIL/Image.py:2911: DecompressionBombWarning: Image size (97790784 pixels) exceeds limit of 89478485 pixels, could be decompression bomb DOS attack.\n",
      "  warnings.warn(\n",
      "/home/ubuntu/miniconda3/envs/style_transfer/lib/python3.8/site-packages/PIL/Image.py:2911: DecompressionBombWarning: Image size (157467375 pixels) exceeds limit of 89478485 pixels, could be decompression bomb DOS attack.\n",
      "  warnings.warn(\n",
      "/home/ubuntu/miniconda3/envs/style_transfer/lib/python3.8/site-packages/PIL/Image.py:2911: DecompressionBombWarning: Image size (157499676 pixels) exceeds limit of 89478485 pixels, could be decompression bomb DOS attack.\n",
      "  warnings.warn(\n",
      "/home/ubuntu/miniconda3/envs/style_transfer/lib/python3.8/site-packages/PIL/Image.py:2911: DecompressionBombWarning: Image size (103719288 pixels) exceeds limit of 89478485 pixels, could be decompression bomb DOS attack.\n",
      "  warnings.warn(\n",
      "/home/ubuntu/miniconda3/envs/style_transfer/lib/python3.8/site-packages/PIL/Image.py:2911: DecompressionBombWarning: Image size (97311236 pixels) exceeds limit of 89478485 pixels, could be decompression bomb DOS attack.\n",
      "  warnings.warn(\n"
     ]
    },
    {
     "name": "stdout",
     "output_type": "stream",
     "text": [
      "LossGEN: 0.51266, LossRec: 0.25718, loss_G_GAN: 0.469, loss_G_AC: 0.010761, LossDESCR GAN: 0.075303, tv_loss: 0.0329, LossDESCR Class: 0.010291\n"
     ]
    },
    {
     "name": "stderr",
     "output_type": "stream",
     "text": [
      "/home/ubuntu/miniconda3/envs/style_transfer/lib/python3.8/site-packages/PIL/Image.py:2911: DecompressionBombWarning: Image size (157209150 pixels) exceeds limit of 89478485 pixels, could be decompression bomb DOS attack.\n",
      "  warnings.warn(\n",
      "/home/ubuntu/miniconda3/envs/style_transfer/lib/python3.8/site-packages/PIL/Image.py:2911: DecompressionBombWarning: Image size (144647592 pixels) exceeds limit of 89478485 pixels, could be decompression bomb DOS attack.\n",
      "  warnings.warn(\n",
      "/home/ubuntu/miniconda3/envs/style_transfer/lib/python3.8/site-packages/PIL/Image.py:2911: DecompressionBombWarning: Image size (157541130 pixels) exceeds limit of 89478485 pixels, could be decompression bomb DOS attack.\n",
      "  warnings.warn(\n",
      "/home/ubuntu/miniconda3/envs/style_transfer/lib/python3.8/site-packages/PIL/Image.py:2911: DecompressionBombWarning: Image size (92636922 pixels) exceeds limit of 89478485 pixels, could be decompression bomb DOS attack.\n",
      "  warnings.warn(\n"
     ]
    },
    {
     "name": "stdout",
     "output_type": "stream",
     "text": [
      "LossGEN: 0.65211, LossRec: 0.54791, loss_G_GAN: 0.40718, loss_G_AC: 0.22019, LossDESCR GAN: 0.086057, tv_loss: 0.024741, LossDESCR Class: 0.76919\n"
     ]
    },
    {
     "name": "stderr",
     "output_type": "stream",
     "text": [
      "/home/ubuntu/miniconda3/envs/style_transfer/lib/python3.8/site-packages/PIL/Image.py:2911: DecompressionBombWarning: Image size (102083333 pixels) exceeds limit of 89478485 pixels, could be decompression bomb DOS attack.\n",
      "  warnings.warn(\n",
      "/home/ubuntu/miniconda3/envs/style_transfer/lib/python3.8/site-packages/PIL/Image.py:2911: DecompressionBombWarning: Image size (144347776 pixels) exceeds limit of 89478485 pixels, could be decompression bomb DOS attack.\n",
      "  warnings.warn(\n"
     ]
    },
    {
     "name": "stdout",
     "output_type": "stream",
     "text": [
      "LossGEN: 0.50955, LossRec: 0.41283, loss_G_GAN: 0.44167, loss_G_AC: 0.041358, LossDESCR GAN: 0.30302, tv_loss: 0.026531, LossDESCR Class: 0.70069\n"
     ]
    },
    {
     "name": "stderr",
     "output_type": "stream",
     "text": [
      "/home/ubuntu/miniconda3/envs/style_transfer/lib/python3.8/site-packages/PIL/Image.py:2911: DecompressionBombWarning: Image size (96355168 pixels) exceeds limit of 89478485 pixels, could be decompression bomb DOS attack.\n",
      "  warnings.warn(\n",
      "/home/ubuntu/miniconda3/envs/style_transfer/lib/python3.8/site-packages/PIL/Image.py:2911: DecompressionBombWarning: Image size (157393683 pixels) exceeds limit of 89478485 pixels, could be decompression bomb DOS attack.\n",
      "  warnings.warn(\n"
     ]
    },
    {
     "name": "stdout",
     "output_type": "stream",
     "text": [
      "LossGEN: 0.36774, LossRec: 1.2699, loss_G_GAN: 0.28256, loss_G_AC: 0.053263, LossDESCR GAN: 0.13857, tv_loss: 0.031908, LossDESCR Class: 0.040967\n"
     ]
    },
    {
     "name": "stderr",
     "output_type": "stream",
     "text": [
      "/home/ubuntu/miniconda3/envs/style_transfer/lib/python3.8/site-packages/PIL/Image.py:2911: DecompressionBombWarning: Image size (102304388 pixels) exceeds limit of 89478485 pixels, could be decompression bomb DOS attack.\n",
      "  warnings.warn(\n",
      "/home/ubuntu/miniconda3/envs/style_transfer/lib/python3.8/site-packages/PIL/Image.py:2911: DecompressionBombWarning: Image size (115288915 pixels) exceeds limit of 89478485 pixels, could be decompression bomb DOS attack.\n",
      "  warnings.warn(\n",
      "/home/ubuntu/miniconda3/envs/style_transfer/lib/python3.8/site-packages/PIL/Image.py:2911: DecompressionBombWarning: Image size (97410768 pixels) exceeds limit of 89478485 pixels, could be decompression bomb DOS attack.\n",
      "  warnings.warn(\n"
     ]
    },
    {
     "name": "stdout",
     "output_type": "stream",
     "text": [
      "LossGEN: 3.204, LossRec: 1.0674, loss_G_GAN: 1.0008, loss_G_AC: 2.1834, LossDESCR GAN: 0.10822, tv_loss: 0.019713, LossDESCR Class: 0.035986\n"
     ]
    },
    {
     "name": "stderr",
     "output_type": "stream",
     "text": [
      "/home/ubuntu/miniconda3/envs/style_transfer/lib/python3.8/site-packages/PIL/Image.py:2911: DecompressionBombWarning: Image size (157306500 pixels) exceeds limit of 89478485 pixels, could be decompression bomb DOS attack.\n",
      "  warnings.warn(\n",
      "/home/ubuntu/miniconda3/envs/style_transfer/lib/python3.8/site-packages/PIL/Image.py:2911: DecompressionBombWarning: Image size (110331104 pixels) exceeds limit of 89478485 pixels, could be decompression bomb DOS attack.\n",
      "  warnings.warn(\n",
      "/home/ubuntu/miniconda3/envs/style_transfer/lib/python3.8/site-packages/PIL/Image.py:2911: DecompressionBombWarning: Image size (143025860 pixels) exceeds limit of 89478485 pixels, could be decompression bomb DOS attack.\n",
      "  warnings.warn(\n",
      "/home/ubuntu/miniconda3/envs/style_transfer/lib/python3.8/site-packages/PIL/Image.py:2911: DecompressionBombWarning: Image size (157275868 pixels) exceeds limit of 89478485 pixels, could be decompression bomb DOS attack.\n",
      "  warnings.warn(\n",
      "/home/ubuntu/miniconda3/envs/style_transfer/lib/python3.8/site-packages/PIL/Image.py:2911: DecompressionBombWarning: Image size (107292042 pixels) exceeds limit of 89478485 pixels, could be decompression bomb DOS attack.\n",
      "  warnings.warn(\n"
     ]
    },
    {
     "name": "stdout",
     "output_type": "stream",
     "text": [
      "LossGEN: 0.96165, LossRec: 0.63697, loss_G_GAN: 0.66079, loss_G_AC: 0.26222, LossDESCR GAN: 0.058179, tv_loss: 0.038638, LossDESCR Class: 32.307\n"
     ]
    },
    {
     "name": "stderr",
     "output_type": "stream",
     "text": [
      "/home/ubuntu/miniconda3/envs/style_transfer/lib/python3.8/site-packages/PIL/Image.py:2911: DecompressionBombWarning: Image size (157596579 pixels) exceeds limit of 89478485 pixels, could be decompression bomb DOS attack.\n",
      "  warnings.warn(\n",
      "/home/ubuntu/miniconda3/envs/style_transfer/lib/python3.8/site-packages/PIL/Image.py:2911: DecompressionBombWarning: Image size (102304388 pixels) exceeds limit of 89478485 pixels, could be decompression bomb DOS attack.\n",
      "  warnings.warn(\n",
      "/home/ubuntu/miniconda3/envs/style_transfer/lib/python3.8/site-packages/PIL/Image.py:2911: DecompressionBombWarning: Image size (117273600 pixels) exceeds limit of 89478485 pixels, could be decompression bomb DOS attack.\n",
      "  warnings.warn(\n"
     ]
    },
    {
     "name": "stdout",
     "output_type": "stream",
     "text": [
      "LossGEN: 1.4919, LossRec: 0.72974, loss_G_GAN: 0.77663, loss_G_AC: 0.6904, LossDESCR GAN: 0.024361, tv_loss: 0.024832, LossDESCR Class: 0.04137\n"
     ]
    },
    {
     "name": "stderr",
     "output_type": "stream",
     "text": [
      "/home/ubuntu/miniconda3/envs/style_transfer/lib/python3.8/site-packages/PIL/Image.py:2911: DecompressionBombWarning: Image size (157552000 pixels) exceeds limit of 89478485 pixels, could be decompression bomb DOS attack.\n",
      "  warnings.warn(\n",
      "/home/ubuntu/miniconda3/envs/style_transfer/lib/python3.8/site-packages/PIL/Image.py:2911: DecompressionBombWarning: Image size (131812458 pixels) exceeds limit of 89478485 pixels, could be decompression bomb DOS attack.\n",
      "  warnings.warn(\n"
     ]
    },
    {
     "name": "stdout",
     "output_type": "stream",
     "text": [
      "LossGEN: 0.93378, LossRec: 0.6751, loss_G_GAN: 0.74625, loss_G_AC: 0.17326, LossDESCR GAN: 0.055505, tv_loss: 0.014272, LossDESCR Class: 6.2512\n"
     ]
    },
    {
     "name": "stderr",
     "output_type": "stream",
     "text": [
      "/home/ubuntu/miniconda3/envs/style_transfer/lib/python3.8/site-packages/PIL/Image.py:2911: DecompressionBombWarning: Image size (110554290 pixels) exceeds limit of 89478485 pixels, could be decompression bomb DOS attack.\n",
      "  warnings.warn(\n",
      "/home/ubuntu/miniconda3/envs/style_transfer/lib/python3.8/site-packages/PIL/Image.py:2911: DecompressionBombWarning: Image size (157467375 pixels) exceeds limit of 89478485 pixels, could be decompression bomb DOS attack.\n",
      "  warnings.warn(\n",
      "/home/ubuntu/miniconda3/envs/style_transfer/lib/python3.8/site-packages/PIL/Image.py:2911: DecompressionBombWarning: Image size (145942116 pixels) exceeds limit of 89478485 pixels, could be decompression bomb DOS attack.\n",
      "  warnings.warn(\n",
      "/home/ubuntu/miniconda3/envs/style_transfer/lib/python3.8/site-packages/PIL/Image.py:2911: DecompressionBombWarning: Image size (136108605 pixels) exceeds limit of 89478485 pixels, could be decompression bomb DOS attack.\n",
      "  warnings.warn(\n",
      "/home/ubuntu/miniconda3/envs/style_transfer/lib/python3.8/site-packages/PIL/Image.py:2911: DecompressionBombWarning: Image size (109902976 pixels) exceeds limit of 89478485 pixels, could be decompression bomb DOS attack.\n",
      "  warnings.warn(\n",
      "/home/ubuntu/miniconda3/envs/style_transfer/lib/python3.8/site-packages/PIL/Image.py:2911: DecompressionBombWarning: Image size (157499676 pixels) exceeds limit of 89478485 pixels, could be decompression bomb DOS attack.\n",
      "  warnings.warn(\n",
      "/home/ubuntu/miniconda3/envs/style_transfer/lib/python3.8/site-packages/PIL/Image.py:2911: DecompressionBombWarning: Image size (157308154 pixels) exceeds limit of 89478485 pixels, could be decompression bomb DOS attack.\n",
      "  warnings.warn(\n",
      "/home/ubuntu/miniconda3/envs/style_transfer/lib/python3.8/site-packages/PIL/Image.py:2911: DecompressionBombWarning: Image size (107299960 pixels) exceeds limit of 89478485 pixels, could be decompression bomb DOS attack.\n",
      "  warnings.warn(\n"
     ]
    },
    {
     "name": "stdout",
     "output_type": "stream",
     "text": [
      "LossGEN: 0.64874, LossRec: 0.4688, loss_G_GAN: 0.53446, loss_G_AC: 0.092942, LossDESCR GAN: 0.066367, tv_loss: 0.021338, LossDESCR Class: 3.6374\n"
     ]
    },
    {
     "name": "stderr",
     "output_type": "stream",
     "text": [
      "/home/ubuntu/miniconda3/envs/style_transfer/lib/python3.8/site-packages/PIL/Image.py:2911: DecompressionBombWarning: Image size (98118020 pixels) exceeds limit of 89478485 pixels, could be decompression bomb DOS attack.\n",
      "  warnings.warn(\n",
      "/home/ubuntu/miniconda3/envs/style_transfer/lib/python3.8/site-packages/PIL/Image.py:2911: DecompressionBombWarning: Image size (140150600 pixels) exceeds limit of 89478485 pixels, could be decompression bomb DOS attack.\n",
      "  warnings.warn(\n",
      "/home/ubuntu/miniconda3/envs/style_transfer/lib/python3.8/site-packages/PIL/Image.py:2911: DecompressionBombWarning: Image size (157156288 pixels) exceeds limit of 89478485 pixels, could be decompression bomb DOS attack.\n",
      "  warnings.warn(\n",
      "/home/ubuntu/miniconda3/envs/style_transfer/lib/python3.8/site-packages/PIL/Image.py:2911: DecompressionBombWarning: Image size (110218320 pixels) exceeds limit of 89478485 pixels, could be decompression bomb DOS attack.\n",
      "  warnings.warn(\n"
     ]
    },
    {
     "name": "stdout",
     "output_type": "stream",
     "text": [
      "LossGEN: 1.2942, LossRec: 1.9442, loss_G_GAN: 0.80583, loss_G_AC: 0.4786, LossDESCR GAN: 0.093248, tv_loss: 0.0097401, LossDESCR Class: 26.526\n"
     ]
    },
    {
     "name": "stderr",
     "output_type": "stream",
     "text": [
      "/home/ubuntu/miniconda3/envs/style_transfer/lib/python3.8/site-packages/PIL/Image.py:2911: DecompressionBombWarning: Image size (157393683 pixels) exceeds limit of 89478485 pixels, could be decompression bomb DOS attack.\n",
      "  warnings.warn(\n"
     ]
    },
    {
     "name": "stdout",
     "output_type": "stream",
     "text": [
      "LossGEN: 0.88436, LossRec: 1.7489, loss_G_GAN: 0.7818, loss_G_AC: 0.099771, LossDESCR GAN: 0.10771, tv_loss: 0.0027919, LossDESCR Class: 0.46416\n"
     ]
    },
    {
     "name": "stderr",
     "output_type": "stream",
     "text": [
      "/home/ubuntu/miniconda3/envs/style_transfer/lib/python3.8/site-packages/PIL/Image.py:2911: DecompressionBombWarning: Image size (97790784 pixels) exceeds limit of 89478485 pixels, could be decompression bomb DOS attack.\n",
      "  warnings.warn(\n",
      "/home/ubuntu/miniconda3/envs/style_transfer/lib/python3.8/site-packages/PIL/Image.py:2911: DecompressionBombWarning: Image size (97410768 pixels) exceeds limit of 89478485 pixels, could be decompression bomb DOS attack.\n",
      "  warnings.warn(\n",
      "/home/ubuntu/miniconda3/envs/style_transfer/lib/python3.8/site-packages/PIL/Image.py:2911: DecompressionBombWarning: Image size (157132750 pixels) exceeds limit of 89478485 pixels, could be decompression bomb DOS attack.\n",
      "  warnings.warn(\n",
      "/home/ubuntu/miniconda3/envs/style_transfer/lib/python3.8/site-packages/PIL/Image.py:2911: DecompressionBombWarning: Image size (105902132 pixels) exceeds limit of 89478485 pixels, could be decompression bomb DOS attack.\n",
      "  warnings.warn(\n",
      "/home/ubuntu/miniconda3/envs/style_transfer/lib/python3.8/site-packages/PIL/Image.py:2911: DecompressionBombWarning: Image size (156886163 pixels) exceeds limit of 89478485 pixels, could be decompression bomb DOS attack.\n",
      "  warnings.warn(\n"
     ]
    },
    {
     "name": "stdout",
     "output_type": "stream",
     "text": [
      "LossGEN: 1.0841, LossRec: 3.4055, loss_G_GAN: 0.85493, loss_G_AC: 0.20493, LossDESCR GAN: 0.14455, tv_loss: 0.024238, LossDESCR Class: 0.47363\n"
     ]
    },
    {
     "name": "stderr",
     "output_type": "stream",
     "text": [
      "/home/ubuntu/miniconda3/envs/style_transfer/lib/python3.8/site-packages/PIL/Image.py:2911: DecompressionBombWarning: Image size (156953044 pixels) exceeds limit of 89478485 pixels, could be decompression bomb DOS attack.\n",
      "  warnings.warn(\n",
      "/home/ubuntu/miniconda3/envs/style_transfer/lib/python3.8/site-packages/PIL/Image.py:2911: DecompressionBombWarning: Image size (100227840 pixels) exceeds limit of 89478485 pixels, could be decompression bomb DOS attack.\n",
      "  warnings.warn(\n",
      "/home/ubuntu/miniconda3/envs/style_transfer/lib/python3.8/site-packages/PIL/Image.py:2911: DecompressionBombWarning: Image size (113652502 pixels) exceeds limit of 89478485 pixels, could be decompression bomb DOS attack.\n",
      "  warnings.warn(\n"
     ]
    },
    {
     "name": "stdout",
     "output_type": "stream",
     "text": [
      "LossGEN: 1.3973, LossRec: 1.2946, loss_G_GAN: 0.77369, loss_G_AC: 0.62025, LossDESCR GAN: 0.027761, tv_loss: 0.0033221, LossDESCR Class: 0.090219\n"
     ]
    },
    {
     "name": "stderr",
     "output_type": "stream",
     "text": [
      "/home/ubuntu/miniconda3/envs/style_transfer/lib/python3.8/site-packages/PIL/Image.py:2911: DecompressionBombWarning: Image size (111621604 pixels) exceeds limit of 89478485 pixels, could be decompression bomb DOS attack.\n",
      "  warnings.warn(\n",
      "/home/ubuntu/miniconda3/envs/style_transfer/lib/python3.8/site-packages/PIL/Image.py:2911: DecompressionBombWarning: Image size (102599936 pixels) exceeds limit of 89478485 pixels, could be decompression bomb DOS attack.\n",
      "  warnings.warn(\n",
      "/home/ubuntu/miniconda3/envs/style_transfer/lib/python3.8/site-packages/PIL/Image.py:2911: DecompressionBombWarning: Image size (157423001 pixels) exceeds limit of 89478485 pixels, could be decompression bomb DOS attack.\n",
      "  warnings.warn(\n"
     ]
    },
    {
     "name": "stdout",
     "output_type": "stream",
     "text": [
      "LossGEN: 0.66275, LossRec: 0.84225, loss_G_GAN: 0.59928, loss_G_AC: 0.057939, LossDESCR GAN: 0.076326, tv_loss: 0.0055319, LossDESCR Class: 59.082\n"
     ]
    },
    {
     "name": "stderr",
     "output_type": "stream",
     "text": [
      "/home/ubuntu/miniconda3/envs/style_transfer/lib/python3.8/site-packages/PIL/Image.py:2911: DecompressionBombWarning: Image size (157154088 pixels) exceeds limit of 89478485 pixels, could be decompression bomb DOS attack.\n",
      "  warnings.warn(\n",
      "/home/ubuntu/miniconda3/envs/style_transfer/lib/python3.8/site-packages/PIL/Image.py:2911: DecompressionBombWarning: Image size (95215120 pixels) exceeds limit of 89478485 pixels, could be decompression bomb DOS attack.\n",
      "  warnings.warn(\n",
      "/home/ubuntu/miniconda3/envs/style_transfer/lib/python3.8/site-packages/PIL/Image.py:2911: DecompressionBombWarning: Image size (109902976 pixels) exceeds limit of 89478485 pixels, could be decompression bomb DOS attack.\n",
      "  warnings.warn(\n",
      "/home/ubuntu/miniconda3/envs/style_transfer/lib/python3.8/site-packages/PIL/Image.py:2911: DecompressionBombWarning: Image size (157587176 pixels) exceeds limit of 89478485 pixels, could be decompression bomb DOS attack.\n",
      "  warnings.warn(\n",
      "/home/ubuntu/miniconda3/envs/style_transfer/lib/python3.8/site-packages/PIL/Image.py:2911: DecompressionBombWarning: Image size (148262400 pixels) exceeds limit of 89478485 pixels, could be decompression bomb DOS attack.\n",
      "  warnings.warn(\n"
     ]
    },
    {
     "name": "stdout",
     "output_type": "stream",
     "text": [
      "LossGEN: 1.0553, LossRec: 1.2844, loss_G_GAN: 0.9973, loss_G_AC: 0.05431, LossDESCR GAN: 0.049234, tv_loss: 0.0037307, LossDESCR Class: 31.568\n"
     ]
    },
    {
     "name": "stderr",
     "output_type": "stream",
     "text": [
      "/home/ubuntu/miniconda3/envs/style_transfer/lib/python3.8/site-packages/PIL/Image.py:2911: DecompressionBombWarning: Image size (157338579 pixels) exceeds limit of 89478485 pixels, could be decompression bomb DOS attack.\n",
      "  warnings.warn(\n",
      "/home/ubuntu/miniconda3/envs/style_transfer/lib/python3.8/site-packages/PIL/Image.py:2911: DecompressionBombWarning: Image size (157016952 pixels) exceeds limit of 89478485 pixels, could be decompression bomb DOS attack.\n",
      "  warnings.warn(\n",
      "/home/ubuntu/miniconda3/envs/style_transfer/lib/python3.8/site-packages/PIL/Image.py:2911: DecompressionBombWarning: Image size (110487752 pixels) exceeds limit of 89478485 pixels, could be decompression bomb DOS attack.\n",
      "  warnings.warn(\n",
      "/home/ubuntu/miniconda3/envs/style_transfer/lib/python3.8/site-packages/PIL/Image.py:2911: DecompressionBombWarning: Image size (115288915 pixels) exceeds limit of 89478485 pixels, could be decompression bomb DOS attack.\n",
      "  warnings.warn(\n"
     ]
    },
    {
     "name": "stdout",
     "output_type": "stream",
     "text": [
      "LossGEN: 0.98355, LossRec: 1.0807, loss_G_GAN: 0.51125, loss_G_AC: 0.44353, LossDESCR GAN: 0.23016, tv_loss: 0.028769, LossDESCR Class: 1.0973\n"
     ]
    },
    {
     "name": "stderr",
     "output_type": "stream",
     "text": [
      "/home/ubuntu/miniconda3/envs/style_transfer/lib/python3.8/site-packages/PIL/Image.py:2911: DecompressionBombWarning: Image size (102304388 pixels) exceeds limit of 89478485 pixels, could be decompression bomb DOS attack.\n",
      "  warnings.warn(\n"
     ]
    },
    {
     "name": "stdout",
     "output_type": "stream",
     "text": [
      "====================\n",
      "EPOCH 2 (2021-08-17 17:30:50.560338)\n"
     ]
    },
    {
     "name": "stderr",
     "output_type": "stream",
     "text": [
      "/home/ubuntu/miniconda3/envs/style_transfer/lib/python3.8/site-packages/PIL/Image.py:2911: DecompressionBombWarning: Image size (145942116 pixels) exceeds limit of 89478485 pixels, could be decompression bomb DOS attack.\n",
      "  warnings.warn(\n"
     ]
    },
    {
     "name": "stdout",
     "output_type": "stream",
     "text": [
      "LossGEN: 0.71786, LossRec: 1.0745, loss_G_GAN: 0.70458, loss_G_AC: 0.0055238, LossDESCR GAN: 0.031363, tv_loss: 0.0077547, LossDESCR Class: 0.002017\n"
     ]
    },
    {
     "name": "stderr",
     "output_type": "stream",
     "text": [
      "/home/ubuntu/miniconda3/envs/style_transfer/lib/python3.8/site-packages/PIL/Image.py:2911: DecompressionBombWarning: Image size (102083333 pixels) exceeds limit of 89478485 pixels, could be decompression bomb DOS attack.\n",
      "  warnings.warn(\n",
      "/home/ubuntu/miniconda3/envs/style_transfer/lib/python3.8/site-packages/PIL/Image.py:2911: DecompressionBombWarning: Image size (96038488 pixels) exceeds limit of 89478485 pixels, could be decompression bomb DOS attack.\n",
      "  warnings.warn(\n"
     ]
    },
    {
     "name": "stdout",
     "output_type": "stream",
     "text": [
      "LossGEN: 0.94119, LossRec: 0.84115, loss_G_GAN: 0.53824, loss_G_AC: 0.38438, LossDESCR GAN: 0.1151, tv_loss: 0.018561, LossDESCR Class: 1.5987\n"
     ]
    },
    {
     "name": "stderr",
     "output_type": "stream",
     "text": [
      "/home/ubuntu/miniconda3/envs/style_transfer/lib/python3.8/site-packages/PIL/Image.py:2911: DecompressionBombWarning: Image size (157295103 pixels) exceeds limit of 89478485 pixels, could be decompression bomb DOS attack.\n",
      "  warnings.warn(\n",
      "/home/ubuntu/miniconda3/envs/style_transfer/lib/python3.8/site-packages/PIL/Image.py:2911: DecompressionBombWarning: Image size (157099800 pixels) exceeds limit of 89478485 pixels, could be decompression bomb DOS attack.\n",
      "  warnings.warn(\n",
      "/home/ubuntu/miniconda3/envs/style_transfer/lib/python3.8/site-packages/PIL/Image.py:2911: DecompressionBombWarning: Image size (103106169 pixels) exceeds limit of 89478485 pixels, could be decompression bomb DOS attack.\n",
      "  warnings.warn(\n"
     ]
    },
    {
     "name": "stdout",
     "output_type": "stream",
     "text": [
      "LossGEN: 2.998, LossRec: 1.247, loss_G_GAN: 0.37165, loss_G_AC: 2.6107, LossDESCR GAN: 0.44671, tv_loss: 0.015635, LossDESCR Class: 16.744\n"
     ]
    },
    {
     "name": "stderr",
     "output_type": "stream",
     "text": [
      "/home/ubuntu/miniconda3/envs/style_transfer/lib/python3.8/site-packages/PIL/Image.py:2911: DecompressionBombWarning: Image size (157562825 pixels) exceeds limit of 89478485 pixels, could be decompression bomb DOS attack.\n",
      "  warnings.warn(\n",
      "/home/ubuntu/miniconda3/envs/style_transfer/lib/python3.8/site-packages/PIL/Image.py:2911: DecompressionBombWarning: Image size (116600327 pixels) exceeds limit of 89478485 pixels, could be decompression bomb DOS attack.\n",
      "  warnings.warn(\n"
     ]
    },
    {
     "name": "stdout",
     "output_type": "stream",
     "text": [
      "LossGEN: 0.84855, LossRec: 0.63184, loss_G_GAN: 0.79943, loss_G_AC: 0.019312, LossDESCR GAN: 0.069482, tv_loss: 0.029809, LossDESCR Class: 0.28581\n"
     ]
    },
    {
     "name": "stderr",
     "output_type": "stream",
     "text": [
      "/home/ubuntu/miniconda3/envs/style_transfer/lib/python3.8/site-packages/PIL/Image.py:2911: DecompressionBombWarning: Image size (157132654 pixels) exceeds limit of 89478485 pixels, could be decompression bomb DOS attack.\n",
      "  warnings.warn(\n",
      "/home/ubuntu/miniconda3/envs/style_transfer/lib/python3.8/site-packages/PIL/Image.py:2911: DecompressionBombWarning: Image size (112703077 pixels) exceeds limit of 89478485 pixels, could be decompression bomb DOS attack.\n",
      "  warnings.warn(\n",
      "/home/ubuntu/miniconda3/envs/style_transfer/lib/python3.8/site-packages/PIL/Image.py:2911: DecompressionBombWarning: Image size (117273600 pixels) exceeds limit of 89478485 pixels, could be decompression bomb DOS attack.\n",
      "  warnings.warn(\n",
      "/home/ubuntu/miniconda3/envs/style_transfer/lib/python3.8/site-packages/PIL/Image.py:2911: DecompressionBombWarning: Image size (157478720 pixels) exceeds limit of 89478485 pixels, could be decompression bomb DOS attack.\n",
      "  warnings.warn(\n",
      "/home/ubuntu/miniconda3/envs/style_transfer/lib/python3.8/site-packages/PIL/Image.py:2911: DecompressionBombWarning: Image size (115733552 pixels) exceeds limit of 89478485 pixels, could be decompression bomb DOS attack.\n",
      "  warnings.warn(\n",
      "/home/ubuntu/miniconda3/envs/style_transfer/lib/python3.8/site-packages/PIL/Image.py:2911: DecompressionBombWarning: Image size (101777775 pixels) exceeds limit of 89478485 pixels, could be decompression bomb DOS attack.\n",
      "  warnings.warn(\n",
      "/home/ubuntu/miniconda3/envs/style_transfer/lib/python3.8/site-packages/PIL/Image.py:2911: DecompressionBombWarning: Image size (157498175 pixels) exceeds limit of 89478485 pixels, could be decompression bomb DOS attack.\n",
      "  warnings.warn(\n",
      "/home/ubuntu/miniconda3/envs/style_transfer/lib/python3.8/site-packages/PIL/Image.py:2911: DecompressionBombWarning: Image size (112143611 pixels) exceeds limit of 89478485 pixels, could be decompression bomb DOS attack.\n",
      "  warnings.warn(\n"
     ]
    },
    {
     "name": "stdout",
     "output_type": "stream",
     "text": [
      "LossGEN: 1.1266, LossRec: 0.92258, loss_G_GAN: 1.0704, loss_G_AC: 0.037405, LossDESCR GAN: 0.088055, tv_loss: 0.018786, LossDESCR Class: 0.014384\n"
     ]
    },
    {
     "name": "stderr",
     "output_type": "stream",
     "text": [
      "/home/ubuntu/miniconda3/envs/style_transfer/lib/python3.8/site-packages/PIL/Image.py:2911: DecompressionBombWarning: Image size (157359384 pixels) exceeds limit of 89478485 pixels, could be decompression bomb DOS attack.\n",
      "  warnings.warn(\n",
      "/home/ubuntu/miniconda3/envs/style_transfer/lib/python3.8/site-packages/PIL/Image.py:2911: DecompressionBombWarning: Image size (103960356 pixels) exceeds limit of 89478485 pixels, could be decompression bomb DOS attack.\n",
      "  warnings.warn(\n",
      "/home/ubuntu/miniconda3/envs/style_transfer/lib/python3.8/site-packages/PIL/Image.py:2911: DecompressionBombWarning: Image size (157348938 pixels) exceeds limit of 89478485 pixels, could be decompression bomb DOS attack.\n",
      "  warnings.warn(\n",
      "/home/ubuntu/miniconda3/envs/style_transfer/lib/python3.8/site-packages/PIL/Image.py:2911: DecompressionBombWarning: Image size (97326320 pixels) exceeds limit of 89478485 pixels, could be decompression bomb DOS attack.\n",
      "  warnings.warn(\n",
      "/home/ubuntu/miniconda3/envs/style_transfer/lib/python3.8/site-packages/PIL/Image.py:2911: DecompressionBombWarning: Image size (111990450 pixels) exceeds limit of 89478485 pixels, could be decompression bomb DOS attack.\n",
      "  warnings.warn(\n",
      "/home/ubuntu/miniconda3/envs/style_transfer/lib/python3.8/site-packages/PIL/Image.py:2911: DecompressionBombWarning: Image size (157348938 pixels) exceeds limit of 89478485 pixels, could be decompression bomb DOS attack.\n",
      "  warnings.warn(\n",
      "/home/ubuntu/miniconda3/envs/style_transfer/lib/python3.8/site-packages/PIL/Image.py:2911: DecompressionBombWarning: Image size (145942116 pixels) exceeds limit of 89478485 pixels, could be decompression bomb DOS attack.\n",
      "  warnings.warn(\n"
     ]
    },
    {
     "name": "stdout",
     "output_type": "stream",
     "text": [
      "LossGEN: 0.71914, LossRec: 0.94019, loss_G_GAN: 0.60316, loss_G_AC: 0.099838, LossDESCR GAN: 0.19999, tv_loss: 0.016142, LossDESCR Class: 0.030693\n"
     ]
    },
    {
     "name": "stderr",
     "output_type": "stream",
     "text": [
      "/home/ubuntu/miniconda3/envs/style_transfer/lib/python3.8/site-packages/PIL/Image.py:2911: DecompressionBombWarning: Image size (157541130 pixels) exceeds limit of 89478485 pixels, could be decompression bomb DOS attack.\n",
      "  warnings.warn(\n",
      "/home/ubuntu/miniconda3/envs/style_transfer/lib/python3.8/site-packages/PIL/Image.py:2911: DecompressionBombWarning: Image size (99683804 pixels) exceeds limit of 89478485 pixels, could be decompression bomb DOS attack.\n",
      "  warnings.warn(\n",
      "/home/ubuntu/miniconda3/envs/style_transfer/lib/python3.8/site-packages/PIL/Image.py:2911: DecompressionBombWarning: Image size (97357988 pixels) exceeds limit of 89478485 pixels, could be decompression bomb DOS attack.\n",
      "  warnings.warn(\n"
     ]
    },
    {
     "name": "stdout",
     "output_type": "stream",
     "text": [
      "LossGEN: 0.17954, LossRec: 0.88115, loss_G_GAN: 0.10725, loss_G_AC: 0.038727, LossDESCR GAN: 0.071498, tv_loss: 0.033565, LossDESCR Class: 0.02586\n"
     ]
    }
   ],
   "source": [
    "from datetime import datetime\n",
    "Path(\"output\").mkdir(exist_ok=True)\n",
    "### TRAIN LOOP\n",
    "for epoch in range(epoch, n_epochs):\n",
    "    print(f\"EPOCH {epoch} ({datetime.now()})\")\n",
    "    for i, batch in enumerate(dataloader):\n",
    "        ## Unpack minibatch\n",
    "        # source content\n",
    "        real_content = Variable(input_A.copy_(batch['content']))\n",
    "        # target style\n",
    "        real_style = Variable(input_B.copy_(batch['style']))\n",
    "        # style label\n",
    "        style_label = batch['style_label']\n",
    "        # one-hot encoded style\n",
    "        style_OHE = F.one_hot(style_label,n_styles).long()\n",
    "        # style Label mapped over 1x19x19 tensor for patch discriminator \n",
    "        class_label = class_label_B.copy_(label2tensor(style_label,class_label_B)).long()\n",
    "        \n",
    "        #### Update Discriminator\n",
    "        optimizer_D.zero_grad()\n",
    "        \n",
    "        # Generate style-transfered image\n",
    "        genfake = generator({\n",
    "            'content':real_content,\n",
    "            'style_label': style_OHE})\n",
    "        \n",
    "        # Add generated image to image pool and randomly sample pool \n",
    "        fake = fake_buffer.push_and_pop(genfake)\n",
    "        # Discriminator forward pass with sampled fake \n",
    "        out_gan, out_class = discriminator(fake)\n",
    "        # Discriminator Fake loss (correctly identify generated images)\n",
    "        errD_fake = criterion_GAN(out_gan, fake_label)\n",
    "        # Backward pass and parameter optimization\n",
    "        errD_fake.backward()\n",
    "        optimizer_D.step()\n",
    "        \n",
    "        optimizer_D.zero_grad()\n",
    "        # Discriminator forward pass with target style\n",
    "        out_gan, out_class = discriminator(real_style)\n",
    "        # Discriminator Style Classification loss\n",
    "        errD_real_class = criterion_ACGAN(out_class.transpose(1,3),class_label)*lambda_A\n",
    "        # Discriminator Real loss (correctly identify real style images)\n",
    "        errD_real = criterion_GAN(out_gan, real_label)        \n",
    "        errD_real_total = errD_real + errD_real_class\n",
    "        # Backward pass and parameter optimization\n",
    "        errD_real_total.backward()\n",
    "        optimizer_D.step()\n",
    "        \n",
    "        \n",
    "        errD = (errD_real+errD_fake)/2.0\n",
    "        \n",
    "                \n",
    "        #### Generator Update\n",
    "        ## Style Transfer Loss\n",
    "        optimizer_G.zero_grad()\n",
    "        \n",
    "        # Discriminator forward pass with generated style transfer\n",
    "        out_gan, out_class = discriminator(genfake)\n",
    "        \n",
    "        # Generator gan (real/fake) loss\n",
    "        err_gan = criterion_GAN(out_gan, real_label)\n",
    "        # Generator style class loss\n",
    "        err_class = criterion_ACGAN(out_class.transpose(1,3), class_label)*lambda_A\n",
    "        # Total Variation loss\n",
    "        err_TV = criterion_TV(genfake)\n",
    "        \n",
    "        errG_tot = err_gan + err_class + err_TV \n",
    "        \n",
    "        errG_tot.backward()\n",
    "        optimizer_G.step()\n",
    "        \n",
    "        ## Auto-Encoder (Recreation) Loss\n",
    "        optimizer_G.zero_grad()\n",
    "        identity = generator({\n",
    "            'content': real_content,\n",
    "            'style_label': autoflag_OHE,\n",
    "        })\n",
    "        err_ae = criterion_Rec(identity,real_content)*autoencoder_constrain\n",
    "        err_ae.backward()\n",
    "        optimizer_G.step()\n",
    "        \n",
    "        \n",
    "        #Progress report (port 8097)\n",
    "#         logger.log({'Generator Loss': errG_tot,\n",
    "#                     'Reconstruction Loss': err_ae,\n",
    "#                     'loss_G_GAN': err_gan,\n",
    "#                     'loss_G_AC': err_class,\n",
    "#                     'Discriminator GAN Loss': errD,\n",
    "#                     'tv_loss':err_TV,\n",
    "#                     'Discriminator Class Loss': errD_real_class}, \n",
    "#                     images={'content': real_content,\n",
    "#                             'style': real_style,\n",
    "#                             'transfer': genfake,\n",
    "#                             'auto-reconstruction':identity})\n",
    "        if i % 50 == 0:\n",
    "            print(\n",
    "                f\"LossGEN: {float(errG_tot):.5}, \" +\n",
    "                f\"LossRec: {float(err_ae):.5}, \" +\n",
    "                f\"loss_G_GAN: {float(err_gan):.5}, \" +\n",
    "                f\"loss_G_AC: {float(err_class):.5}, \" +\n",
    "                f\"LossDESCR GAN: {float(errD):.5}, \" +\n",
    "                f\"tv_loss: {float(err_TV):.5}, \" +\n",
    "                f\"LossDESCR Class: {float(errD_real_class):.5}\"\n",
    "            )\n",
    "\n",
    "    ##update learning rates\n",
    "    lr_scheduler_G.step()\n",
    "    lr_scheduler_D.step()\n",
    "    \n",
    "    #Save model\n",
    "    torch.save(generator.state_dict(), f'output/netG_{epoch}.pth')\n",
    "    torch.save(discriminator.state_dict(), f'output/netD_{epoch}.pth')\n",
    "    print(\"=\" * 20)\n",
    "\n",
    "        \n"
   ]
  }
 ],
 "metadata": {
  "kernelspec": {
   "display_name": "Python 3 (ipykernel)",
   "language": "python",
   "name": "python3"
  },
  "language_info": {
   "codemirror_mode": {
    "name": "ipython",
    "version": 3
   },
   "file_extension": ".py",
   "mimetype": "text/x-python",
   "name": "python",
   "nbconvert_exporter": "python",
   "pygments_lexer": "ipython3",
   "version": "3.8.11"
  }
 },
 "nbformat": 4,
 "nbformat_minor": 2
}
